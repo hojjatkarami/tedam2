{
 "cells": [
  {
   "cell_type": "code",
   "execution_count": 7,
   "metadata": {},
   "outputs": [],
   "source": [
    "# activate line execution\n",
    "from IPython.core.interactiveshell import InteractiveShell\n",
    "InteractiveShell.ast_node_interactivity = \"all\"\n",
    "\n",
    "# plotly\n",
    "import plotly.express as px  # (version 4.7.0 or higher)\n",
    "import plotly.graph_objects as go\n",
    "from plotly.subplots import make_subplots"
   ]
  },
  {
   "cell_type": "code",
   "execution_count": 8,
   "metadata": {},
   "outputs": [],
   "source": [
    "import pandas as pd \n",
    "import wandb\n",
    "api = wandb.Api()\n",
    "\n",
    "# Project is specified by <entity/project-name>\n",
    "runs = api.runs(\"hokarami/TEDAM3\")\n",
    "\n",
    "summary_list, config_list, name_list = [], [], []\n",
    "for run in runs: \n",
    "    # .summary contains the output keys/values for metrics like accuracy.\n",
    "    #  We call ._json_dict to omit large files \n",
    "    summary_list.append(run.summary._json_dict)\n",
    "\n",
    "    # .config contains the hyperparameters.\n",
    "    #  We remove special values that start with _.\n",
    "    config_list.append(\n",
    "        {k: v for k,v in run.config.items()\n",
    "          if not k.startswith('_')})\n",
    "\n",
    "    # .name is the human-readable name of the run.\n",
    "    name_list.append(run.name)\n",
    "\n",
    "runs_df = pd.DataFrame({\n",
    "    \"summary\": summary_list,\n",
    "    \"config\": config_list,\n",
    "    \"name\": name_list\n",
    "    })\n",
    "\n",
    "runs_df.to_csv(\"project.csv\")"
   ]
  },
  {
   "cell_type": "code",
   "execution_count": 9,
   "metadata": {},
   "outputs": [
    {
     "data": {
      "text/html": [
       "<div>\n",
       "<style scoped>\n",
       "    .dataframe tbody tr th:only-of-type {\n",
       "        vertical-align: middle;\n",
       "    }\n",
       "\n",
       "    .dataframe tbody tr th {\n",
       "        vertical-align: top;\n",
       "    }\n",
       "\n",
       "    .dataframe thead th {\n",
       "        text-align: right;\n",
       "    }\n",
       "</style>\n",
       "<table border=\"1\" class=\"dataframe\">\n",
       "  <thead>\n",
       "    <tr style=\"text-align: right;\">\n",
       "      <th></th>\n",
       "      <th>summary</th>\n",
       "      <th>config</th>\n",
       "      <th>name</th>\n",
       "    </tr>\n",
       "  </thead>\n",
       "  <tbody>\n",
       "    <tr>\n",
       "      <th>120</th>\n",
       "      <td>{'Valid-pred_label/AUROC': 0.9709441764300482,...</td>\n",
       "      <td>{'w': [1, 1, 1, 1, 1, 1, 1, 1, 1, 1, 1, 1, 1, ...</td>\n",
       "      <td>[R2-mc1]TEDA__shpmarklabel-1147879</td>\n",
       "    </tr>\n",
       "    <tr>\n",
       "      <th>121</th>\n",
       "      <td>{'Test-pred_label/loss': 0, 'Valid-pred_label/...</td>\n",
       "      <td>{'w': [1, 1, 1, 1, 1, 1, 1, 1, 1, 1, 1, 1, 1, ...</td>\n",
       "      <td>[R2-mc1]TEDA__shpmarklabel-1147879</td>\n",
       "    </tr>\n",
       "    <tr>\n",
       "      <th>122</th>\n",
       "      <td>{'Test-pred_label/loss': 0, 'Valid-pred_label/...</td>\n",
       "      <td>{'w': [1, 1, 1, 1, 1, 1, 1, 1, 1, 1, 1, 1, 1, ...</td>\n",
       "      <td>[R2-mc1]TEDA__shpmarklabel-1147879</td>\n",
       "    </tr>\n",
       "    <tr>\n",
       "      <th>123</th>\n",
       "      <td>{'Train-pred_label/AUPRC': 0.9614611373558438,...</td>\n",
       "      <td>{'w': [1, 1, 1, 1, 1, 1, 1, 1, 1, 1, 1, 1, 1, ...</td>\n",
       "      <td>[R2-mc1]TEDA__shpmarklabel-1147879</td>\n",
       "    </tr>\n",
       "    <tr>\n",
       "      <th>124</th>\n",
       "      <td>{'Train-pred_label/f1-binary': 0.9142826586813...</td>\n",
       "      <td>{'w': [1, 1, 1, 1, 1, 1, 1, 1, 1, 1, 1, 1, 1, ...</td>\n",
       "      <td>[R2-mc1]TEDA__shpmarklabel-1147879</td>\n",
       "    </tr>\n",
       "    <tr>\n",
       "      <th>140</th>\n",
       "      <td>{'Valid-CIF/NLL': 1626.0362548828125, 'Train-N...</td>\n",
       "      <td>{'w': [1, 1, 1, 1, 1, 1, 1, 1, 1, 1, 1, 1, 1, ...</td>\n",
       "      <td>[R2-mc1]TEDA__shpmarklabel-1146925</td>\n",
       "    </tr>\n",
       "    <tr>\n",
       "      <th>141</th>\n",
       "      <td>{'Train-pred_label/AUPRC': 0.9790106725641492,...</td>\n",
       "      <td>{'w': [1, 1, 1, 1, 1, 1, 1, 1, 1, 1, 1, 1, 1, ...</td>\n",
       "      <td>[R2-mc1]TEDA__shpmarklabel-1146925</td>\n",
       "    </tr>\n",
       "    <tr>\n",
       "      <th>142</th>\n",
       "      <td>{'Valid-NextType(ML)/precision-weighted': 0.60...</td>\n",
       "      <td>{'w': [1, 1, 1, 1, 1, 1, 1, 1, 1, 1, 1, 1, 1, ...</td>\n",
       "      <td>[R2-mc1]TEDA__shpmarklabel-1146925</td>\n",
       "    </tr>\n",
       "    <tr>\n",
       "      <th>143</th>\n",
       "      <td>{'Best-Test-pred_label/AUPRC': 0.8660379757164...</td>\n",
       "      <td>{'w': [1, 1, 1, 1, 1, 1, 1, 1, 1, 1, 1, 1, 1, ...</td>\n",
       "      <td>[R2-mc1]TEDA__shpmarklabel-1146925</td>\n",
       "    </tr>\n",
       "    <tr>\n",
       "      <th>144</th>\n",
       "      <td>{'Valid-CIF/NLL': -7888.9765625, 'Test-pred_la...</td>\n",
       "      <td>{'w': [1, 1, 1, 1, 1, 1, 1, 1, 1, 1, 1, 1, 1, ...</td>\n",
       "      <td>[R2-mc1]TEDA__shpmarklabel-1146925</td>\n",
       "    </tr>\n",
       "    <tr>\n",
       "      <th>145</th>\n",
       "      <td>{'Obj': 0.8301886792452831, 'time-Time/train_e...</td>\n",
       "      <td>{'w': [1, 1, 1, 1, 1, 1, 1, 1, 1, 1, 1, 1, 1, ...</td>\n",
       "      <td>[R2-mc1]DA__label-1146299</td>\n",
       "    </tr>\n",
       "    <tr>\n",
       "      <th>146</th>\n",
       "      <td>{'Test-NextTime/msae': 1.6459291779612837, 'Va...</td>\n",
       "      <td>{'w': [1, 1, 1, 1, 1, 1, 1, 1, 1, 1, 1, 1, 1, ...</td>\n",
       "      <td>[R2-mc1]DA__label-1146299</td>\n",
       "    </tr>\n",
       "    <tr>\n",
       "      <th>147</th>\n",
       "      <td>{'_runtime': 6180.145882606506, 'Test-pred_lab...</td>\n",
       "      <td>{'w': [1, 1, 1, 1, 1, 1, 1, 1, 1, 1, 1, 1, 1, ...</td>\n",
       "      <td>[R2-mc1]DA__label-1146299</td>\n",
       "    </tr>\n",
       "    <tr>\n",
       "      <th>148</th>\n",
       "      <td>{'_timestamp': 1673291557.7249606, 'Best-Test-...</td>\n",
       "      <td>{'w': [1, 1, 1, 1, 1, 1, 1, 1, 1, 1, 1, 1, 1, ...</td>\n",
       "      <td>[R2-mc1]DA__label-1146299</td>\n",
       "    </tr>\n",
       "    <tr>\n",
       "      <th>149</th>\n",
       "      <td>{'status': 'completed', '_timestamp': 16732915...</td>\n",
       "      <td>{'w': [1, 1, 1, 1, 1, 1, 1, 1, 1, 1, 1, 1, 1, ...</td>\n",
       "      <td>[R2-mc1]DA__label-1146299</td>\n",
       "    </tr>\n",
       "    <tr>\n",
       "      <th>150</th>\n",
       "      <td>{'Test-pred_label/recall-binary': 0.9615384615...</td>\n",
       "      <td>{'w': [1, 1, 1, 1, 1, 1, 1, 1, 1, 1, 1, 1, 1, ...</td>\n",
       "      <td>[R2-mc1]DA__label-1145732</td>\n",
       "    </tr>\n",
       "    <tr>\n",
       "      <th>151</th>\n",
       "      <td>{'Train-NextTime/rmse_norm': 1.024808097552419...</td>\n",
       "      <td>{'w': [1, 1, 1, 1, 1, 1, 1, 1, 1, 1, 1, 1, 1, ...</td>\n",
       "      <td>[R2-mc1]DA__label-1145732</td>\n",
       "    </tr>\n",
       "    <tr>\n",
       "      <th>152</th>\n",
       "      <td>{'Obj': 0.7557251908396946, 'Best-Valid-pred_l...</td>\n",
       "      <td>{'w': [1, 1, 1, 1, 1, 1, 1, 1, 1, 1, 1, 1, 1, ...</td>\n",
       "      <td>[R2-mc1]DA__label-1145732</td>\n",
       "    </tr>\n",
       "    <tr>\n",
       "      <th>153</th>\n",
       "      <td>{'_wandb': {'runtime': 5573}, 'status': 'compl...</td>\n",
       "      <td>{'w': [1, 1, 1, 1, 1, 1, 1, 1, 1, 1, 1, 1, 1, ...</td>\n",
       "      <td>[R2-mc1]DA__label-1145732</td>\n",
       "    </tr>\n",
       "    <tr>\n",
       "      <th>154</th>\n",
       "      <td>{'Valid-NextTime/msae': 1.6730210422412504, 't...</td>\n",
       "      <td>{'w': [1, 1, 1, 1, 1, 1, 1, 1, 1, 1, 1, 1, 1, ...</td>\n",
       "      <td>[R2-mc1]DA__label-1145732</td>\n",
       "    </tr>\n",
       "    <tr>\n",
       "      <th>155</th>\n",
       "      <td>{'Test-pred_label/loss': 0, 'Test-NextTime/rms...</td>\n",
       "      <td>{'w': [1, 1, 1, 1, 1, 1, 1, 1, 1, 1, 1, 1, 1, ...</td>\n",
       "      <td>[R2-sc]TEDA__shpmarklabel-1145368</td>\n",
       "    </tr>\n",
       "    <tr>\n",
       "      <th>156</th>\n",
       "      <td>{'Valid-CIF/NLL-#events': 0.8754056564140327, ...</td>\n",
       "      <td>{'w': [1, 1, 1, 1, 1, 1, 1, 1, 1, 1, 1, 1, 1, ...</td>\n",
       "      <td>[R2-sc]TEDA__shpmarklabel-1145368</td>\n",
       "    </tr>\n",
       "    <tr>\n",
       "      <th>157</th>\n",
       "      <td>{'Train-CIF/#events': 143956, 'Train-pred_labe...</td>\n",
       "      <td>{'w': [1, 1, 1, 1, 1, 1, 1, 1, 1, 1, 1, 1, 1, ...</td>\n",
       "      <td>[R2-sc]TEDA__shpmarklabel-1145368</td>\n",
       "    </tr>\n",
       "    <tr>\n",
       "      <th>158</th>\n",
       "      <td>{'Valid-NextType(ML)/auc-ovo-weighted': 0.8411...</td>\n",
       "      <td>{'w': [1, 1, 1, 1, 1, 1, 1, 1, 1, 1, 1, 1, 1, ...</td>\n",
       "      <td>[R2-sc]TEDA__shpmarklabel-1145368</td>\n",
       "    </tr>\n",
       "    <tr>\n",
       "      <th>159</th>\n",
       "      <td>{'_timestamp': 1673279720.1602502, 'time-Time/...</td>\n",
       "      <td>{'w': [1, 1, 1, 1, 1, 1, 1, 1, 1, 1, 1, 1, 1, ...</td>\n",
       "      <td>[R2-sc]TEDA__shpmarklabel-1145368</td>\n",
       "    </tr>\n",
       "    <tr>\n",
       "      <th>160</th>\n",
       "      <td>{'Train-NextTime/rmse_norm': 0.919211937440752...</td>\n",
       "      <td>{'w': [1, 1, 1, 1, 1, 1, 1, 1, 1, 1, 1, 1, 1, ...</td>\n",
       "      <td>[R2-sc]TEDA__shpmarklabel-1144922</td>\n",
       "    </tr>\n",
       "    <tr>\n",
       "      <th>161</th>\n",
       "      <td>{'Train-NextTime/rmse_norm': 0.866818486917159...</td>\n",
       "      <td>{'w': [1, 1, 1, 1, 1, 1, 1, 1, 1, 1, 1, 1, 1, ...</td>\n",
       "      <td>[R2-sc]TEDA__shpmarklabel-1144922</td>\n",
       "    </tr>\n",
       "    <tr>\n",
       "      <th>162</th>\n",
       "      <td>{'_step': 38, 'Train-CIF/#events': 235890, 'Be...</td>\n",
       "      <td>{'w': [1, 1, 1, 1, 1, 1, 1, 1, 1, 1, 1, 1, 1, ...</td>\n",
       "      <td>[R2-sc]TEDA__shpmarklabel-1144922</td>\n",
       "    </tr>\n",
       "    <tr>\n",
       "      <th>163</th>\n",
       "      <td>{'Test-NextTime/msae': 1.3422969041773227, 'Va...</td>\n",
       "      <td>{'w': [1, 1, 1, 1, 1, 1, 1, 1, 1, 1, 1, 1, 1, ...</td>\n",
       "      <td>[R2-sc]TEDA__shpmarklabel-1144922</td>\n",
       "    </tr>\n",
       "    <tr>\n",
       "      <th>164</th>\n",
       "      <td>{'_runtime': 3386.615584373474, 'Train-pred_la...</td>\n",
       "      <td>{'w': [1, 1, 1, 1, 1, 1, 1, 1, 1, 1, 1, 1, 1, ...</td>\n",
       "      <td>[R2-sc]TEDA__shpmarklabel-1144922</td>\n",
       "    </tr>\n",
       "    <tr>\n",
       "      <th>165</th>\n",
       "      <td>{'Test-pred_label/AUPRC': 0.6470915155570754, ...</td>\n",
       "      <td>{'w': [1, 1, 1, 1, 1, 1, 1, 1, 1, 1, 1, 1, 1, ...</td>\n",
       "      <td>[R2-sc]DA__label-1144731</td>\n",
       "    </tr>\n",
       "    <tr>\n",
       "      <th>166</th>\n",
       "      <td>{'Test-pred_label/loss': 0, 'Train-pred_label/...</td>\n",
       "      <td>{'w': [1, 1, 1, 1, 1, 1, 1, 1, 1, 1, 1, 1, 1, ...</td>\n",
       "      <td>[R2-sc]DA__label-1144731</td>\n",
       "    </tr>\n",
       "    <tr>\n",
       "      <th>167</th>\n",
       "      <td>{'Test-NextTime/msae': 1.6677892543383794, 'Te...</td>\n",
       "      <td>{'w': [1, 1, 1, 1, 1, 1, 1, 1, 1, 1, 1, 1, 1, ...</td>\n",
       "      <td>[R2-sc]DA__label-1144731</td>\n",
       "    </tr>\n",
       "    <tr>\n",
       "      <th>168</th>\n",
       "      <td>{'Valid-pred_label/AUROC': 0.90263266712612, '...</td>\n",
       "      <td>{'w': [1, 1, 1, 1, 1, 1, 1, 1, 1, 1, 1, 1, 1, ...</td>\n",
       "      <td>[R2-sc]DA__label-1144731</td>\n",
       "    </tr>\n",
       "    <tr>\n",
       "      <th>169</th>\n",
       "      <td>{'Valid-pred_label/AUPRC': 0.6957808672098718,...</td>\n",
       "      <td>{'w': [1, 1, 1, 1, 1, 1, 1, 1, 1, 1, 1, 1, 1, ...</td>\n",
       "      <td>[R2-sc]DA__label-1144731</td>\n",
       "    </tr>\n",
       "    <tr>\n",
       "      <th>170</th>\n",
       "      <td>{'Test-NextTime/rmse_norm': 0.9776570758191754...</td>\n",
       "      <td>{'w': [1, 1, 1, 1, 1, 1, 1, 1, 1, 1, 1, 1, 1, ...</td>\n",
       "      <td>[R2-sc]DA__label-1144546</td>\n",
       "    </tr>\n",
       "    <tr>\n",
       "      <th>171</th>\n",
       "      <td>{'_step': 39, 'Test-pred_label/AUROC': 0.91081...</td>\n",
       "      <td>{'w': [1, 1, 1, 1, 1, 1, 1, 1, 1, 1, 1, 1, 1, ...</td>\n",
       "      <td>[R2-sc]DA__label-1144546</td>\n",
       "    </tr>\n",
       "    <tr>\n",
       "      <th>172</th>\n",
       "      <td>{'Train-pred_label/precision-binary': 0.928001...</td>\n",
       "      <td>{'w': [1, 1, 1, 1, 1, 1, 1, 1, 1, 1, 1, 1, 1, ...</td>\n",
       "      <td>[R2-sc]DA__label-1144546</td>\n",
       "    </tr>\n",
       "    <tr>\n",
       "      <th>173</th>\n",
       "      <td>{'Best-Test-pred_label/f1-binary': 0.684073107...</td>\n",
       "      <td>{'w': [1, 1, 1, 1, 1, 1, 1, 1, 1, 1, 1, 1, 1, ...</td>\n",
       "      <td>[R2-sc]DA__label-1144546</td>\n",
       "    </tr>\n",
       "    <tr>\n",
       "      <th>174</th>\n",
       "      <td>{'_wandb': {'runtime': 1812}, 'Best-Test-pred_...</td>\n",
       "      <td>{'w': [1, 1, 1, 1, 1, 1, 1, 1, 1, 1, 1, 1, 1, ...</td>\n",
       "      <td>[R2-sc]DA__label-1144546</td>\n",
       "    </tr>\n",
       "  </tbody>\n",
       "</table>\n",
       "</div>"
      ],
      "text/plain": [
       "                                               summary  \\\n",
       "120  {'Valid-pred_label/AUROC': 0.9709441764300482,...   \n",
       "121  {'Test-pred_label/loss': 0, 'Valid-pred_label/...   \n",
       "122  {'Test-pred_label/loss': 0, 'Valid-pred_label/...   \n",
       "123  {'Train-pred_label/AUPRC': 0.9614611373558438,...   \n",
       "124  {'Train-pred_label/f1-binary': 0.9142826586813...   \n",
       "140  {'Valid-CIF/NLL': 1626.0362548828125, 'Train-N...   \n",
       "141  {'Train-pred_label/AUPRC': 0.9790106725641492,...   \n",
       "142  {'Valid-NextType(ML)/precision-weighted': 0.60...   \n",
       "143  {'Best-Test-pred_label/AUPRC': 0.8660379757164...   \n",
       "144  {'Valid-CIF/NLL': -7888.9765625, 'Test-pred_la...   \n",
       "145  {'Obj': 0.8301886792452831, 'time-Time/train_e...   \n",
       "146  {'Test-NextTime/msae': 1.6459291779612837, 'Va...   \n",
       "147  {'_runtime': 6180.145882606506, 'Test-pred_lab...   \n",
       "148  {'_timestamp': 1673291557.7249606, 'Best-Test-...   \n",
       "149  {'status': 'completed', '_timestamp': 16732915...   \n",
       "150  {'Test-pred_label/recall-binary': 0.9615384615...   \n",
       "151  {'Train-NextTime/rmse_norm': 1.024808097552419...   \n",
       "152  {'Obj': 0.7557251908396946, 'Best-Valid-pred_l...   \n",
       "153  {'_wandb': {'runtime': 5573}, 'status': 'compl...   \n",
       "154  {'Valid-NextTime/msae': 1.6730210422412504, 't...   \n",
       "155  {'Test-pred_label/loss': 0, 'Test-NextTime/rms...   \n",
       "156  {'Valid-CIF/NLL-#events': 0.8754056564140327, ...   \n",
       "157  {'Train-CIF/#events': 143956, 'Train-pred_labe...   \n",
       "158  {'Valid-NextType(ML)/auc-ovo-weighted': 0.8411...   \n",
       "159  {'_timestamp': 1673279720.1602502, 'time-Time/...   \n",
       "160  {'Train-NextTime/rmse_norm': 0.919211937440752...   \n",
       "161  {'Train-NextTime/rmse_norm': 0.866818486917159...   \n",
       "162  {'_step': 38, 'Train-CIF/#events': 235890, 'Be...   \n",
       "163  {'Test-NextTime/msae': 1.3422969041773227, 'Va...   \n",
       "164  {'_runtime': 3386.615584373474, 'Train-pred_la...   \n",
       "165  {'Test-pred_label/AUPRC': 0.6470915155570754, ...   \n",
       "166  {'Test-pred_label/loss': 0, 'Train-pred_label/...   \n",
       "167  {'Test-NextTime/msae': 1.6677892543383794, 'Te...   \n",
       "168  {'Valid-pred_label/AUROC': 0.90263266712612, '...   \n",
       "169  {'Valid-pred_label/AUPRC': 0.6957808672098718,...   \n",
       "170  {'Test-NextTime/rmse_norm': 0.9776570758191754...   \n",
       "171  {'_step': 39, 'Test-pred_label/AUROC': 0.91081...   \n",
       "172  {'Train-pred_label/precision-binary': 0.928001...   \n",
       "173  {'Best-Test-pred_label/f1-binary': 0.684073107...   \n",
       "174  {'_wandb': {'runtime': 1812}, 'Best-Test-pred_...   \n",
       "\n",
       "                                                config  \\\n",
       "120  {'w': [1, 1, 1, 1, 1, 1, 1, 1, 1, 1, 1, 1, 1, ...   \n",
       "121  {'w': [1, 1, 1, 1, 1, 1, 1, 1, 1, 1, 1, 1, 1, ...   \n",
       "122  {'w': [1, 1, 1, 1, 1, 1, 1, 1, 1, 1, 1, 1, 1, ...   \n",
       "123  {'w': [1, 1, 1, 1, 1, 1, 1, 1, 1, 1, 1, 1, 1, ...   \n",
       "124  {'w': [1, 1, 1, 1, 1, 1, 1, 1, 1, 1, 1, 1, 1, ...   \n",
       "140  {'w': [1, 1, 1, 1, 1, 1, 1, 1, 1, 1, 1, 1, 1, ...   \n",
       "141  {'w': [1, 1, 1, 1, 1, 1, 1, 1, 1, 1, 1, 1, 1, ...   \n",
       "142  {'w': [1, 1, 1, 1, 1, 1, 1, 1, 1, 1, 1, 1, 1, ...   \n",
       "143  {'w': [1, 1, 1, 1, 1, 1, 1, 1, 1, 1, 1, 1, 1, ...   \n",
       "144  {'w': [1, 1, 1, 1, 1, 1, 1, 1, 1, 1, 1, 1, 1, ...   \n",
       "145  {'w': [1, 1, 1, 1, 1, 1, 1, 1, 1, 1, 1, 1, 1, ...   \n",
       "146  {'w': [1, 1, 1, 1, 1, 1, 1, 1, 1, 1, 1, 1, 1, ...   \n",
       "147  {'w': [1, 1, 1, 1, 1, 1, 1, 1, 1, 1, 1, 1, 1, ...   \n",
       "148  {'w': [1, 1, 1, 1, 1, 1, 1, 1, 1, 1, 1, 1, 1, ...   \n",
       "149  {'w': [1, 1, 1, 1, 1, 1, 1, 1, 1, 1, 1, 1, 1, ...   \n",
       "150  {'w': [1, 1, 1, 1, 1, 1, 1, 1, 1, 1, 1, 1, 1, ...   \n",
       "151  {'w': [1, 1, 1, 1, 1, 1, 1, 1, 1, 1, 1, 1, 1, ...   \n",
       "152  {'w': [1, 1, 1, 1, 1, 1, 1, 1, 1, 1, 1, 1, 1, ...   \n",
       "153  {'w': [1, 1, 1, 1, 1, 1, 1, 1, 1, 1, 1, 1, 1, ...   \n",
       "154  {'w': [1, 1, 1, 1, 1, 1, 1, 1, 1, 1, 1, 1, 1, ...   \n",
       "155  {'w': [1, 1, 1, 1, 1, 1, 1, 1, 1, 1, 1, 1, 1, ...   \n",
       "156  {'w': [1, 1, 1, 1, 1, 1, 1, 1, 1, 1, 1, 1, 1, ...   \n",
       "157  {'w': [1, 1, 1, 1, 1, 1, 1, 1, 1, 1, 1, 1, 1, ...   \n",
       "158  {'w': [1, 1, 1, 1, 1, 1, 1, 1, 1, 1, 1, 1, 1, ...   \n",
       "159  {'w': [1, 1, 1, 1, 1, 1, 1, 1, 1, 1, 1, 1, 1, ...   \n",
       "160  {'w': [1, 1, 1, 1, 1, 1, 1, 1, 1, 1, 1, 1, 1, ...   \n",
       "161  {'w': [1, 1, 1, 1, 1, 1, 1, 1, 1, 1, 1, 1, 1, ...   \n",
       "162  {'w': [1, 1, 1, 1, 1, 1, 1, 1, 1, 1, 1, 1, 1, ...   \n",
       "163  {'w': [1, 1, 1, 1, 1, 1, 1, 1, 1, 1, 1, 1, 1, ...   \n",
       "164  {'w': [1, 1, 1, 1, 1, 1, 1, 1, 1, 1, 1, 1, 1, ...   \n",
       "165  {'w': [1, 1, 1, 1, 1, 1, 1, 1, 1, 1, 1, 1, 1, ...   \n",
       "166  {'w': [1, 1, 1, 1, 1, 1, 1, 1, 1, 1, 1, 1, 1, ...   \n",
       "167  {'w': [1, 1, 1, 1, 1, 1, 1, 1, 1, 1, 1, 1, 1, ...   \n",
       "168  {'w': [1, 1, 1, 1, 1, 1, 1, 1, 1, 1, 1, 1, 1, ...   \n",
       "169  {'w': [1, 1, 1, 1, 1, 1, 1, 1, 1, 1, 1, 1, 1, ...   \n",
       "170  {'w': [1, 1, 1, 1, 1, 1, 1, 1, 1, 1, 1, 1, 1, ...   \n",
       "171  {'w': [1, 1, 1, 1, 1, 1, 1, 1, 1, 1, 1, 1, 1, ...   \n",
       "172  {'w': [1, 1, 1, 1, 1, 1, 1, 1, 1, 1, 1, 1, 1, ...   \n",
       "173  {'w': [1, 1, 1, 1, 1, 1, 1, 1, 1, 1, 1, 1, 1, ...   \n",
       "174  {'w': [1, 1, 1, 1, 1, 1, 1, 1, 1, 1, 1, 1, 1, ...   \n",
       "\n",
       "                                   name  \n",
       "120  [R2-mc1]TEDA__shpmarklabel-1147879  \n",
       "121  [R2-mc1]TEDA__shpmarklabel-1147879  \n",
       "122  [R2-mc1]TEDA__shpmarklabel-1147879  \n",
       "123  [R2-mc1]TEDA__shpmarklabel-1147879  \n",
       "124  [R2-mc1]TEDA__shpmarklabel-1147879  \n",
       "140  [R2-mc1]TEDA__shpmarklabel-1146925  \n",
       "141  [R2-mc1]TEDA__shpmarklabel-1146925  \n",
       "142  [R2-mc1]TEDA__shpmarklabel-1146925  \n",
       "143  [R2-mc1]TEDA__shpmarklabel-1146925  \n",
       "144  [R2-mc1]TEDA__shpmarklabel-1146925  \n",
       "145           [R2-mc1]DA__label-1146299  \n",
       "146           [R2-mc1]DA__label-1146299  \n",
       "147           [R2-mc1]DA__label-1146299  \n",
       "148           [R2-mc1]DA__label-1146299  \n",
       "149           [R2-mc1]DA__label-1146299  \n",
       "150           [R2-mc1]DA__label-1145732  \n",
       "151           [R2-mc1]DA__label-1145732  \n",
       "152           [R2-mc1]DA__label-1145732  \n",
       "153           [R2-mc1]DA__label-1145732  \n",
       "154           [R2-mc1]DA__label-1145732  \n",
       "155   [R2-sc]TEDA__shpmarklabel-1145368  \n",
       "156   [R2-sc]TEDA__shpmarklabel-1145368  \n",
       "157   [R2-sc]TEDA__shpmarklabel-1145368  \n",
       "158   [R2-sc]TEDA__shpmarklabel-1145368  \n",
       "159   [R2-sc]TEDA__shpmarklabel-1145368  \n",
       "160   [R2-sc]TEDA__shpmarklabel-1144922  \n",
       "161   [R2-sc]TEDA__shpmarklabel-1144922  \n",
       "162   [R2-sc]TEDA__shpmarklabel-1144922  \n",
       "163   [R2-sc]TEDA__shpmarklabel-1144922  \n",
       "164   [R2-sc]TEDA__shpmarklabel-1144922  \n",
       "165            [R2-sc]DA__label-1144731  \n",
       "166            [R2-sc]DA__label-1144731  \n",
       "167            [R2-sc]DA__label-1144731  \n",
       "168            [R2-sc]DA__label-1144731  \n",
       "169            [R2-sc]DA__label-1144731  \n",
       "170            [R2-sc]DA__label-1144546  \n",
       "171            [R2-sc]DA__label-1144546  \n",
       "172            [R2-sc]DA__label-1144546  \n",
       "173            [R2-sc]DA__label-1144546  \n",
       "174            [R2-sc]DA__label-1144546  "
      ]
     },
     "execution_count": 9,
     "metadata": {},
     "output_type": "execute_result"
    }
   ],
   "source": [
    "q = runs_df['name'].str.contains('\\[R2-')\n",
    "runs_df = runs_df[q]\n",
    "runs_df"
   ]
  },
  {
   "cell_type": "code",
   "execution_count": 10,
   "metadata": {},
   "outputs": [
    {
     "data": {
      "text/plain": [
       "dict_keys(['Valid-pred_label/AUROC', 'Valid-pred_label/f1-binary', 'Valid-NextType(ML)/auc-ovo-weighted', 'Test-pred_label/ACC', 'Valid-NextTime/RMSE', 'Test-CIF/NLL-#events', 'Train-NextTime/msae', 'Train-pred_label/AUROC', 'Best-Valid-pred_label/AUROC', 'Valid-pred_label/recall-binary', 'Test-NextType(ML)/recall-weighted', 'status', 'Valid-CIF/NLL', 'Train-NextTime/RMSE', 'Valid-pred_label/precision-binary', 'Train-pred_label/precision-binary', 'Test-NextTime/rmse_norm', 'Test-NextType(ML)/f1-weighted', 'Test-pred_label/recall-binary', 'Train-NextType(ML)/recall-weighted', 'Valid-CIF/#events', 'Test-NextTime/RMSE', 'Valid-pred_label/ACC', 'Train-pred_label/AUPRC', 'Test-NextType(ML)/precision-weighted', 'Valid-pred_label/AUPRC', 'Train-pred_label/f1-binary', 'Valid-NextType(ML)/f1-weighted', 'Test-pred_label/f1-binary', 'Train-NextType(ML)/f1-weighted', 'Valid-NextType(ML)/auc-PR-weighted', 'Valid-NextType(ML)/precision-weighted', 'max_obj_val', 'Train-CIF/NLL', 'Train-CIF/#events', 'Test-pred_label/AUROC', 'Valid-pred_label/loss', 'Train-NextType(ML)/auc-ovo-weighted', 'Best-Test-pred_label/AUROC', 'Train-pred_label/recall-binary', 'Best-Valid-pred_label/f1-binary', '_timestamp', 'Train-pred_label/loss', 'Train-NextTime/rmse_norm', 'Best-Valid-pred_label/AUPRC', 'Test-pred_label/precision-binary', 'Test-NextType(ML)/auc-ovo-weighted', '_step', '_wandb', 'Train-pred_label/ACC', '_runtime', 'Train-NextType(ML)/auc-PR-weighted', 'time-Time/train_epoch', 'Valid-NextTime/rmse_norm', 'Best-Test-pred_label/AUPRC', 'Test-NextType(ML)/auc-PR-weighted', 'Obj', 'Test-pred_label/AUPRC', 'Valid-CIF/NLL-#events', 'time-Time/valid_epoch', 'Test-NextTime/msae', 'Test-pred_label/loss', 'Train-CIF/NLL-#events', 'Test-CIF/NLL', 'Test-CIF/#events', 'Train-NextType(ML)/precision-weighted', 'Valid-NextTime/msae', 'Best-Test-pred_label/f1-binary', 'Valid-NextType(ML)/recall-weighted'])"
      ]
     },
     "execution_count": 10,
     "metadata": {},
     "output_type": "execute_result"
    },
    {
     "data": {
      "text/plain": [
       "dict_keys(['w', 'lr', 'log', 'mod', 'per', 'cuda', 'data', 'date', 'demo', 'prof', 'epoch', 'split', 'state', 'w_pos', 'wandb', 'ES_pat', 'device', 'freeze', 'run_id', 'smooth', 'te_d_k', 'te_d_v', 'w_time', 'dataset', 'int_dec', 'setting', 'w_class', 'w_event', 'run_name', 'run_path', 'te_d_rnn', 'time_enc', 'TE_config', 'event_enc', 'next_mark', 'num_demos', 'num_marks', 'num_types', 'pos_alpha', 'te_d_mark', 'te_d_time', 'te_n_head', 'type_loss', 'CIF_config', 'DAM_config', 'batch_size', 'data_label', 'num_states', 'pos_weight', 'str_config', 'te_d_inner', 'te_dropout', 'testloader', 'demo_config', 'mark_detach', 'te_n_layers', 'test_center', 'trainloader', 'user_prefix', 'validloader', 'w_pos_label', 'label_config', 'sample_label', 'weight_decay', 'hparams2write', 'balanced_batch', 'label_loss_fun', 'pred_loss_func', 'w_sample_label', 'next_time_config', 'next_type_config', 'transfer_learning'])"
      ]
     },
     "execution_count": 10,
     "metadata": {},
     "output_type": "execute_result"
    }
   ],
   "source": [
    "\n",
    "runs_df.iloc[0].summary.keys()\n",
    "runs_df.iloc[0].config.keys()"
   ]
  },
  {
   "cell_type": "code",
   "execution_count": 14,
   "metadata": {},
   "outputs": [
    {
     "data": {
      "text/plain": [
       "dict_keys(['w', 'lr', 'log', 'mod', 'per', 'cuda', 'data', 'date', 'demo', 'prof', 'epoch', 'split', 'state', 'w_pos', 'wandb', 'ES_pat', 'device', 'freeze', 'run_id', 'smooth', 'te_d_k', 'te_d_v', 'w_time', 'dataset', 'int_dec', 'setting', 'w_class', 'w_event', 'run_name', 'run_path', 'te_d_rnn', 'time_enc', 'TE_config', 'event_enc', 'next_mark', 'num_demos', 'num_marks', 'num_types', 'pos_alpha', 'te_d_mark', 'te_d_time', 'te_n_head', 'type_loss', 'CIF_config', 'DAM_config', 'batch_size', 'data_label', 'num_states', 'pos_weight', 'str_config', 'te_d_inner', 'te_dropout', 'testloader', 'demo_config', 'mark_detach', 'te_n_layers', 'test_center', 'trainloader', 'user_prefix', 'validloader', 'w_pos_label', 'label_config', 'sample_label', 'weight_decay', 'hparams2write', 'balanced_batch', 'label_loss_fun', 'pred_loss_func', 'w_sample_label', 'next_time_config', 'next_type_config', 'transfer_learning'])"
      ]
     },
     "execution_count": 14,
     "metadata": {},
     "output_type": "execute_result"
    },
    {
     "data": {
      "text/html": [
       "<div>\n",
       "<style scoped>\n",
       "    .dataframe tbody tr th:only-of-type {\n",
       "        vertical-align: middle;\n",
       "    }\n",
       "\n",
       "    .dataframe tbody tr th {\n",
       "        vertical-align: top;\n",
       "    }\n",
       "\n",
       "    .dataframe thead th {\n",
       "        text-align: right;\n",
       "    }\n",
       "</style>\n",
       "<table border=\"1\" class=\"dataframe\">\n",
       "  <thead>\n",
       "    <tr style=\"text-align: right;\">\n",
       "      <th></th>\n",
       "      <th>dataset</th>\n",
       "      <th>setting</th>\n",
       "      <th>event_enc</th>\n",
       "      <th>test_center</th>\n",
       "      <th>split</th>\n",
       "      <th>Best-Test-pred_label/f1-binary</th>\n",
       "      <th>Best-Test-pred_label/AUPRC</th>\n",
       "    </tr>\n",
       "  </thead>\n",
       "  <tbody>\n",
       "    <tr>\n",
       "      <th>0</th>\n",
       "      <td>/scratch/hokarami/data_tedam/p19/</td>\n",
       "      <td>mc1</td>\n",
       "      <td>1</td>\n",
       "      <td>1</td>\n",
       "      <td>0</td>\n",
       "      <td>0.644970</td>\n",
       "      <td>0.801508</td>\n",
       "    </tr>\n",
       "    <tr>\n",
       "      <th>1</th>\n",
       "      <td>/scratch/hokarami/data_tedam/p19/</td>\n",
       "      <td>mc1</td>\n",
       "      <td>1</td>\n",
       "      <td>1</td>\n",
       "      <td>2</td>\n",
       "      <td>0.680739</td>\n",
       "      <td>0.886685</td>\n",
       "    </tr>\n",
       "    <tr>\n",
       "      <th>2</th>\n",
       "      <td>/scratch/hokarami/data_tedam/p19/</td>\n",
       "      <td>mc1</td>\n",
       "      <td>1</td>\n",
       "      <td>1</td>\n",
       "      <td>4</td>\n",
       "      <td>0.670487</td>\n",
       "      <td>0.846750</td>\n",
       "    </tr>\n",
       "    <tr>\n",
       "      <th>3</th>\n",
       "      <td>/scratch/hokarami/data_tedam/p19/</td>\n",
       "      <td>mc1</td>\n",
       "      <td>1</td>\n",
       "      <td>1</td>\n",
       "      <td>1</td>\n",
       "      <td>0.677966</td>\n",
       "      <td>0.760311</td>\n",
       "    </tr>\n",
       "    <tr>\n",
       "      <th>4</th>\n",
       "      <td>/scratch/hokarami/data_tedam/p19/</td>\n",
       "      <td>mc1</td>\n",
       "      <td>1</td>\n",
       "      <td>1</td>\n",
       "      <td>3</td>\n",
       "      <td>0.687719</td>\n",
       "      <td>0.848534</td>\n",
       "    </tr>\n",
       "    <tr>\n",
       "      <th>5</th>\n",
       "      <td>/scratch/hokarami/data_tedam/p19/</td>\n",
       "      <td>mc1</td>\n",
       "      <td>1</td>\n",
       "      <td>0</td>\n",
       "      <td>0</td>\n",
       "      <td>0.761658</td>\n",
       "      <td>0.896558</td>\n",
       "    </tr>\n",
       "    <tr>\n",
       "      <th>6</th>\n",
       "      <td>/scratch/hokarami/data_tedam/p19/</td>\n",
       "      <td>mc1</td>\n",
       "      <td>1</td>\n",
       "      <td>0</td>\n",
       "      <td>4</td>\n",
       "      <td>0.716667</td>\n",
       "      <td>0.886010</td>\n",
       "    </tr>\n",
       "    <tr>\n",
       "      <th>7</th>\n",
       "      <td>/scratch/hokarami/data_tedam/p19/</td>\n",
       "      <td>mc1</td>\n",
       "      <td>1</td>\n",
       "      <td>0</td>\n",
       "      <td>1</td>\n",
       "      <td>0.679245</td>\n",
       "      <td>0.890606</td>\n",
       "    </tr>\n",
       "    <tr>\n",
       "      <th>8</th>\n",
       "      <td>/scratch/hokarami/data_tedam/p19/</td>\n",
       "      <td>mc1</td>\n",
       "      <td>1</td>\n",
       "      <td>0</td>\n",
       "      <td>2</td>\n",
       "      <td>0.708502</td>\n",
       "      <td>0.866038</td>\n",
       "    </tr>\n",
       "    <tr>\n",
       "      <th>9</th>\n",
       "      <td>/scratch/hokarami/data_tedam/p19/</td>\n",
       "      <td>mc1</td>\n",
       "      <td>1</td>\n",
       "      <td>0</td>\n",
       "      <td>3</td>\n",
       "      <td>0.717241</td>\n",
       "      <td>0.865341</td>\n",
       "    </tr>\n",
       "    <tr>\n",
       "      <th>10</th>\n",
       "      <td>/scratch/hokarami/data_tedam/p19/</td>\n",
       "      <td>mc1</td>\n",
       "      <td>0</td>\n",
       "      <td>1</td>\n",
       "      <td>1</td>\n",
       "      <td>0.830189</td>\n",
       "      <td>0.961513</td>\n",
       "    </tr>\n",
       "    <tr>\n",
       "      <th>11</th>\n",
       "      <td>/scratch/hokarami/data_tedam/p19/</td>\n",
       "      <td>mc1</td>\n",
       "      <td>0</td>\n",
       "      <td>1</td>\n",
       "      <td>4</td>\n",
       "      <td>0.768750</td>\n",
       "      <td>0.903021</td>\n",
       "    </tr>\n",
       "    <tr>\n",
       "      <th>12</th>\n",
       "      <td>/scratch/hokarami/data_tedam/p19/</td>\n",
       "      <td>mc1</td>\n",
       "      <td>0</td>\n",
       "      <td>1</td>\n",
       "      <td>0</td>\n",
       "      <td>0.847458</td>\n",
       "      <td>0.909409</td>\n",
       "    </tr>\n",
       "    <tr>\n",
       "      <th>13</th>\n",
       "      <td>/scratch/hokarami/data_tedam/p19/</td>\n",
       "      <td>mc1</td>\n",
       "      <td>0</td>\n",
       "      <td>1</td>\n",
       "      <td>3</td>\n",
       "      <td>0.758865</td>\n",
       "      <td>0.892860</td>\n",
       "    </tr>\n",
       "    <tr>\n",
       "      <th>14</th>\n",
       "      <td>/scratch/hokarami/data_tedam/p19/</td>\n",
       "      <td>mc1</td>\n",
       "      <td>0</td>\n",
       "      <td>1</td>\n",
       "      <td>2</td>\n",
       "      <td>0.755814</td>\n",
       "      <td>0.915236</td>\n",
       "    </tr>\n",
       "    <tr>\n",
       "      <th>15</th>\n",
       "      <td>/scratch/hokarami/data_tedam/p19/</td>\n",
       "      <td>mc1</td>\n",
       "      <td>0</td>\n",
       "      <td>0</td>\n",
       "      <td>0</td>\n",
       "      <td>0.667969</td>\n",
       "      <td>0.898462</td>\n",
       "    </tr>\n",
       "    <tr>\n",
       "      <th>16</th>\n",
       "      <td>/scratch/hokarami/data_tedam/p19/</td>\n",
       "      <td>mc1</td>\n",
       "      <td>0</td>\n",
       "      <td>0</td>\n",
       "      <td>3</td>\n",
       "      <td>0.743326</td>\n",
       "      <td>0.921864</td>\n",
       "    </tr>\n",
       "    <tr>\n",
       "      <th>17</th>\n",
       "      <td>/scratch/hokarami/data_tedam/p19/</td>\n",
       "      <td>mc1</td>\n",
       "      <td>0</td>\n",
       "      <td>0</td>\n",
       "      <td>4</td>\n",
       "      <td>0.755725</td>\n",
       "      <td>0.912935</td>\n",
       "    </tr>\n",
       "    <tr>\n",
       "      <th>18</th>\n",
       "      <td>/scratch/hokarami/data_tedam/p19/</td>\n",
       "      <td>mc1</td>\n",
       "      <td>0</td>\n",
       "      <td>0</td>\n",
       "      <td>1</td>\n",
       "      <td>0.778013</td>\n",
       "      <td>0.930767</td>\n",
       "    </tr>\n",
       "    <tr>\n",
       "      <th>19</th>\n",
       "      <td>/scratch/hokarami/data_tedam/p19/</td>\n",
       "      <td>mc1</td>\n",
       "      <td>0</td>\n",
       "      <td>0</td>\n",
       "      <td>2</td>\n",
       "      <td>0.681905</td>\n",
       "      <td>0.931788</td>\n",
       "    </tr>\n",
       "    <tr>\n",
       "      <th>20</th>\n",
       "      <td>/scratch/hokarami/data_tedam/p19/</td>\n",
       "      <td>sc</td>\n",
       "      <td>1</td>\n",
       "      <td>1</td>\n",
       "      <td>1</td>\n",
       "      <td>0.595890</td>\n",
       "      <td>0.731292</td>\n",
       "    </tr>\n",
       "    <tr>\n",
       "      <th>21</th>\n",
       "      <td>/scratch/hokarami/data_tedam/p19/</td>\n",
       "      <td>sc</td>\n",
       "      <td>1</td>\n",
       "      <td>1</td>\n",
       "      <td>0</td>\n",
       "      <td>0.548105</td>\n",
       "      <td>0.617050</td>\n",
       "    </tr>\n",
       "    <tr>\n",
       "      <th>22</th>\n",
       "      <td>/scratch/hokarami/data_tedam/p19/</td>\n",
       "      <td>sc</td>\n",
       "      <td>1</td>\n",
       "      <td>1</td>\n",
       "      <td>3</td>\n",
       "      <td>0.639676</td>\n",
       "      <td>0.723465</td>\n",
       "    </tr>\n",
       "    <tr>\n",
       "      <th>23</th>\n",
       "      <td>/scratch/hokarami/data_tedam/p19/</td>\n",
       "      <td>sc</td>\n",
       "      <td>1</td>\n",
       "      <td>1</td>\n",
       "      <td>2</td>\n",
       "      <td>0.619195</td>\n",
       "      <td>0.740412</td>\n",
       "    </tr>\n",
       "    <tr>\n",
       "      <th>24</th>\n",
       "      <td>/scratch/hokarami/data_tedam/p19/</td>\n",
       "      <td>sc</td>\n",
       "      <td>1</td>\n",
       "      <td>1</td>\n",
       "      <td>4</td>\n",
       "      <td>0.627306</td>\n",
       "      <td>0.704861</td>\n",
       "    </tr>\n",
       "    <tr>\n",
       "      <th>25</th>\n",
       "      <td>/scratch/hokarami/data_tedam/p19/</td>\n",
       "      <td>sc</td>\n",
       "      <td>1</td>\n",
       "      <td>0</td>\n",
       "      <td>1</td>\n",
       "      <td>0.671498</td>\n",
       "      <td>0.756954</td>\n",
       "    </tr>\n",
       "    <tr>\n",
       "      <th>26</th>\n",
       "      <td>/scratch/hokarami/data_tedam/p19/</td>\n",
       "      <td>sc</td>\n",
       "      <td>1</td>\n",
       "      <td>0</td>\n",
       "      <td>0</td>\n",
       "      <td>0.649886</td>\n",
       "      <td>0.720596</td>\n",
       "    </tr>\n",
       "    <tr>\n",
       "      <th>27</th>\n",
       "      <td>/scratch/hokarami/data_tedam/p19/</td>\n",
       "      <td>sc</td>\n",
       "      <td>1</td>\n",
       "      <td>0</td>\n",
       "      <td>3</td>\n",
       "      <td>0.627848</td>\n",
       "      <td>0.731441</td>\n",
       "    </tr>\n",
       "    <tr>\n",
       "      <th>28</th>\n",
       "      <td>/scratch/hokarami/data_tedam/p19/</td>\n",
       "      <td>sc</td>\n",
       "      <td>1</td>\n",
       "      <td>0</td>\n",
       "      <td>4</td>\n",
       "      <td>0.631090</td>\n",
       "      <td>0.733625</td>\n",
       "    </tr>\n",
       "    <tr>\n",
       "      <th>29</th>\n",
       "      <td>/scratch/hokarami/data_tedam/p19/</td>\n",
       "      <td>sc</td>\n",
       "      <td>1</td>\n",
       "      <td>0</td>\n",
       "      <td>2</td>\n",
       "      <td>0.656977</td>\n",
       "      <td>0.734836</td>\n",
       "    </tr>\n",
       "    <tr>\n",
       "      <th>30</th>\n",
       "      <td>/scratch/hokarami/data_tedam/p19/</td>\n",
       "      <td>sc</td>\n",
       "      <td>0</td>\n",
       "      <td>1</td>\n",
       "      <td>1</td>\n",
       "      <td>0.589212</td>\n",
       "      <td>0.686406</td>\n",
       "    </tr>\n",
       "    <tr>\n",
       "      <th>31</th>\n",
       "      <td>/scratch/hokarami/data_tedam/p19/</td>\n",
       "      <td>sc</td>\n",
       "      <td>0</td>\n",
       "      <td>1</td>\n",
       "      <td>2</td>\n",
       "      <td>0.608108</td>\n",
       "      <td>0.745640</td>\n",
       "    </tr>\n",
       "    <tr>\n",
       "      <th>32</th>\n",
       "      <td>/scratch/hokarami/data_tedam/p19/</td>\n",
       "      <td>sc</td>\n",
       "      <td>0</td>\n",
       "      <td>1</td>\n",
       "      <td>3</td>\n",
       "      <td>0.575000</td>\n",
       "      <td>0.674362</td>\n",
       "    </tr>\n",
       "    <tr>\n",
       "      <th>33</th>\n",
       "      <td>/scratch/hokarami/data_tedam/p19/</td>\n",
       "      <td>sc</td>\n",
       "      <td>0</td>\n",
       "      <td>1</td>\n",
       "      <td>0</td>\n",
       "      <td>0.567164</td>\n",
       "      <td>0.661601</td>\n",
       "    </tr>\n",
       "    <tr>\n",
       "      <th>34</th>\n",
       "      <td>/scratch/hokarami/data_tedam/p19/</td>\n",
       "      <td>sc</td>\n",
       "      <td>0</td>\n",
       "      <td>1</td>\n",
       "      <td>4</td>\n",
       "      <td>0.647687</td>\n",
       "      <td>0.698465</td>\n",
       "    </tr>\n",
       "    <tr>\n",
       "      <th>35</th>\n",
       "      <td>/scratch/hokarami/data_tedam/p19/</td>\n",
       "      <td>sc</td>\n",
       "      <td>0</td>\n",
       "      <td>0</td>\n",
       "      <td>3</td>\n",
       "      <td>0.565957</td>\n",
       "      <td>0.699358</td>\n",
       "    </tr>\n",
       "    <tr>\n",
       "      <th>36</th>\n",
       "      <td>/scratch/hokarami/data_tedam/p19/</td>\n",
       "      <td>sc</td>\n",
       "      <td>0</td>\n",
       "      <td>0</td>\n",
       "      <td>0</td>\n",
       "      <td>0.690110</td>\n",
       "      <td>0.793120</td>\n",
       "    </tr>\n",
       "    <tr>\n",
       "      <th>37</th>\n",
       "      <td>/scratch/hokarami/data_tedam/p19/</td>\n",
       "      <td>sc</td>\n",
       "      <td>0</td>\n",
       "      <td>0</td>\n",
       "      <td>1</td>\n",
       "      <td>0.648526</td>\n",
       "      <td>0.791941</td>\n",
       "    </tr>\n",
       "    <tr>\n",
       "      <th>38</th>\n",
       "      <td>/scratch/hokarami/data_tedam/p19/</td>\n",
       "      <td>sc</td>\n",
       "      <td>0</td>\n",
       "      <td>0</td>\n",
       "      <td>2</td>\n",
       "      <td>0.684073</td>\n",
       "      <td>0.784644</td>\n",
       "    </tr>\n",
       "    <tr>\n",
       "      <th>39</th>\n",
       "      <td>/scratch/hokarami/data_tedam/p19/</td>\n",
       "      <td>sc</td>\n",
       "      <td>0</td>\n",
       "      <td>0</td>\n",
       "      <td>4</td>\n",
       "      <td>0.592437</td>\n",
       "      <td>0.731025</td>\n",
       "    </tr>\n",
       "  </tbody>\n",
       "</table>\n",
       "</div>"
      ],
      "text/plain": [
       "                              dataset setting  event_enc test_center split  \\\n",
       "0   /scratch/hokarami/data_tedam/p19/     mc1          1           1     0   \n",
       "1   /scratch/hokarami/data_tedam/p19/     mc1          1           1     2   \n",
       "2   /scratch/hokarami/data_tedam/p19/     mc1          1           1     4   \n",
       "3   /scratch/hokarami/data_tedam/p19/     mc1          1           1     1   \n",
       "4   /scratch/hokarami/data_tedam/p19/     mc1          1           1     3   \n",
       "5   /scratch/hokarami/data_tedam/p19/     mc1          1           0     0   \n",
       "6   /scratch/hokarami/data_tedam/p19/     mc1          1           0     4   \n",
       "7   /scratch/hokarami/data_tedam/p19/     mc1          1           0     1   \n",
       "8   /scratch/hokarami/data_tedam/p19/     mc1          1           0     2   \n",
       "9   /scratch/hokarami/data_tedam/p19/     mc1          1           0     3   \n",
       "10  /scratch/hokarami/data_tedam/p19/     mc1          0           1     1   \n",
       "11  /scratch/hokarami/data_tedam/p19/     mc1          0           1     4   \n",
       "12  /scratch/hokarami/data_tedam/p19/     mc1          0           1     0   \n",
       "13  /scratch/hokarami/data_tedam/p19/     mc1          0           1     3   \n",
       "14  /scratch/hokarami/data_tedam/p19/     mc1          0           1     2   \n",
       "15  /scratch/hokarami/data_tedam/p19/     mc1          0           0     0   \n",
       "16  /scratch/hokarami/data_tedam/p19/     mc1          0           0     3   \n",
       "17  /scratch/hokarami/data_tedam/p19/     mc1          0           0     4   \n",
       "18  /scratch/hokarami/data_tedam/p19/     mc1          0           0     1   \n",
       "19  /scratch/hokarami/data_tedam/p19/     mc1          0           0     2   \n",
       "20  /scratch/hokarami/data_tedam/p19/      sc          1           1     1   \n",
       "21  /scratch/hokarami/data_tedam/p19/      sc          1           1     0   \n",
       "22  /scratch/hokarami/data_tedam/p19/      sc          1           1     3   \n",
       "23  /scratch/hokarami/data_tedam/p19/      sc          1           1     2   \n",
       "24  /scratch/hokarami/data_tedam/p19/      sc          1           1     4   \n",
       "25  /scratch/hokarami/data_tedam/p19/      sc          1           0     1   \n",
       "26  /scratch/hokarami/data_tedam/p19/      sc          1           0     0   \n",
       "27  /scratch/hokarami/data_tedam/p19/      sc          1           0     3   \n",
       "28  /scratch/hokarami/data_tedam/p19/      sc          1           0     4   \n",
       "29  /scratch/hokarami/data_tedam/p19/      sc          1           0     2   \n",
       "30  /scratch/hokarami/data_tedam/p19/      sc          0           1     1   \n",
       "31  /scratch/hokarami/data_tedam/p19/      sc          0           1     2   \n",
       "32  /scratch/hokarami/data_tedam/p19/      sc          0           1     3   \n",
       "33  /scratch/hokarami/data_tedam/p19/      sc          0           1     0   \n",
       "34  /scratch/hokarami/data_tedam/p19/      sc          0           1     4   \n",
       "35  /scratch/hokarami/data_tedam/p19/      sc          0           0     3   \n",
       "36  /scratch/hokarami/data_tedam/p19/      sc          0           0     0   \n",
       "37  /scratch/hokarami/data_tedam/p19/      sc          0           0     1   \n",
       "38  /scratch/hokarami/data_tedam/p19/      sc          0           0     2   \n",
       "39  /scratch/hokarami/data_tedam/p19/      sc          0           0     4   \n",
       "\n",
       "    Best-Test-pred_label/f1-binary  Best-Test-pred_label/AUPRC  \n",
       "0                         0.644970                    0.801508  \n",
       "1                         0.680739                    0.886685  \n",
       "2                         0.670487                    0.846750  \n",
       "3                         0.677966                    0.760311  \n",
       "4                         0.687719                    0.848534  \n",
       "5                         0.761658                    0.896558  \n",
       "6                         0.716667                    0.886010  \n",
       "7                         0.679245                    0.890606  \n",
       "8                         0.708502                    0.866038  \n",
       "9                         0.717241                    0.865341  \n",
       "10                        0.830189                    0.961513  \n",
       "11                        0.768750                    0.903021  \n",
       "12                        0.847458                    0.909409  \n",
       "13                        0.758865                    0.892860  \n",
       "14                        0.755814                    0.915236  \n",
       "15                        0.667969                    0.898462  \n",
       "16                        0.743326                    0.921864  \n",
       "17                        0.755725                    0.912935  \n",
       "18                        0.778013                    0.930767  \n",
       "19                        0.681905                    0.931788  \n",
       "20                        0.595890                    0.731292  \n",
       "21                        0.548105                    0.617050  \n",
       "22                        0.639676                    0.723465  \n",
       "23                        0.619195                    0.740412  \n",
       "24                        0.627306                    0.704861  \n",
       "25                        0.671498                    0.756954  \n",
       "26                        0.649886                    0.720596  \n",
       "27                        0.627848                    0.731441  \n",
       "28                        0.631090                    0.733625  \n",
       "29                        0.656977                    0.734836  \n",
       "30                        0.589212                    0.686406  \n",
       "31                        0.608108                    0.745640  \n",
       "32                        0.575000                    0.674362  \n",
       "33                        0.567164                    0.661601  \n",
       "34                        0.647687                    0.698465  \n",
       "35                        0.565957                    0.699358  \n",
       "36                        0.690110                    0.793120  \n",
       "37                        0.648526                    0.791941  \n",
       "38                        0.684073                    0.784644  \n",
       "39                        0.592437                    0.731025  "
      ]
     },
     "execution_count": 14,
     "metadata": {},
     "output_type": "execute_result"
    },
    {
     "data": {
      "text/html": [
       "<div>\n",
       "<style scoped>\n",
       "    .dataframe tbody tr th:only-of-type {\n",
       "        vertical-align: middle;\n",
       "    }\n",
       "\n",
       "    .dataframe tbody tr th {\n",
       "        vertical-align: top;\n",
       "    }\n",
       "\n",
       "    .dataframe thead th {\n",
       "        text-align: right;\n",
       "    }\n",
       "</style>\n",
       "<table border=\"1\" class=\"dataframe\">\n",
       "  <thead>\n",
       "    <tr style=\"text-align: right;\">\n",
       "      <th></th>\n",
       "      <th></th>\n",
       "      <th></th>\n",
       "      <th>Best-Test-pred_label/f1-binary</th>\n",
       "      <th>Best-Test-pred_label/AUPRC</th>\n",
       "    </tr>\n",
       "    <tr>\n",
       "      <th>dataset</th>\n",
       "      <th>setting</th>\n",
       "      <th>event_enc</th>\n",
       "      <th></th>\n",
       "      <th></th>\n",
       "    </tr>\n",
       "  </thead>\n",
       "  <tbody>\n",
       "    <tr>\n",
       "      <th rowspan=\"4\" valign=\"top\">/scratch/hokarami/data_tedam/p19/</th>\n",
       "      <th rowspan=\"2\" valign=\"top\">mc1</th>\n",
       "      <th>0</th>\n",
       "      <td>0.76 (0.06)</td>\n",
       "      <td>0.92 (0.02)</td>\n",
       "    </tr>\n",
       "    <tr>\n",
       "      <th>1</th>\n",
       "      <td>0.69 (0.03)</td>\n",
       "      <td>0.85 (0.04)</td>\n",
       "    </tr>\n",
       "    <tr>\n",
       "      <th rowspan=\"2\" valign=\"top\">sc</th>\n",
       "      <th>0</th>\n",
       "      <td>0.62 (0.05)</td>\n",
       "      <td>0.73 (0.05)</td>\n",
       "    </tr>\n",
       "    <tr>\n",
       "      <th>1</th>\n",
       "      <td>0.63 (0.03)</td>\n",
       "      <td>0.72 (0.04)</td>\n",
       "    </tr>\n",
       "  </tbody>\n",
       "</table>\n",
       "</div>"
      ],
      "text/plain": [
       "                                                    Best-Test-pred_label/f1-binary  \\\n",
       "dataset                           setting event_enc                                  \n",
       "/scratch/hokarami/data_tedam/p19/ mc1     0                            0.76 (0.06)   \n",
       "                                          1                            0.69 (0.03)   \n",
       "                                  sc      0                            0.62 (0.05)   \n",
       "                                          1                            0.63 (0.03)   \n",
       "\n",
       "                                                    Best-Test-pred_label/AUPRC  \n",
       "dataset                           setting event_enc                             \n",
       "/scratch/hokarami/data_tedam/p19/ mc1     0                        0.92 (0.02)  \n",
       "                                          1                        0.85 (0.04)  \n",
       "                                  sc      0                        0.73 (0.05)  \n",
       "                                          1                        0.72 (0.04)  "
      ]
     },
     "execution_count": 14,
     "metadata": {},
     "output_type": "execute_result"
    },
    {
     "data": {
      "text/html": [
       "<div>\n",
       "<style scoped>\n",
       "    .dataframe tbody tr th:only-of-type {\n",
       "        vertical-align: middle;\n",
       "    }\n",
       "\n",
       "    .dataframe tbody tr th {\n",
       "        vertical-align: top;\n",
       "    }\n",
       "\n",
       "    .dataframe thead tr th {\n",
       "        text-align: left;\n",
       "    }\n",
       "\n",
       "    .dataframe thead tr:last-of-type th {\n",
       "        text-align: right;\n",
       "    }\n",
       "</style>\n",
       "<table border=\"1\" class=\"dataframe\">\n",
       "  <thead>\n",
       "    <tr>\n",
       "      <th></th>\n",
       "      <th></th>\n",
       "      <th colspan=\"2\" halign=\"left\">Best-Test-pred_label/f1-binary</th>\n",
       "      <th colspan=\"2\" halign=\"left\">Best-Test-pred_label/AUPRC</th>\n",
       "    </tr>\n",
       "    <tr>\n",
       "      <th></th>\n",
       "      <th>event_enc</th>\n",
       "      <th>0</th>\n",
       "      <th>1</th>\n",
       "      <th>0</th>\n",
       "      <th>1</th>\n",
       "    </tr>\n",
       "    <tr>\n",
       "      <th>dataset</th>\n",
       "      <th>setting</th>\n",
       "      <th></th>\n",
       "      <th></th>\n",
       "      <th></th>\n",
       "      <th></th>\n",
       "    </tr>\n",
       "  </thead>\n",
       "  <tbody>\n",
       "    <tr>\n",
       "      <th rowspan=\"2\" valign=\"top\">/scratch/hokarami/data_tedam/p19/</th>\n",
       "      <th>mc1</th>\n",
       "      <td>0.76 (0.06)</td>\n",
       "      <td>0.69 (0.03)</td>\n",
       "      <td>0.92 (0.02)</td>\n",
       "      <td>0.85 (0.04)</td>\n",
       "    </tr>\n",
       "    <tr>\n",
       "      <th>sc</th>\n",
       "      <td>0.62 (0.05)</td>\n",
       "      <td>0.63 (0.03)</td>\n",
       "      <td>0.73 (0.05)</td>\n",
       "      <td>0.72 (0.04)</td>\n",
       "    </tr>\n",
       "  </tbody>\n",
       "</table>\n",
       "</div>"
      ],
      "text/plain": [
       "                                          Best-Test-pred_label/f1-binary  \\\n",
       "event_enc                                                              0   \n",
       "dataset                           setting                                  \n",
       "/scratch/hokarami/data_tedam/p19/ mc1                        0.76 (0.06)   \n",
       "                                  sc                         0.62 (0.05)   \n",
       "\n",
       "                                                        \\\n",
       "event_enc                                            1   \n",
       "dataset                           setting                \n",
       "/scratch/hokarami/data_tedam/p19/ mc1      0.69 (0.03)   \n",
       "                                  sc       0.63 (0.03)   \n",
       "\n",
       "                                          Best-Test-pred_label/AUPRC  \\\n",
       "event_enc                                                          0   \n",
       "dataset                           setting                              \n",
       "/scratch/hokarami/data_tedam/p19/ mc1                    0.92 (0.02)   \n",
       "                                  sc                     0.73 (0.05)   \n",
       "\n",
       "                                                        \n",
       "event_enc                                            1  \n",
       "dataset                           setting               \n",
       "/scratch/hokarami/data_tedam/p19/ mc1      0.85 (0.04)  \n",
       "                                  sc       0.72 (0.04)  "
      ]
     },
     "execution_count": 14,
     "metadata": {},
     "output_type": "execute_result"
    },
    {
     "data": {
      "text/html": [
       "<div>\n",
       "<style scoped>\n",
       "    .dataframe tbody tr th:only-of-type {\n",
       "        vertical-align: middle;\n",
       "    }\n",
       "\n",
       "    .dataframe tbody tr th {\n",
       "        vertical-align: top;\n",
       "    }\n",
       "\n",
       "    .dataframe thead th {\n",
       "        text-align: right;\n",
       "    }\n",
       "</style>\n",
       "<table border=\"1\" class=\"dataframe\">\n",
       "  <thead>\n",
       "    <tr style=\"text-align: right;\">\n",
       "      <th></th>\n",
       "      <th></th>\n",
       "      <th></th>\n",
       "      <th>Best-Test-pred_label/f1-binary</th>\n",
       "      <th>Best-Test-pred_label/AUPRC</th>\n",
       "    </tr>\n",
       "    <tr>\n",
       "      <th>dataset</th>\n",
       "      <th>setting</th>\n",
       "      <th>event_enc</th>\n",
       "      <th></th>\n",
       "      <th></th>\n",
       "    </tr>\n",
       "  </thead>\n",
       "  <tbody>\n",
       "    <tr>\n",
       "      <th rowspan=\"4\" valign=\"top\">/scratch/hokarami/data_tedam/p19/</th>\n",
       "      <th rowspan=\"2\" valign=\"top\">mc1</th>\n",
       "      <th>0</th>\n",
       "      <td>0.76 (0.06)</td>\n",
       "      <td>0.92 (0.02)</td>\n",
       "    </tr>\n",
       "    <tr>\n",
       "      <th>1</th>\n",
       "      <td>0.69 (0.03)</td>\n",
       "      <td>0.85 (0.04)</td>\n",
       "    </tr>\n",
       "    <tr>\n",
       "      <th rowspan=\"2\" valign=\"top\">sc</th>\n",
       "      <th>0</th>\n",
       "      <td>0.62 (0.05)</td>\n",
       "      <td>0.73 (0.05)</td>\n",
       "    </tr>\n",
       "    <tr>\n",
       "      <th>1</th>\n",
       "      <td>0.63 (0.03)</td>\n",
       "      <td>0.72 (0.04)</td>\n",
       "    </tr>\n",
       "  </tbody>\n",
       "</table>\n",
       "</div>"
      ],
      "text/plain": [
       "                                                    Best-Test-pred_label/f1-binary  \\\n",
       "dataset                           setting event_enc                                  \n",
       "/scratch/hokarami/data_tedam/p19/ mc1     0                            0.76 (0.06)   \n",
       "                                          1                            0.69 (0.03)   \n",
       "                                  sc      0                            0.62 (0.05)   \n",
       "                                          1                            0.63 (0.03)   \n",
       "\n",
       "                                                    Best-Test-pred_label/AUPRC  \n",
       "dataset                           setting event_enc                             \n",
       "/scratch/hokarami/data_tedam/p19/ mc1     0                        0.92 (0.02)  \n",
       "                                          1                        0.85 (0.04)  \n",
       "                                  sc      0                        0.73 (0.05)  \n",
       "                                          1                        0.72 (0.04)  "
      ]
     },
     "execution_count": 14,
     "metadata": {},
     "output_type": "execute_result"
    }
   ],
   "source": [
    "i_by =['dataset','setting','test_center','event_enc']\n",
    "i_agg = ['split']\n",
    "i_metric = ['Best-Test-pred_label/f1-binary','Best-Test-pred_label/AUPRC']\n",
    "# i_metric = ['Test-CIF/NLL-#events']\n",
    "\n",
    "\n",
    "\n",
    "runs_df.iloc[0].config.keys()\n",
    "\n",
    "d_name = [x for x in runs_df.name]\n",
    "\n",
    "df_config = pd.DataFrame(   [{k:v for k,v in x.items()} for x in runs_df.config]    )\n",
    "\n",
    "df_summary = pd.DataFrame(   [{k:v for k,v in x.items()} for x in runs_df.summary]    )\n",
    "\n",
    "df = pd.concat([df_config, df_summary],axis=1)\n",
    "# df.name = runs_df.name\n",
    "df = df[i_by + ['test_center','split']+i_metric]\n",
    "df\n",
    "\n",
    "\n",
    "\n",
    "\n",
    "a0 = df.groupby(i_by)[i_metric].size().rename('runs')\n",
    "\n",
    "a1 = df.groupby(i_by)[i_metric].aggregate(['mean','std']).round(3)\n",
    "\n",
    "a1 = df.groupby(i_by)[i_metric].aggregate(lambda x:str(round(x.mean(),2))  + ' (' + str(round(x.std(),2))  +')' )\n",
    "\n",
    "# a4 = df.groupby(i_by)[i_metric].apply(lambda x:x.round(3).tolist())   # x.round(3).tolist()\n",
    "a1\n",
    "\n",
    "a1.reset_index().pivot(index=i_by[:2],columns=i_by[-1])\n",
    "\n",
    "a1\n",
    "\n",
    "a1.to_csv(\"aaa.csv\")"
   ]
  },
  {
   "cell_type": "code",
   "execution_count": 40,
   "metadata": {},
   "outputs": [
    {
     "data": {
      "text/html": [
       "<div>\n",
       "<style scoped>\n",
       "    .dataframe tbody tr th:only-of-type {\n",
       "        vertical-align: middle;\n",
       "    }\n",
       "\n",
       "    .dataframe tbody tr th {\n",
       "        vertical-align: top;\n",
       "    }\n",
       "\n",
       "    .dataframe thead tr th {\n",
       "        text-align: left;\n",
       "    }\n",
       "\n",
       "    .dataframe thead tr:last-of-type th {\n",
       "        text-align: right;\n",
       "    }\n",
       "</style>\n",
       "<table border=\"1\" class=\"dataframe\">\n",
       "  <thead>\n",
       "    <tr>\n",
       "      <th></th>\n",
       "      <th></th>\n",
       "      <th colspan=\"2\" halign=\"left\">val</th>\n",
       "      <th colspan=\"2\" halign=\"left\">std</th>\n",
       "    </tr>\n",
       "    <tr>\n",
       "      <th></th>\n",
       "      <th>event_enc</th>\n",
       "      <th>0</th>\n",
       "      <th>1</th>\n",
       "      <th>0</th>\n",
       "      <th>1</th>\n",
       "    </tr>\n",
       "    <tr>\n",
       "      <th>dataset</th>\n",
       "      <th>setting</th>\n",
       "      <th></th>\n",
       "      <th></th>\n",
       "      <th></th>\n",
       "      <th></th>\n",
       "    </tr>\n",
       "  </thead>\n",
       "  <tbody>\n",
       "    <tr>\n",
       "      <th rowspan=\"3\" valign=\"top\">/scratch/hokarami/data_tedam/p12/</th>\n",
       "      <th>mc1</th>\n",
       "      <td>0.492 (0.028)</td>\n",
       "      <td>0.492 (0.026)</td>\n",
       "      <td>0.028</td>\n",
       "      <td>0.026</td>\n",
       "    </tr>\n",
       "    <tr>\n",
       "      <th>mc2</th>\n",
       "      <td>0.428 (0.005)</td>\n",
       "      <td>0.445 (0.007)</td>\n",
       "      <td>0.005</td>\n",
       "      <td>0.007</td>\n",
       "    </tr>\n",
       "    <tr>\n",
       "      <th>sc</th>\n",
       "      <td>0.405 (0.035)</td>\n",
       "      <td>0.425 (0.026)</td>\n",
       "      <td>0.035</td>\n",
       "      <td>0.026</td>\n",
       "    </tr>\n",
       "    <tr>\n",
       "      <th rowspan=\"3\" valign=\"top\">/scratch/hokarami/data_tedam/p19/</th>\n",
       "      <th>mc1</th>\n",
       "      <td>0.728 (0.061)</td>\n",
       "      <td>0.711 (0.038)</td>\n",
       "      <td>0.061</td>\n",
       "      <td>0.038</td>\n",
       "    </tr>\n",
       "    <tr>\n",
       "      <th>mc2</th>\n",
       "      <td>0.533 (0.095)</td>\n",
       "      <td>0.469 (0.05)</td>\n",
       "      <td>0.095</td>\n",
       "      <td>0.05</td>\n",
       "    </tr>\n",
       "    <tr>\n",
       "      <th>sc</th>\n",
       "      <td>0.619 (0.039)</td>\n",
       "      <td>0.632 (0.03)</td>\n",
       "      <td>0.039</td>\n",
       "      <td>0.03</td>\n",
       "    </tr>\n",
       "  </tbody>\n",
       "</table>\n",
       "</div>"
      ],
      "text/plain": [
       "                                                     val                 \\\n",
       "event_enc                                              0              1   \n",
       "dataset                           setting                                 \n",
       "/scratch/hokarami/data_tedam/p12/ mc1      0.492 (0.028)  0.492 (0.026)   \n",
       "                                  mc2      0.428 (0.005)  0.445 (0.007)   \n",
       "                                  sc       0.405 (0.035)  0.425 (0.026)   \n",
       "/scratch/hokarami/data_tedam/p19/ mc1      0.728 (0.061)  0.711 (0.038)   \n",
       "                                  mc2      0.533 (0.095)   0.469 (0.05)   \n",
       "                                  sc       0.619 (0.039)   0.632 (0.03)   \n",
       "\n",
       "                                             std         \n",
       "event_enc                                      0      1  \n",
       "dataset                           setting                \n",
       "/scratch/hokarami/data_tedam/p12/ mc1      0.028  0.026  \n",
       "                                  mc2      0.005  0.007  \n",
       "                                  sc       0.035  0.026  \n",
       "/scratch/hokarami/data_tedam/p19/ mc1      0.061  0.038  \n",
       "                                  mc2      0.095   0.05  \n",
       "                                  sc       0.039   0.03  "
      ]
     },
     "execution_count": 40,
     "metadata": {},
     "output_type": "execute_result"
    }
   ],
   "source": [
    "df3 = df2.reset_index()\n",
    "\n",
    "df3.pivot(index=['dataset','setting'],columns=['event_enc'],values=['val','std'])"
   ]
  },
  {
   "cell_type": "code",
   "execution_count": 18,
   "metadata": {},
   "outputs": [
    {
     "data": {
      "application/vnd.plotly.v1+json": {
       "config": {
        "plotlyServerURL": "https://plot.ly"
       },
       "data": [
        {
         "alignmentgroup": "True",
         "bingroup": "x",
         "histfunc": "sum",
         "hovertemplate": "event_enc=0<br>setting=%{x}<br>sum of mean=%{y}<extra></extra>",
         "legendgroup": "0",
         "marker": {
          "color": "#636efa",
          "pattern": {
           "shape": ""
          }
         },
         "name": "0",
         "offsetgroup": "0",
         "orientation": "v",
         "showlegend": true,
         "type": "histogram",
         "x": [
          "mc1",
          "mc2",
          "sc"
         ],
         "xaxis": "x",
         "y": [
          0.492,
          0.428,
          0.405
         ],
         "yaxis": "y"
        },
        {
         "alignmentgroup": "True",
         "bingroup": "x",
         "histfunc": "sum",
         "hovertemplate": "event_enc=1<br>setting=%{x}<br>sum of mean=%{y}<extra></extra>",
         "legendgroup": "1",
         "marker": {
          "color": "#EF553B",
          "pattern": {
           "shape": ""
          }
         },
         "name": "1",
         "offsetgroup": "1",
         "orientation": "v",
         "showlegend": true,
         "type": "histogram",
         "x": [
          "mc1",
          "mc2",
          "sc"
         ],
         "xaxis": "x",
         "y": [
          0.492,
          0.445,
          0.425
         ],
         "yaxis": "y"
        }
       ],
       "layout": {
        "barmode": "group",
        "legend": {
         "title": {
          "text": "event_enc"
         },
         "tracegroupgap": 0
        },
        "margin": {
         "t": 60
        },
        "template": {
         "data": {
          "bar": [
           {
            "error_x": {
             "color": "#2a3f5f"
            },
            "error_y": {
             "color": "#2a3f5f"
            },
            "marker": {
             "line": {
              "color": "#E5ECF6",
              "width": 0.5
             },
             "pattern": {
              "fillmode": "overlay",
              "size": 10,
              "solidity": 0.2
             }
            },
            "type": "bar"
           }
          ],
          "barpolar": [
           {
            "marker": {
             "line": {
              "color": "#E5ECF6",
              "width": 0.5
             },
             "pattern": {
              "fillmode": "overlay",
              "size": 10,
              "solidity": 0.2
             }
            },
            "type": "barpolar"
           }
          ],
          "carpet": [
           {
            "aaxis": {
             "endlinecolor": "#2a3f5f",
             "gridcolor": "white",
             "linecolor": "white",
             "minorgridcolor": "white",
             "startlinecolor": "#2a3f5f"
            },
            "baxis": {
             "endlinecolor": "#2a3f5f",
             "gridcolor": "white",
             "linecolor": "white",
             "minorgridcolor": "white",
             "startlinecolor": "#2a3f5f"
            },
            "type": "carpet"
           }
          ],
          "choropleth": [
           {
            "colorbar": {
             "outlinewidth": 0,
             "ticks": ""
            },
            "type": "choropleth"
           }
          ],
          "contour": [
           {
            "colorbar": {
             "outlinewidth": 0,
             "ticks": ""
            },
            "colorscale": [
             [
              0,
              "#0d0887"
             ],
             [
              0.1111111111111111,
              "#46039f"
             ],
             [
              0.2222222222222222,
              "#7201a8"
             ],
             [
              0.3333333333333333,
              "#9c179e"
             ],
             [
              0.4444444444444444,
              "#bd3786"
             ],
             [
              0.5555555555555556,
              "#d8576b"
             ],
             [
              0.6666666666666666,
              "#ed7953"
             ],
             [
              0.7777777777777778,
              "#fb9f3a"
             ],
             [
              0.8888888888888888,
              "#fdca26"
             ],
             [
              1,
              "#f0f921"
             ]
            ],
            "type": "contour"
           }
          ],
          "contourcarpet": [
           {
            "colorbar": {
             "outlinewidth": 0,
             "ticks": ""
            },
            "type": "contourcarpet"
           }
          ],
          "heatmap": [
           {
            "colorbar": {
             "outlinewidth": 0,
             "ticks": ""
            },
            "colorscale": [
             [
              0,
              "#0d0887"
             ],
             [
              0.1111111111111111,
              "#46039f"
             ],
             [
              0.2222222222222222,
              "#7201a8"
             ],
             [
              0.3333333333333333,
              "#9c179e"
             ],
             [
              0.4444444444444444,
              "#bd3786"
             ],
             [
              0.5555555555555556,
              "#d8576b"
             ],
             [
              0.6666666666666666,
              "#ed7953"
             ],
             [
              0.7777777777777778,
              "#fb9f3a"
             ],
             [
              0.8888888888888888,
              "#fdca26"
             ],
             [
              1,
              "#f0f921"
             ]
            ],
            "type": "heatmap"
           }
          ],
          "heatmapgl": [
           {
            "colorbar": {
             "outlinewidth": 0,
             "ticks": ""
            },
            "colorscale": [
             [
              0,
              "#0d0887"
             ],
             [
              0.1111111111111111,
              "#46039f"
             ],
             [
              0.2222222222222222,
              "#7201a8"
             ],
             [
              0.3333333333333333,
              "#9c179e"
             ],
             [
              0.4444444444444444,
              "#bd3786"
             ],
             [
              0.5555555555555556,
              "#d8576b"
             ],
             [
              0.6666666666666666,
              "#ed7953"
             ],
             [
              0.7777777777777778,
              "#fb9f3a"
             ],
             [
              0.8888888888888888,
              "#fdca26"
             ],
             [
              1,
              "#f0f921"
             ]
            ],
            "type": "heatmapgl"
           }
          ],
          "histogram": [
           {
            "marker": {
             "pattern": {
              "fillmode": "overlay",
              "size": 10,
              "solidity": 0.2
             }
            },
            "type": "histogram"
           }
          ],
          "histogram2d": [
           {
            "colorbar": {
             "outlinewidth": 0,
             "ticks": ""
            },
            "colorscale": [
             [
              0,
              "#0d0887"
             ],
             [
              0.1111111111111111,
              "#46039f"
             ],
             [
              0.2222222222222222,
              "#7201a8"
             ],
             [
              0.3333333333333333,
              "#9c179e"
             ],
             [
              0.4444444444444444,
              "#bd3786"
             ],
             [
              0.5555555555555556,
              "#d8576b"
             ],
             [
              0.6666666666666666,
              "#ed7953"
             ],
             [
              0.7777777777777778,
              "#fb9f3a"
             ],
             [
              0.8888888888888888,
              "#fdca26"
             ],
             [
              1,
              "#f0f921"
             ]
            ],
            "type": "histogram2d"
           }
          ],
          "histogram2dcontour": [
           {
            "colorbar": {
             "outlinewidth": 0,
             "ticks": ""
            },
            "colorscale": [
             [
              0,
              "#0d0887"
             ],
             [
              0.1111111111111111,
              "#46039f"
             ],
             [
              0.2222222222222222,
              "#7201a8"
             ],
             [
              0.3333333333333333,
              "#9c179e"
             ],
             [
              0.4444444444444444,
              "#bd3786"
             ],
             [
              0.5555555555555556,
              "#d8576b"
             ],
             [
              0.6666666666666666,
              "#ed7953"
             ],
             [
              0.7777777777777778,
              "#fb9f3a"
             ],
             [
              0.8888888888888888,
              "#fdca26"
             ],
             [
              1,
              "#f0f921"
             ]
            ],
            "type": "histogram2dcontour"
           }
          ],
          "mesh3d": [
           {
            "colorbar": {
             "outlinewidth": 0,
             "ticks": ""
            },
            "type": "mesh3d"
           }
          ],
          "parcoords": [
           {
            "line": {
             "colorbar": {
              "outlinewidth": 0,
              "ticks": ""
             }
            },
            "type": "parcoords"
           }
          ],
          "pie": [
           {
            "automargin": true,
            "type": "pie"
           }
          ],
          "scatter": [
           {
            "marker": {
             "colorbar": {
              "outlinewidth": 0,
              "ticks": ""
             }
            },
            "type": "scatter"
           }
          ],
          "scatter3d": [
           {
            "line": {
             "colorbar": {
              "outlinewidth": 0,
              "ticks": ""
             }
            },
            "marker": {
             "colorbar": {
              "outlinewidth": 0,
              "ticks": ""
             }
            },
            "type": "scatter3d"
           }
          ],
          "scattercarpet": [
           {
            "marker": {
             "colorbar": {
              "outlinewidth": 0,
              "ticks": ""
             }
            },
            "type": "scattercarpet"
           }
          ],
          "scattergeo": [
           {
            "marker": {
             "colorbar": {
              "outlinewidth": 0,
              "ticks": ""
             }
            },
            "type": "scattergeo"
           }
          ],
          "scattergl": [
           {
            "marker": {
             "colorbar": {
              "outlinewidth": 0,
              "ticks": ""
             }
            },
            "type": "scattergl"
           }
          ],
          "scattermapbox": [
           {
            "marker": {
             "colorbar": {
              "outlinewidth": 0,
              "ticks": ""
             }
            },
            "type": "scattermapbox"
           }
          ],
          "scatterpolar": [
           {
            "marker": {
             "colorbar": {
              "outlinewidth": 0,
              "ticks": ""
             }
            },
            "type": "scatterpolar"
           }
          ],
          "scatterpolargl": [
           {
            "marker": {
             "colorbar": {
              "outlinewidth": 0,
              "ticks": ""
             }
            },
            "type": "scatterpolargl"
           }
          ],
          "scatterternary": [
           {
            "marker": {
             "colorbar": {
              "outlinewidth": 0,
              "ticks": ""
             }
            },
            "type": "scatterternary"
           }
          ],
          "surface": [
           {
            "colorbar": {
             "outlinewidth": 0,
             "ticks": ""
            },
            "colorscale": [
             [
              0,
              "#0d0887"
             ],
             [
              0.1111111111111111,
              "#46039f"
             ],
             [
              0.2222222222222222,
              "#7201a8"
             ],
             [
              0.3333333333333333,
              "#9c179e"
             ],
             [
              0.4444444444444444,
              "#bd3786"
             ],
             [
              0.5555555555555556,
              "#d8576b"
             ],
             [
              0.6666666666666666,
              "#ed7953"
             ],
             [
              0.7777777777777778,
              "#fb9f3a"
             ],
             [
              0.8888888888888888,
              "#fdca26"
             ],
             [
              1,
              "#f0f921"
             ]
            ],
            "type": "surface"
           }
          ],
          "table": [
           {
            "cells": {
             "fill": {
              "color": "#EBF0F8"
             },
             "line": {
              "color": "white"
             }
            },
            "header": {
             "fill": {
              "color": "#C8D4E3"
             },
             "line": {
              "color": "white"
             }
            },
            "type": "table"
           }
          ]
         },
         "layout": {
          "annotationdefaults": {
           "arrowcolor": "#2a3f5f",
           "arrowhead": 0,
           "arrowwidth": 1
          },
          "autotypenumbers": "strict",
          "coloraxis": {
           "colorbar": {
            "outlinewidth": 0,
            "ticks": ""
           }
          },
          "colorscale": {
           "diverging": [
            [
             0,
             "#8e0152"
            ],
            [
             0.1,
             "#c51b7d"
            ],
            [
             0.2,
             "#de77ae"
            ],
            [
             0.3,
             "#f1b6da"
            ],
            [
             0.4,
             "#fde0ef"
            ],
            [
             0.5,
             "#f7f7f7"
            ],
            [
             0.6,
             "#e6f5d0"
            ],
            [
             0.7,
             "#b8e186"
            ],
            [
             0.8,
             "#7fbc41"
            ],
            [
             0.9,
             "#4d9221"
            ],
            [
             1,
             "#276419"
            ]
           ],
           "sequential": [
            [
             0,
             "#0d0887"
            ],
            [
             0.1111111111111111,
             "#46039f"
            ],
            [
             0.2222222222222222,
             "#7201a8"
            ],
            [
             0.3333333333333333,
             "#9c179e"
            ],
            [
             0.4444444444444444,
             "#bd3786"
            ],
            [
             0.5555555555555556,
             "#d8576b"
            ],
            [
             0.6666666666666666,
             "#ed7953"
            ],
            [
             0.7777777777777778,
             "#fb9f3a"
            ],
            [
             0.8888888888888888,
             "#fdca26"
            ],
            [
             1,
             "#f0f921"
            ]
           ],
           "sequentialminus": [
            [
             0,
             "#0d0887"
            ],
            [
             0.1111111111111111,
             "#46039f"
            ],
            [
             0.2222222222222222,
             "#7201a8"
            ],
            [
             0.3333333333333333,
             "#9c179e"
            ],
            [
             0.4444444444444444,
             "#bd3786"
            ],
            [
             0.5555555555555556,
             "#d8576b"
            ],
            [
             0.6666666666666666,
             "#ed7953"
            ],
            [
             0.7777777777777778,
             "#fb9f3a"
            ],
            [
             0.8888888888888888,
             "#fdca26"
            ],
            [
             1,
             "#f0f921"
            ]
           ]
          },
          "colorway": [
           "#636efa",
           "#EF553B",
           "#00cc96",
           "#ab63fa",
           "#FFA15A",
           "#19d3f3",
           "#FF6692",
           "#B6E880",
           "#FF97FF",
           "#FECB52"
          ],
          "font": {
           "color": "#2a3f5f"
          },
          "geo": {
           "bgcolor": "white",
           "lakecolor": "white",
           "landcolor": "#E5ECF6",
           "showlakes": true,
           "showland": true,
           "subunitcolor": "white"
          },
          "hoverlabel": {
           "align": "left"
          },
          "hovermode": "closest",
          "mapbox": {
           "style": "light"
          },
          "paper_bgcolor": "white",
          "plot_bgcolor": "#E5ECF6",
          "polar": {
           "angularaxis": {
            "gridcolor": "white",
            "linecolor": "white",
            "ticks": ""
           },
           "bgcolor": "#E5ECF6",
           "radialaxis": {
            "gridcolor": "white",
            "linecolor": "white",
            "ticks": ""
           }
          },
          "scene": {
           "xaxis": {
            "backgroundcolor": "#E5ECF6",
            "gridcolor": "white",
            "gridwidth": 2,
            "linecolor": "white",
            "showbackground": true,
            "ticks": "",
            "zerolinecolor": "white"
           },
           "yaxis": {
            "backgroundcolor": "#E5ECF6",
            "gridcolor": "white",
            "gridwidth": 2,
            "linecolor": "white",
            "showbackground": true,
            "ticks": "",
            "zerolinecolor": "white"
           },
           "zaxis": {
            "backgroundcolor": "#E5ECF6",
            "gridcolor": "white",
            "gridwidth": 2,
            "linecolor": "white",
            "showbackground": true,
            "ticks": "",
            "zerolinecolor": "white"
           }
          },
          "shapedefaults": {
           "line": {
            "color": "#2a3f5f"
           }
          },
          "ternary": {
           "aaxis": {
            "gridcolor": "white",
            "linecolor": "white",
            "ticks": ""
           },
           "baxis": {
            "gridcolor": "white",
            "linecolor": "white",
            "ticks": ""
           },
           "bgcolor": "#E5ECF6",
           "caxis": {
            "gridcolor": "white",
            "linecolor": "white",
            "ticks": ""
           }
          },
          "title": {
           "x": 0.05
          },
          "xaxis": {
           "automargin": true,
           "gridcolor": "white",
           "linecolor": "white",
           "ticks": "",
           "title": {
            "standoff": 15
           },
           "zerolinecolor": "white",
           "zerolinewidth": 2
          },
          "yaxis": {
           "automargin": true,
           "gridcolor": "white",
           "linecolor": "white",
           "ticks": "",
           "title": {
            "standoff": 15
           },
           "zerolinecolor": "white",
           "zerolinewidth": 2
          }
         }
        },
        "xaxis": {
         "anchor": "y",
         "domain": [
          0,
          1
         ],
         "title": {
          "text": "setting"
         }
        },
        "yaxis": {
         "anchor": "x",
         "domain": [
          0,
          1
         ],
         "title": {
          "text": "sum of mean"
         }
        }
       }
      }
     },
     "metadata": {},
     "output_type": "display_data"
    }
   ],
   "source": [
    "temp = df2.reset_index()[df2.reset_index().dataset=='/scratch/hokarami/data_tedam/p12/']\n",
    "fig = px.histogram(temp, x='setting' ,y='mean',color='event_enc', barmode='group')\n",
    "fig.show()"
   ]
  }
 ],
 "metadata": {
  "kernelspec": {
   "display_name": "paper2022",
   "language": "python",
   "name": "python3"
  },
  "language_info": {
   "codemirror_mode": {
    "name": "ipython",
    "version": 3
   },
   "file_extension": ".py",
   "mimetype": "text/x-python",
   "name": "python",
   "nbconvert_exporter": "python",
   "pygments_lexer": "ipython3",
   "version": "3.9.7"
  },
  "orig_nbformat": 4,
  "vscode": {
   "interpreter": {
    "hash": "2424365b319d5b3383767d9f8fec79f5f671c110995951d06b0e4d42a68c0063"
   }
  }
 },
 "nbformat": 4,
 "nbformat_minor": 2
}
