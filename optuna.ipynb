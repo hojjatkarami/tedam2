{
 "cells": [
  {
   "cell_type": "code",
   "execution_count": null,
   "metadata": {},
   "outputs": [],
   "source": [
    "\n",
    "# Main.main()\n",
    "\n",
    "# %run Main.py -data C:/DATA/data/processed/physio2019_1d_HP/ -per 3     -epoch 5  -mod None -int_dec sahp  -state -w_class -sample_label     \n",
    "# %run Main.py -data C:/DATA/data/processed/physio2019_1d_HP/ -per 3     -epoch 5  -mod None -int_dec sahp  -state -w_class -sample_label      \n",
    "\n",
    "# %run Main.py test.json\n",
    "# Main.main('test.json')"
   ]
  },
  {
   "cell_type": "code",
   "execution_count": 2,
   "metadata": {},
   "outputs": [
    {
     "name": "stderr",
     "output_type": "stream",
     "text": [
      "\u001b[32m[I 2022-11-30 11:30:21,543]\u001b[0m A new study created in memory with name: no-name-c09ab081-d938-4784-95fa-a049d760b90f\u001b[0m\n"
     ]
    },
    {
     "name": "stdout",
     "output_type": "stream",
     "text": [
      "OPTUNA!\n",
      "['Main.py', '-data', 'C:/DATA/data/processed/physio2019_1d_HP_std/', '-per', '25', '-user_prefix', 'MarLastDetachState-', '-epoch', '20', '-w_pos', '-sample_label', '-mod', 'None', '-int_dec', 'thp']\n",
      "['Main.py', '-data', 'C:/DATA/data/processed/physio2019_1d_HP_std/', '-per', '25', '-user_prefix', 'MarLastDetachState-', '-epoch', '20', '-w_pos', '-sample_label', '-mod', 'None', '-int_dec', 'thp']\n",
      "[Info] ### Point Process strategy: None ###\n",
      "[info] tensorboard integration:\n",
      "tensorboard --logdir 'C:/DATA/data/processed/physio2019_1d_HP_std/'\n",
      "\n",
      "[Info] parameters: Namespace(data='C:/DATA/data/processed/physio2019_1d_HP_std/', per=25, balanced_batch=True, log='log.txt', user_prefix='MarLastDetachState-', pos_alpha=1.0, epoch=20, batch_size=4, lr=0.0003, smooth=0.0, time_enc='concat', d_model=32, d_rnn=256, d_inner_hid=128, d_k=32, d_v=32, n_head=4, n_layers=8, dropout=0.1, state=False, num_states=1, w_class=False, w_pos=True, w_time=1.0, sample_label=True, w_sample_label=100.0, mod='None', int_dec='thp', w_event=1, hparams2write={'data': 'C:/DATA/data/processed/physio2019_1d_HP_std/', 'per': 25, 'balanced_batch': True, 'log': 'log.txt', 'user_prefix': 'MarLastDetachState-', 'pos_alpha': 1.0, 'epoch': 20, 'batch_size': 4, 'lr': 0.0003, 'smooth': 0.0, 'time_enc': 'concat', 'd_model': 32, 'd_rnn': 256, 'd_inner_hid': 128, 'd_k': 32, 'd_v': 32, 'n_head': 4, 'n_layers': 8, 'dropout': 0.1, 'state': False, 'num_states': 1, 'w_class': False, 'w_pos': True, 'w_time': 1.0, 'sample_label': True, 'w_sample_label': 100.0, 'mod': 'None', 'int_dec': 'thp', 'w_event': 1}, device=device(type='cuda'), date='30-11-22--11-30-28', run_id='744142', str_config='-None-state0-per25', run_name='MarLastDetachState-744142-None-state0-per25', run_folder='C:/DATA/data/processed/physio2019_1d_HP_std/MarLastDetachState-744142-None-state0-per25/', writer=<torch.utils.tensorboard.writer.SummaryWriter object at 0x000001DE74CFD9D0>, event_loss=<function thp_log_likelihood at 0x000001DE661A4700>, event_loss_test=<function thp_log_likelihood_test at 0x000001DE661A48B0>)\n",
      "[Info] Loading train data...\n",
      "[Info] Loading dev data...\n",
      "[Info] Loading test data...\n",
      "[info] 25% of data will be considered\n",
      "[Info] Loading train STATE...\n",
      "[Info] Loading dev STATE...\n",
      "[Info] Loading test STATE...\n",
      "[info] 25% of data will be considered\n",
      "[info] True/total = 0.0807\n",
      "[info] balanced mini batches\n"
     ]
    }
   ],
   "source": [
    "import Main\n",
    "\n",
    "import optuna\n",
    "from optuna.integration import PyTorchLightningPruningCallback\n",
    "# from optuna.integration.tensorboard import TensorBoardCallback\n",
    "\n",
    "\n",
    "\n",
    "# tensorboard_callback = TensorBoardCallback(\"logs/optuna/\", metric_name=\"accuracy\")\n",
    "\n",
    "\n",
    "\n",
    "\n",
    "\n",
    "\n",
    "\n",
    "\n",
    "# if os.path.exists(data['add_data']+'Optuna/') and os.path.isdir(data['add_data']+'Optuna/'):\n",
    "#     shutil.rmtree(data['add_data']+'Optuna/')\n",
    "    \n",
    "# print(f\"######################### TENSORBOARD #######################\\ntensorboard --logdir={data['add_data'] + 'Optuna/'} --port 1374\")\n",
    "\n",
    "my_pruner = optuna.pruners.PercentilePruner(percentile=25,n_startup_trials=5,n_warmup_steps=10)\n",
    "study = optuna.create_study(direction=\"maximize\", sampler=optuna.samplers.TPESampler(), pruner=my_pruner)\n",
    "study.optimize(Main.main, n_trials=100)"
   ]
  },
  {
   "cell_type": "code",
   "execution_count": null,
   "metadata": {},
   "outputs": [],
   "source": []
  }
 ],
 "metadata": {
  "kernelspec": {
   "display_name": "Python 3.9.7 ('dashVis')",
   "language": "python",
   "name": "python3"
  },
  "language_info": {
   "codemirror_mode": {
    "name": "ipython",
    "version": 3
   },
   "file_extension": ".py",
   "mimetype": "text/x-python",
   "name": "python",
   "nbconvert_exporter": "python",
   "pygments_lexer": "ipython3",
   "version": "3.9.7"
  },
  "orig_nbformat": 4,
  "vscode": {
   "interpreter": {
    "hash": "c2f29e1a05e7eec16e11fbddc27661320510c37e25360333d406961ee2486f09"
   }
  }
 },
 "nbformat": 4,
 "nbformat_minor": 2
}
