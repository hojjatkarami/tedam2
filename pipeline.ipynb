{
 "cells": [
  {
   "cell_type": "code",
   "execution_count": 1,
   "metadata": {},
   "outputs": [
    {
     "ename": "SyntaxError",
     "evalue": "invalid syntax (1853151258.py, line 1)",
     "output_type": "error",
     "traceback": [
      "\u001b[1;36m  Input \u001b[1;32mIn [1]\u001b[1;36m\u001b[0m\n\u001b[1;33m    tensorboard --logdir C:/DATA/data/processed/physio2019_1d_HP_dis/\u001b[0m\n\u001b[1;37m                         ^\u001b[0m\n\u001b[1;31mSyntaxError\u001b[0m\u001b[1;31m:\u001b[0m invalid syntax\n"
     ]
    }
   ],
   "source": [
    "tensorboard --logdir C:/DATA/data/processed/physio2019_1d_HP_dis/"
   ]
  },
  {
   "cell_type": "code",
   "execution_count": null,
   "metadata": {},
   "outputs": [],
   "source": [
    "# SO\n",
    "ADD_DATA = f\"C:\\\\DATA\\\\data\\\\raw\\\\neuralTPP\\\\data\\\\Stack Overflow\\\\so\\\\baseline\\\\so\\\\split_1\\\\\"\n",
    "\n",
    "# Synthea_Ear\n",
    "ADD_DATA = \"C:\\\\DATA\\\\data\\\\raw\\\\neuralTPP\\\\data\\\\Synthea - Ear infection\\\\ear_infection\\\\synthea\\\\ear_infection\\\\split_1\\\\\""
   ]
  },
  {
   "cell_type": "code",
   "execution_count": null,
   "metadata": {},
   "outputs": [],
   "source": []
  },
  {
   "cell_type": "code",
   "execution_count": null,
   "metadata": {},
   "outputs": [],
   "source": []
  },
  {
   "cell_type": "markdown",
   "metadata": {},
   "source": [
    "# Data"
   ]
  },
  {
   "cell_type": "code",
   "execution_count": null,
   "metadata": {},
   "outputs": [],
   "source": []
  },
  {
   "cell_type": "markdown",
   "metadata": {},
   "source": [
    "## Physio2019"
   ]
  },
  {
   "cell_type": "code",
   "execution_count": null,
   "metadata": {},
   "outputs": [],
   "source": []
  },
  {
   "cell_type": "markdown",
   "metadata": {},
   "source": [
    "## SO"
   ]
  },
  {
   "cell_type": "code",
   "execution_count": null,
   "metadata": {},
   "outputs": [],
   "source": []
  },
  {
   "cell_type": "markdown",
   "metadata": {},
   "source": [
    "## Synthea Ear"
   ]
  },
  {
   "cell_type": "code",
   "execution_count": null,
   "metadata": {},
   "outputs": [],
   "source": []
  },
  {
   "cell_type": "markdown",
   "metadata": {},
   "source": [
    "# Hyper parameter tuning"
   ]
  },
  {
   "cell_type": "code",
   "execution_count": null,
   "metadata": {},
   "outputs": [],
   "source": []
  },
  {
   "cell_type": "markdown",
   "metadata": {},
   "source": [
    "# Training\n",
    "\n",
    "* P19\n",
    "    * Baselines:\n",
    "        * THP W/CIF MHP_multilabel\n",
    "        * SAHP W/CIF MHP_multilabel\n",
    "    * HK in 4 scenarios (SHP_marked vs MHP_multilabel):\n",
    "        * WO/S, WO/CIF\n",
    "        * WO/S, W/CIF\n",
    "        * W/S, WO/CIF\n",
    "        * W/S, W/CIF\n",
    "    * Outputs:\n",
    "        * next marks\n",
    "        * next time\n",
    "        * NLL\n",
    "        * sample label\n",
    "    \n",
    "\n",
    "* SO\n",
    "    * Baselines:\n",
    "        * THP W/CIF MHP_multiclass\n",
    "        * SAHP W/CIF MHP_multiclass\n",
    "    * HK (SHP_marked vs MHP_multiclass)\n",
    "    * Outputs:\n",
    "        * next marks\n",
    "        * next time\n",
    "        * NLL\n",
    "\n",
    "        \n",
    "* Synthea_Ear\n",
    "    * Baselines:\n",
    "        * THP W/CIF MHP_multilabel\n",
    "        * SAHP W/CIF MHP_multilabel\n",
    "    * HK (SHP_marked vs MHP_multilabel)\n",
    "    * Outputs:\n",
    "        * next marks\n",
    "        * next time\n",
    "        * NLL"
   ]
  },
  {
   "cell_type": "code",
   "execution_count": null,
   "metadata": {},
   "outputs": [],
   "source": []
  },
  {
   "cell_type": "markdown",
   "metadata": {},
   "source": [
    "# Results"
   ]
  },
  {
   "cell_type": "code",
   "execution_count": null,
   "metadata": {},
   "outputs": [],
   "source": []
  }
 ],
 "metadata": {
  "kernelspec": {
   "display_name": "Python 3.9.7 ('dashVis')",
   "language": "python",
   "name": "python3"
  },
  "language_info": {
   "codemirror_mode": {
    "name": "ipython",
    "version": 3
   },
   "file_extension": ".py",
   "mimetype": "text/x-python",
   "name": "python",
   "nbconvert_exporter": "python",
   "pygments_lexer": "ipython3",
   "version": "3.9.7"
  },
  "orig_nbformat": 4,
  "vscode": {
   "interpreter": {
    "hash": "c2f29e1a05e7eec16e11fbddc27661320510c37e25360333d406961ee2486f09"
   }
  }
 },
 "nbformat": 4,
 "nbformat_minor": 2
}
