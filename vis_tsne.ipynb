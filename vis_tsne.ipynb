{
 "cells": [
  {
   "cell_type": "code",
   "execution_count": 1,
   "metadata": {},
   "outputs": [],
   "source": [
    "# activate line execution\n",
    "from IPython.core.interactiveshell import InteractiveShell\n",
    "InteractiveShell.ast_node_interactivity = \"all\"\n",
    "\n",
    "# general\n",
    "import numpy as np\n",
    "import pandas as pd\n",
    "import math\n",
    "import matplotlib.pyplot as plt\n",
    "import os\n",
    "import shutil\n",
    "import pickle\n",
    "\n",
    "# plotly\n",
    "import plotly.express as px  # (version 4.7.0 or higher)\n",
    "import plotly.graph_objects as go\n",
    "from plotly.subplots import make_subplots\n",
    "\n",
    "# import custom libraries\n",
    "import sys\n",
    "# sys.path.append(\"C:\\\\DATA\\\\Tasks\\\\lib\\\\hk\")\n",
    "# import hk_utils\n",
    "\n",
    "# folder paths\n",
    "ADD_DATA = \"C:\\\\DATA\\\\data\\\\raw\\\\mimic4\\\\lookup\\\\\"\n",
    "ADD_DATA_proc = \"C:/DATA/data/processed/\"\n",
    "\n",
    "\n",
    "PATH_PAPER = \"C:\\\\DATA\\\\Tasks\\\\220704\\\\Alternate-Transactions-Articles-LaTeX-template\\\\images\\\\\"\n",
    "\n",
    "\n",
    "PATH_SYS=\"/scratch/hokarami/data_old/\""
   ]
  },
  {
   "cell_type": "code",
   "execution_count": 2,
   "metadata": {},
   "outputs": [
    {
     "name": "stderr",
     "output_type": "stream",
     "text": [
      "/opt/conda/envs/paper2022/lib/python3.9/site-packages/tqdm/auto.py:22: TqdmWarning: IProgress not found. Please update jupyter and ipywidgets. See https://ipywidgets.readthedocs.io/en/stable/user_install.html\n",
      "  from .autonotebook import tqdm as notebook_tqdm\n",
      "/opt/conda/envs/paper2022/lib/python3.9/site-packages/scipy/__init__.py:146: UserWarning: A NumPy version >=1.16.5 and <1.23.0 is required for this version of SciPy (detected version 1.23.1\n",
      "  warnings.warn(f\"A NumPy version >={np_minversion} and <{np_maxversion}\"\n"
     ]
    }
   ],
   "source": [
    "# libraries for THP\n",
    "\n",
    "import argparse\n",
    "import numpy as np\n",
    "import pickle\n",
    "import time\n",
    "import torch\n",
    "import torch.nn as nn\n",
    "import torch.optim as optim\n",
    "# from torch.utils.tensorboard import SummaryWriter\n",
    "\n",
    "import transformer.Constants as Constants\n",
    "import Utils\n",
    "\n",
    "# from preprocess.Dataset import get_dataloader, get_dataloader2\n",
    "# from transformer.Models import Transformer\n",
    "# from transformer.hk_transformer import Transformer\n",
    "from tqdm import tqdm\n",
    "\n",
    "# from torchinfo import summary\n",
    "\n",
    "os.environ['CUDA_LAUNCH_BLOCKING'] = \"1\"\n",
    "\n",
    "# torch.cuda.empty_cache()\n",
    "# torch.cuda.memory_allocated()\n",
    "# torch.cuda.memory_reserved()\n",
    "\n",
    "from sklearn import metrics\n",
    "# from hk_pytorch import save_checkpoint,load_checkpoint\n",
    "# import hk_pytorch\n",
    "\n",
    "\n",
    "# from custom2 import myparser\n",
    "import re"
   ]
  },
  {
   "cell_type": "code",
   "execution_count": 3,
   "metadata": {},
   "outputs": [],
   "source": [
    "import Main\n",
    "import webbrowser\n"
   ]
  },
  {
   "cell_type": "code",
   "execution_count": 4,
   "metadata": {},
   "outputs": [],
   "source": [
    "import io"
   ]
  },
  {
   "cell_type": "code",
   "execution_count": 5,
   "metadata": {},
   "outputs": [],
   "source": [
    "from tsnecuda import TSNE\n",
    "from MulticoreTSNE import MulticoreTSNE as TSNE"
   ]
  },
  {
   "cell_type": "code",
   "execution_count": 6,
   "metadata": {},
   "outputs": [],
   "source": [
    "# !pip install wandb -qqq\n",
    "import wandb\n",
    "# wandb.login()\n",
    "api = wandb.Api()\n",
    "import os\n",
    "\n",
    "os.environ[\"WANDB_API_KEY\"] = \"0f780ac8a470afe6cb7fc474ff3794772c660465\"\n",
    "\n",
    "os.environ[\"WANDB_NOTEBOOK_NAME\"] = \"jup_res\""
   ]
  },
  {
   "cell_type": "markdown",
   "metadata": {},
   "source": [
    "# Model path"
   ]
  },
  {
   "cell_type": "code",
   "execution_count": 80,
   "metadata": {},
   "outputs": [
    {
     "data": {
      "text/plain": [
       "'hokarami/TEEDAM_supervised/sb9zf1mm'"
      ]
     },
     "execution_count": 80,
     "metadata": {},
     "output_type": "execute_result"
    },
    {
     "data": {
      "text/plain": [
       "<_io.TextIOWrapper name='./local/best_model.pkl' mode='r' encoding='UTF-8'>"
      ]
     },
     "execution_count": 80,
     "metadata": {},
     "output_type": "execute_result"
    },
    {
     "data": {
      "text/plain": [
       "<_io.TextIOWrapper name='./local/conda-environment.yaml' mode='r' encoding='UTF-8'>"
      ]
     },
     "execution_count": 80,
     "metadata": {},
     "output_type": "execute_result"
    },
    {
     "data": {
      "text/plain": [
       "<_io.TextIOWrapper name='./local/config.yaml' mode='r' encoding='UTF-8'>"
      ]
     },
     "execution_count": 80,
     "metadata": {},
     "output_type": "execute_result"
    },
    {
     "data": {
      "text/plain": [
       "<_io.TextIOWrapper name='./local/opt.pkl' mode='r' encoding='UTF-8'>"
      ]
     },
     "execution_count": 80,
     "metadata": {},
     "output_type": "execute_result"
    },
    {
     "data": {
      "text/plain": [
       "<_io.TextIOWrapper name='./local/output.log' mode='r' encoding='UTF-8'>"
      ]
     },
     "execution_count": 80,
     "metadata": {},
     "output_type": "execute_result"
    },
    {
     "data": {
      "text/plain": [
       "<_io.TextIOWrapper name='./local/requirements.txt' mode='r' encoding='UTF-8'>"
      ]
     },
     "execution_count": 80,
     "metadata": {},
     "output_type": "execute_result"
    },
    {
     "data": {
      "text/plain": [
       "<_io.TextIOWrapper name='./local/wandb-metadata.json' mode='r' encoding='UTF-8'>"
      ]
     },
     "execution_count": 80,
     "metadata": {},
     "output_type": "execute_result"
    },
    {
     "data": {
      "text/plain": [
       "<_io.TextIOWrapper name='./local/wandb-summary.json' mode='r' encoding='UTF-8'>"
      ]
     },
     "execution_count": 80,
     "metadata": {},
     "output_type": "execute_result"
    }
   ],
   "source": [
    "runs_path=[\n",
    "# \"hokarami/TEEDAM_supervised/5uzxzoxd\",\n",
    "\"hokarami/TEEDAM_supervised/sb9zf1mm\",\n",
    "# \"hokarami/TEEDAM_unsupervised_timeCat/66pgiau2\",\n",
    "\n",
    "# \"hokarami/TEEDAM_unsupervised_timeCat/j2ck0i9i\",\n",
    "\n",
    "]\n",
    "\n",
    "run_path = runs_path[-1]\n",
    "run_path\n",
    "\n",
    "\n",
    "run = api.run(run_path)\n",
    "for file in run.files():\n",
    "    file.download(replace=True,root='./local/')"
   ]
  },
  {
   "cell_type": "code",
   "execution_count": 81,
   "metadata": {},
   "outputs": [
    {
     "name": "stdout",
     "output_type": "stream",
     "text": [
      "############################## CUDA True\n",
      "[Info] INPUT TEDAM --> single-mark-label\n",
      "[Info] parameters: Namespace(data='/home/hokarami/data/p12-seft/', data_label='multilabel', cuda=1, wandb=True, wandb_project='TEEDAM_supervised', log_freq=1, prof=False, per=100, balanced_batch=True, transfer_learning='', freeze='', ES_pat=100, setting='seft', test_center='', split='', log='log.txt', user_prefix='[R200-TEDA__pp_single_mark-concat]', pos_alpha=1.0, epoch=15, batch_size=128, lr=0.01, smooth=0.0, weight_decay=0.1, event_enc=1, time_enc='concat', te_d_mark=8, te_d_time=8, te_d_rnn=256, te_d_inner=16, te_d_k=8, te_d_v=8, te_n_head=4, te_n_layers=4, te_dropout=0.1, state=True, demo=True, num_states=1, noise=False, mod='single', int_dec='sahp', w_event=1.0, next_mark=1, w_class=False, w_pos=False, mark_detach=0, w_time=1.0, sample_label=1, w_pos_label=0.5, w_sample_label=100.0, hparams2write={'data': '/home/hokarami/data/p12/', 'data_label': 'multilabel', 'cuda': 1, 'wandb': True, 'wandb_project': 'TEEDAM_supervised', 'log_freq': 1, 'prof': False, 'per': 100, 'balanced_batch': True, 'transfer_learning': '', 'freeze': '', 'ES_pat': 100, 'setting': 'seft', 'test_center': '', 'split': '', 'log': 'log.txt', 'user_prefix': '[R200-TEDA__pp_single_mark-concat]', 'pos_alpha': 1.0, 'epoch': 15, 'batch_size': 128, 'lr': 0.01, 'smooth': 0.0, 'weight_decay': 0.1, 'event_enc': 1, 'time_enc': 'concat', 'te_d_mark': 8, 'te_d_time': 8, 'te_d_rnn': 256, 'te_d_inner': 16, 'te_d_k': 8, 'te_d_v': 8, 'te_n_head': 4, 'te_n_layers': 4, 'te_dropout': 0.1, 'state': True, 'demo': True, 'num_states': 1, 'noise': False, 'mod': 'single', 'int_dec': 'sahp', 'w_event': 1.0, 'next_mark': 1, 'w_class': False, 'w_pos': False, 'mark_detach': 0, 'w_time': 1.0, 'sample_label': 1, 'w_pos_label': 0.5, 'w_sample_label': 100.0}, date='17-02-23--12-46-42', run_id='1534432', dataset='P12', str_config='-seft', run_name='[R200-TEDA__pp_single_mark-concat]1534432', run_path='/home/hokarami/data/p12-seft/[R200-TEDA__pp_single_mark-concat]1534432/', device=device(type='cuda'), INPUT='TEDAM', OUTPUT='single-mark-label')\n",
      "[Info] Loading train data...\n",
      "[Info] Loading dev data...\n",
      "[Info] Loading test data...\n",
      "[info] 100% of data will be considered\n",
      "[Info] Loading train STATE...\n",
      "[Info] Loading dev STATE...\n",
      "[Info] Loading test STATE...\n",
      "[info] 100% of data will be considered\n",
      "[info] True/total = 0.1425\n",
      "[info] balanced mini batches\n"
     ]
    }
   ],
   "source": [
    "# os.listdir(add_data)[8:]\n",
    "\n",
    "\n",
    "\n",
    "\n",
    "\n",
    "# run_path = runs_path[-1]\n",
    "\n",
    "# os.listdir(run_path)\n",
    "\n",
    "# # load opt file\n",
    "\n",
    "\n",
    "opt = pickle.load(open('./local/opt.pkl','rb'))\n",
    "# modify opt\n",
    "opt = Main.config(opt, justLoad=True)\n",
    "\n",
    "checkpoint = torch.load('./local/best_model.pkl')\n",
    "# # modify opt\n",
    "# # opt = Main.config(opt, justLoad=True)\n",
    "\n",
    "\n"
   ]
  },
  {
   "attachments": {},
   "cell_type": "markdown",
   "metadata": {},
   "source": [
    "## load pre-trained model"
   ]
  },
  {
   "cell_type": "code",
   "execution_count": 82,
   "metadata": {},
   "outputs": [
    {
     "name": "stdout",
     "output_type": "stream",
     "text": [
      "[info] STATE will be considered\n"
     ]
    },
    {
     "data": {
      "text/plain": [
       "ATHP(\n",
       "  (TE): Encoder(\n",
       "    (event_emb): Linear(in_features=25, out_features=8, bias=True)\n",
       "    (layer_stack): ModuleList(\n",
       "      (0): EncoderLayer(\n",
       "        (slf_attn): MultiHeadAttention(\n",
       "          (w_qs): Linear(in_features=16, out_features=32, bias=False)\n",
       "          (w_ks): Linear(in_features=16, out_features=32, bias=False)\n",
       "          (w_vs): Linear(in_features=16, out_features=32, bias=False)\n",
       "          (fc): Linear(in_features=32, out_features=16, bias=True)\n",
       "          (attention): ScaledDotProductAttention(\n",
       "            (dropout): Dropout(p=0.1, inplace=False)\n",
       "          )\n",
       "          (layer_norm): LayerNorm((16,), eps=1e-06, elementwise_affine=True)\n",
       "          (dropout): Dropout(p=0.1, inplace=False)\n",
       "        )\n",
       "        (pos_ffn): PositionwiseFeedForward(\n",
       "          (w_1): Linear(in_features=16, out_features=16, bias=True)\n",
       "          (w_2): Linear(in_features=16, out_features=16, bias=True)\n",
       "          (layer_norm): LayerNorm((16,), eps=1e-06, elementwise_affine=True)\n",
       "          (dropout): Dropout(p=0.1, inplace=False)\n",
       "        )\n",
       "      )\n",
       "      (1): EncoderLayer(\n",
       "        (slf_attn): MultiHeadAttention(\n",
       "          (w_qs): Linear(in_features=16, out_features=32, bias=False)\n",
       "          (w_ks): Linear(in_features=16, out_features=32, bias=False)\n",
       "          (w_vs): Linear(in_features=16, out_features=32, bias=False)\n",
       "          (fc): Linear(in_features=32, out_features=16, bias=True)\n",
       "          (attention): ScaledDotProductAttention(\n",
       "            (dropout): Dropout(p=0.1, inplace=False)\n",
       "          )\n",
       "          (layer_norm): LayerNorm((16,), eps=1e-06, elementwise_affine=True)\n",
       "          (dropout): Dropout(p=0.1, inplace=False)\n",
       "        )\n",
       "        (pos_ffn): PositionwiseFeedForward(\n",
       "          (w_1): Linear(in_features=16, out_features=16, bias=True)\n",
       "          (w_2): Linear(in_features=16, out_features=16, bias=True)\n",
       "          (layer_norm): LayerNorm((16,), eps=1e-06, elementwise_affine=True)\n",
       "          (dropout): Dropout(p=0.1, inplace=False)\n",
       "        )\n",
       "      )\n",
       "      (2): EncoderLayer(\n",
       "        (slf_attn): MultiHeadAttention(\n",
       "          (w_qs): Linear(in_features=16, out_features=32, bias=False)\n",
       "          (w_ks): Linear(in_features=16, out_features=32, bias=False)\n",
       "          (w_vs): Linear(in_features=16, out_features=32, bias=False)\n",
       "          (fc): Linear(in_features=32, out_features=16, bias=True)\n",
       "          (attention): ScaledDotProductAttention(\n",
       "            (dropout): Dropout(p=0.1, inplace=False)\n",
       "          )\n",
       "          (layer_norm): LayerNorm((16,), eps=1e-06, elementwise_affine=True)\n",
       "          (dropout): Dropout(p=0.1, inplace=False)\n",
       "        )\n",
       "        (pos_ffn): PositionwiseFeedForward(\n",
       "          (w_1): Linear(in_features=16, out_features=16, bias=True)\n",
       "          (w_2): Linear(in_features=16, out_features=16, bias=True)\n",
       "          (layer_norm): LayerNorm((16,), eps=1e-06, elementwise_affine=True)\n",
       "          (dropout): Dropout(p=0.1, inplace=False)\n",
       "        )\n",
       "      )\n",
       "      (3): EncoderLayer(\n",
       "        (slf_attn): MultiHeadAttention(\n",
       "          (w_qs): Linear(in_features=16, out_features=32, bias=False)\n",
       "          (w_ks): Linear(in_features=16, out_features=32, bias=False)\n",
       "          (w_vs): Linear(in_features=16, out_features=32, bias=False)\n",
       "          (fc): Linear(in_features=32, out_features=16, bias=True)\n",
       "          (attention): ScaledDotProductAttention(\n",
       "            (dropout): Dropout(p=0.1, inplace=False)\n",
       "          )\n",
       "          (layer_norm): LayerNorm((16,), eps=1e-06, elementwise_affine=True)\n",
       "          (dropout): Dropout(p=0.1, inplace=False)\n",
       "        )\n",
       "        (pos_ffn): PositionwiseFeedForward(\n",
       "          (w_1): Linear(in_features=16, out_features=16, bias=True)\n",
       "          (w_2): Linear(in_features=16, out_features=16, bias=True)\n",
       "          (layer_norm): LayerNorm((16,), eps=1e-06, elementwise_affine=True)\n",
       "          (dropout): Dropout(p=0.1, inplace=False)\n",
       "        )\n",
       "      )\n",
       "    )\n",
       "  )\n",
       "  (DAM): DeepAttensionModule(\n",
       "    (demo_encoder): Predictor(\n",
       "      (linear1): Linear(in_features=7, out_features=16, bias=True)\n",
       "      (linear2): Linear(in_features=16, out_features=16, bias=True)\n",
       "      (linear3): Linear(in_features=16, out_features=40, bias=True)\n",
       "      (relu): ReLU()\n",
       "      (do): Dropout(p=0.0, inplace=False)\n",
       "    )\n",
       "    (phi): MLP_state(\n",
       "      (fc1): Linear(in_features=40, out_features=32, bias=True)\n",
       "      (relu): ReLU()\n",
       "      (do): Dropout(p=0.0, inplace=False)\n",
       "      (fc2): Linear(in_features=32, out_features=32, bias=True)\n",
       "    )\n",
       "    (attention): CumulativeSetAttentionLayer(\n",
       "      (psi): MLP_state(\n",
       "        (fc1): Linear(in_features=40, out_features=16, bias=True)\n",
       "        (relu): ReLU()\n",
       "        (do): Dropout(p=0.0, inplace=False)\n",
       "        (fc2): Linear(in_features=16, out_features=16, bias=True)\n",
       "      )\n",
       "      (rho): Linear(in_features=16, out_features=32, bias=True)\n",
       "    )\n",
       "    (rho): MLP_state(\n",
       "      (fc1): Linear(in_features=64, out_features=32, bias=True)\n",
       "      (relu): ReLU()\n",
       "      (do): Dropout(p=0.0, inplace=False)\n",
       "      (fc2): Linear(in_features=32, out_features=32, bias=True)\n",
       "    )\n",
       "  )\n",
       "  (demo_encoder): Predictor(\n",
       "    (linear1): Linear(in_features=7, out_features=16, bias=True)\n",
       "    (linear2): Linear(in_features=16, out_features=16, bias=True)\n",
       "    (linear3): Linear(in_features=16, out_features=4, bias=True)\n",
       "    (relu): ReLU()\n",
       "    (do): Dropout(p=0.0, inplace=False)\n",
       "  )\n",
       "  (pred_label): Predictor(\n",
       "    (linear1): Linear(in_features=52, out_features=16, bias=True)\n",
       "    (linear2): Linear(in_features=16, out_features=16, bias=True)\n",
       "    (linear3): Linear(in_features=16, out_features=1, bias=True)\n",
       "    (relu): ReLU()\n",
       "    (do): Dropout(p=0.0, inplace=False)\n",
       "  )\n",
       "  (pred_next_time): Predictor(\n",
       "    (linear1): Linear(in_features=52, out_features=16, bias=True)\n",
       "    (linear2): Linear(in_features=16, out_features=16, bias=True)\n",
       "    (linear3): Linear(in_features=16, out_features=1, bias=True)\n",
       "    (relu): ReLU()\n",
       "    (do): Dropout(p=0.0, inplace=False)\n",
       "  )\n",
       "  (pred_next_type): Predictor(\n",
       "    (linear1): Linear(in_features=52, out_features=16, bias=True)\n",
       "    (linear2): Linear(in_features=16, out_features=16, bias=True)\n",
       "    (linear3): Linear(in_features=16, out_features=25, bias=True)\n",
       "    (relu): ReLU()\n",
       "    (do): Dropout(p=0.0, inplace=False)\n",
       "  )\n",
       "  (event_decoder): CIF_sahp(\n",
       "    (start_layer): Sequential(\n",
       "      (0): Linear(in_features=52, out_features=52, bias=True)\n",
       "      (1): GELU()\n",
       "    )\n",
       "    (converge_layer): Sequential(\n",
       "      (0): Linear(in_features=52, out_features=52, bias=True)\n",
       "      (1): GELU()\n",
       "    )\n",
       "    (decay_layer): Sequential(\n",
       "      (0): Linear(in_features=52, out_features=52, bias=True)\n",
       "      (1): Softplus(beta=10.0, threshold=20)\n",
       "    )\n",
       "    (intensity_layer): Sequential(\n",
       "      (0): Linear(in_features=52, out_features=1, bias=True)\n",
       "      (1): Softplus(beta=1.0, threshold=20)\n",
       "    )\n",
       "  )\n",
       ")"
      ]
     },
     "execution_count": 82,
     "metadata": {},
     "output_type": "execute_result"
    },
    {
     "data": {
      "text/plain": [
       "<All keys matched successfully>"
      ]
     },
     "execution_count": 82,
     "metadata": {},
     "output_type": "execute_result"
    }
   ],
   "source": [
    "model = Main.ATHP(\n",
    "       n_marks=opt.num_marks,\n",
    "        TE_config = opt.TE_config,\n",
    "        DAM_config = opt.DAM_config,\n",
    "        NOISE_config = opt.NOISE_config,\n",
    "\n",
    "        CIF_config = opt.CIF_config,\n",
    "        next_time_config = opt.next_time_config,\n",
    "        next_type_config = opt.next_type_config,\n",
    "        label_config = opt.label_config,\n",
    "\n",
    "        demo_config = opt.demo_config,\n",
    "\n",
    "        device=opt.device,\n",
    "\n",
    "\n",
    "\n",
    "    )\n",
    "model.to(opt.device)\n",
    "\n",
    "\n",
    "\n",
    "# optimizer = optim.Adam(filter(lambda x: x.requires_grad, model.parameters()),\n",
    "#                            opt.lr, betas=(0.9, 0.999), eps=1e-05, weight_decay=opt.weight_decay)\n",
    "    \n",
    "\n",
    "model.load_state_dict(checkpoint['model_state_dict'])\n",
    "# optimizer.load_state_dict(checkpoint['optimizer_state_dict'])\n",
    "# scheduler = optim.lr_scheduler.StepLR(optimizer, 10, gamma=0.5)\n",
    "\n",
    "_ = model.eval()"
   ]
  },
  {
   "cell_type": "code",
   "execution_count": 83,
   "metadata": {},
   "outputs": [
    {
     "name": "stderr",
     "output_type": "stream",
     "text": [
      "                                                                 \r"
     ]
    }
   ],
   "source": [
    "dict_metrics,r_enc_list, out = Main.valid_epoch_tsne(model, opt.trainloader, opt.pred_loss_func, opt)"
   ]
  },
  {
   "cell_type": "code",
   "execution_count": 84,
   "metadata": {},
   "outputs": [
    {
     "data": {
      "text/plain": [
       "59"
      ]
     },
     "execution_count": 84,
     "metadata": {},
     "output_type": "execute_result"
    },
    {
     "data": {
      "text/plain": [
       "torch.Size([128, 52])"
      ]
     },
     "execution_count": 84,
     "metadata": {},
     "output_type": "execute_result"
    },
    {
     "data": {
      "text/plain": [
       "16"
      ]
     },
     "execution_count": 84,
     "metadata": {},
     "output_type": "execute_result"
    },
    {
     "data": {
      "text/plain": [
       "32"
      ]
     },
     "execution_count": 84,
     "metadata": {},
     "output_type": "execute_result"
    },
    {
     "data": {
      "text/plain": [
       "(7552, 52)"
      ]
     },
     "execution_count": 84,
     "metadata": {},
     "output_type": "execute_result"
    }
   ],
   "source": [
    "len(r_enc_list)\n",
    "\n",
    "\n",
    "r_enc_list[0].shape\n",
    "model.d_out_te\n",
    "model.d_out_dam\n",
    "X = np.concatenate(r_enc_list,axis=0)[:,:model.d_out_te+model.d_out_dam]\n",
    "X = np.concatenate(r_enc_list,axis=0)[:,:]\n",
    "\n",
    "X.shape"
   ]
  },
  {
   "cell_type": "code",
   "execution_count": 85,
   "metadata": {},
   "outputs": [],
   "source": [
    "# y_state_pred = out['y_state_pred']\n",
    "# y_state_true = out['y_state_true']\n",
    "# y_state_score = out['y_state_score']\n",
    "\n",
    "y_state_pred = None\n",
    "y_state_true = None\n",
    "y_state_score = None\n",
    "\n",
    "y_pred = out['y_pred']\n",
    "y_true = out['y_true']\n",
    "y_score = out['y_score']\n",
    "\n",
    "non_pad_mask_list = out['non_pad_mask_list']\n",
    "event_type_list = out['event_type_list']\n"
   ]
  },
  {
   "cell_type": "code",
   "execution_count": 86,
   "metadata": {},
   "outputs": [
    {
     "data": {
      "text/plain": [
       "torch.Size([128, 103, 25])"
      ]
     },
     "execution_count": 86,
     "metadata": {},
     "output_type": "execute_result"
    },
    {
     "data": {
      "text/plain": [
       "torch.Size([128, 103])"
      ]
     },
     "execution_count": 86,
     "metadata": {},
     "output_type": "execute_result"
    },
    {
     "data": {
      "text/plain": [
       "7552"
      ]
     },
     "execution_count": 86,
     "metadata": {},
     "output_type": "execute_result"
    }
   ],
   "source": [
    "event_type_list[0].shape\n",
    "non_pad_mask_list[0].shape\n",
    "\n",
    "num_marks = event_type_list[0].shape[-1]\n",
    "\n",
    "\n",
    "res = list()\n",
    "\n",
    "for event_type, non_pad_mask in zip(event_type_list,non_pad_mask_list):\n",
    "\n",
    "    temp = torch.unbind(event_type,0)\n",
    "    lens = non_pad_mask.sum(1).long()\n",
    "\n",
    "    for i,x in enumerate(temp):\n",
    "        res.append( x[:lens[i],:].cpu().numpy().astype(np.uint8).transpose()*255 )\n",
    "\n",
    "    \n",
    "\n",
    "    \n",
    "    # idd = non_pad_mask.sum(1).long()-1\n",
    "    # idd = idd[:,None,None].repeat(1,1,num_marks)\n",
    "\n",
    "    # torch.gather(event_type,1,idd).squeeze().shape\n",
    "\n",
    "len(res)"
   ]
  },
  {
   "cell_type": "code",
   "execution_count": 87,
   "metadata": {},
   "outputs": [],
   "source": [
    "from PIL import Image\n",
    "\n",
    "all_images=[]\n",
    "\n",
    "for i,pattern in enumerate(res):\n",
    "    image = Image.fromarray(pattern)\n",
    "    all_images.append(f'./local/images/img{i}.jpeg')\n",
    "    image.save(f'./local/images/img{i}.jpeg')\n"
   ]
  },
  {
   "cell_type": "markdown",
   "metadata": {},
   "source": [
    "# Visualizations"
   ]
  },
  {
   "cell_type": "markdown",
   "metadata": {},
   "source": [
    "## TSNE of Learned Rep"
   ]
  },
  {
   "cell_type": "code",
   "execution_count": 88,
   "metadata": {},
   "outputs": [
    {
     "data": {
      "text/plain": [
       "(7552, 52)"
      ]
     },
     "execution_count": 88,
     "metadata": {},
     "output_type": "execute_result"
    },
    {
     "name": "stderr",
     "output_type": "stream",
     "text": [
      "/opt/conda/envs/paper2022/lib/python3.9/site-packages/sklearn/manifold/_t_sne.py:795: FutureWarning:\n",
      "\n",
      "The default initialization in TSNE will change from 'random' to 'pca' in 1.2.\n",
      "\n"
     ]
    },
    {
     "data": {
      "text/plain": [
       "(6000, 2)"
      ]
     },
     "execution_count": 88,
     "metadata": {},
     "output_type": "execute_result"
    }
   ],
   "source": [
    "TSNE_LIMIT = 6000\n",
    "\n",
    "\n",
    "\n",
    "X.shape\n",
    "all_colors = [\"#52ef99\", \"#1c875c\", \"#69c8c1\", \"#4c707b\", \"#b6c5f5\", \"#1642cd\", \"#fb5de7\", \"#be64a7\", \"#62385e\", \"#edb1ff\", \"#860967\", \"#3d84e3\", \"#c5df72\", \"#6e3901\", \"#fba55c\", \"#9f2114\", \"#36e515\", \"#65a10e\", \"#474a09\", \"#f5603a\", \"#fa217f\", \"#4007d9\",\n",
    "\"#52ef99\", \"#1c875c\", \"#69c8c1\", \"#4c707b\", \"#b6c5f5\", \"#1642cd\", \"#fb5de7\", \"#be64a7\", \"#62385e\", \"#edb1ff\", \"#860967\", \"#3d84e3\", \"#c5df72\", \"#6e3901\", \"#fba55c\", \"#9f2114\", \"#36e515\", \"#65a10e\", \"#474a09\", \"#f5603a\", \"#fa217f\", \"#4007d9\",\n",
    "\"#52ef99\", \"#1c875c\", \"#69c8c1\", \"#4c707b\", \"#b6c5f5\", \"#1642cd\", \"#fb5de7\", \"#be64a7\", \"#62385e\", \"#edb1ff\", \"#860967\", \"#3d84e3\", \"#c5df72\", \"#6e3901\", \"#fba55c\", \"#9f2114\", \"#36e515\", \"#65a10e\", \"#474a09\", \"#f5603a\", \"#fa217f\", \"#4007d9\",\n",
    "\"#52ef99\", \"#1c875c\", \"#69c8c1\", \"#4c707b\", \"#b6c5f5\", \"#1642cd\", \"#fb5de7\", \"#be64a7\", \"#62385e\", \"#edb1ff\", \"#860967\", \"#3d84e3\", \"#c5df72\", \"#6e3901\", \"#fba55c\", \"#9f2114\", \"#36e515\", \"#65a10e\", \"#474a09\", \"#f5603a\", \"#fa217f\", \"#4007d9\",\n",
    "\"#52ef99\", \"#1c875c\", \"#69c8c1\", \"#4c707b\", \"#b6c5f5\", \"#1642cd\", \"#fb5de7\", \"#be64a7\", \"#62385e\", \"#edb1ff\", \"#860967\", \"#3d84e3\", \"#c5df72\", \"#6e3901\", \"#fba55c\", \"#9f2114\", \"#36e515\", \"#65a10e\", \"#474a09\", \"#f5603a\", \"#fa217f\", \"#4007d9\",\n",
    "\"#52ef99\", \"#1c875c\", \"#69c8c1\", \"#4c707b\", \"#b6c5f5\", \"#1642cd\", \"#fb5de7\", \"#be64a7\", \"#62385e\", \"#edb1ff\", \"#860967\", \"#3d84e3\", \"#c5df72\", \"#6e3901\", \"#fba55c\", \"#9f2114\", \"#36e515\", \"#65a10e\", \"#474a09\", \"#f5603a\", \"#fa217f\", \"#4007d9\",\n",
    "\"#52ef99\", \"#1c875c\", \"#69c8c1\", \"#4c707b\", \"#b6c5f5\", \"#1642cd\", \"#fb5de7\", \"#be64a7\", \"#62385e\", \"#edb1ff\", \"#860967\", \"#3d84e3\", \"#c5df72\", \"#6e3901\", \"#fba55c\", \"#9f2114\", \"#36e515\", \"#65a10e\", \"#474a09\", \"#f5603a\", \"#fa217f\", \"#4007d9\",\n",
    "\"#52ef99\", \"#1c875c\", \"#69c8c1\", \"#4c707b\", \"#b6c5f5\", \"#1642cd\", \"#fb5de7\", \"#be64a7\", \"#62385e\", \"#edb1ff\", \"#860967\", \"#3d84e3\", \"#c5df72\", \"#6e3901\", \"#fba55c\", \"#9f2114\", \"#36e515\", \"#65a10e\", \"#474a09\", \"#f5603a\", \"#fa217f\", \"#4007d9\"]\n",
    "\n",
    "tsne = TSNE(n_components=2, perplexity=5, learning_rate=10,n_jobs=4)\n",
    "X_tsne = tsne.fit_transform(X[:TSNE_LIMIT,:])\n",
    "# colors_tsne = [all_colors[label] for label in dict_metrics['tsne']['y_true'][:TSNE_LIMIT] ]\n",
    "X_tsne.shape\n"
   ]
  },
  {
   "cell_type": "code",
   "execution_count": 90,
   "metadata": {},
   "outputs": [],
   "source": [
    "df = pd.DataFrame()\n",
    "df['x']=X_tsne[:,0]\n",
    "df['y']=X_tsne[:,1]\n",
    "df['color']=0\n",
    "df['id']=np.arange(len(df))\n",
    "\n",
    "\n",
    "if y_state_true:\n",
    "\n",
    "    TP = (y_state_true[:TSNE_LIMIT]*y_state_pred[:TSNE_LIMIT])==1\n",
    "    FP_FN = (y_state_true[:TSNE_LIMIT]+y_state_pred[:TSNE_LIMIT])==1\n",
    "    FN = (y_state_true[:TSNE_LIMIT]-y_state_pred[:TSNE_LIMIT])==1\n",
    "    FP = (y_state_true[:TSNE_LIMIT]-y_state_pred[:TSNE_LIMIT])==-1\n",
    "\n",
    "    TN = (y_state_true[:TSNE_LIMIT]+y_state_pred[:TSNE_LIMIT])==0\n",
    "\n",
    "\n",
    "\n",
    "    # df.loc[TN, 'color']='True Negatives'\n",
    "    df.loc[TP, 'color']='True Positives'\n",
    "    df.loc[FN, 'color']='False Negatives'\n",
    "    df.loc[FP, 'color']='False Positives'\n",
    "    df.loc[TN, 'color']='True Negatives'\n",
    "\n",
    "    df.loc[y_state_true[:TSNE_LIMIT].astype(bool).flatten(), 'color_true']='Positive Samples'\n",
    "    df.loc[~y_state_true[:TSNE_LIMIT].astype(bool).flatten(), 'color_true']='Negative Samples'\n",
    "\n",
    "\n",
    "    df.loc[y_state_pred[:TSNE_LIMIT].astype(bool).flatten(), 'color_pred']='Positive Predicted'\n",
    "    df.loc[~y_state_pred[:TSNE_LIMIT].astype(bool).flatten(), 'color_pred']='Negative Predicted'\n",
    "\n",
    "# # df.loc[y_state_pred[:TSNE_LIMIT].astype(bool), 'color']='Negative Samples'\n",
    "\n",
    "# # df['color_true']=y_state_true[:TSNE_LIMIT]\n",
    "# # df['color_pred']=y_state_pred[:TSNE_LIMIT]\n",
    "\n",
    "df['images']=all_images[:TSNE_LIMIT]\n",
    "\n",
    "\n",
    "\n",
    "# fig = px.scatter(df,x='x',y='y',color='color', title='temp', hover_data=['id']).update_layout(width=800, height=600)\n",
    "# fig.show()\n",
    "\n",
    "\n",
    "# fig = px.scatter(df,x='x',y='y',color='color_pred', title='temp', hover_data=['id']).update_layout(width=800, height=600)\n",
    "# fig.show()\n",
    "\n",
    "# fig = px.scatter(df,x='x',y='y',color='color_true', title='temp', hover_data=['id']).update_layout(width=800, height=600)\n",
    "# fig.show()\n",
    "# fig.write_image(PATH_PAPER+f\"tsne_{'temp'}.png\")\n"
   ]
  },
  {
   "cell_type": "code",
   "execution_count": 91,
   "metadata": {},
   "outputs": [
    {
     "data": {
      "text/html": [
       "<div>\n",
       "<style scoped>\n",
       "    .dataframe tbody tr th:only-of-type {\n",
       "        vertical-align: middle;\n",
       "    }\n",
       "\n",
       "    .dataframe tbody tr th {\n",
       "        vertical-align: top;\n",
       "    }\n",
       "\n",
       "    .dataframe thead th {\n",
       "        text-align: right;\n",
       "    }\n",
       "</style>\n",
       "<table border=\"1\" class=\"dataframe\">\n",
       "  <thead>\n",
       "    <tr style=\"text-align: right;\">\n",
       "      <th></th>\n",
       "      <th>x</th>\n",
       "      <th>y</th>\n",
       "      <th>color</th>\n",
       "      <th>id</th>\n",
       "      <th>images</th>\n",
       "    </tr>\n",
       "  </thead>\n",
       "  <tbody>\n",
       "    <tr>\n",
       "      <th>0</th>\n",
       "      <td>0.762772</td>\n",
       "      <td>-18.996752</td>\n",
       "      <td>0</td>\n",
       "      <td>0</td>\n",
       "      <td>./local/images/img0.jpeg</td>\n",
       "    </tr>\n",
       "    <tr>\n",
       "      <th>1</th>\n",
       "      <td>-13.370202</td>\n",
       "      <td>1.609255</td>\n",
       "      <td>0</td>\n",
       "      <td>1</td>\n",
       "      <td>./local/images/img1.jpeg</td>\n",
       "    </tr>\n",
       "    <tr>\n",
       "      <th>2</th>\n",
       "      <td>7.707167</td>\n",
       "      <td>-41.639351</td>\n",
       "      <td>0</td>\n",
       "      <td>2</td>\n",
       "      <td>./local/images/img2.jpeg</td>\n",
       "    </tr>\n",
       "    <tr>\n",
       "      <th>3</th>\n",
       "      <td>-17.297344</td>\n",
       "      <td>-7.457629</td>\n",
       "      <td>0</td>\n",
       "      <td>3</td>\n",
       "      <td>./local/images/img3.jpeg</td>\n",
       "    </tr>\n",
       "    <tr>\n",
       "      <th>4</th>\n",
       "      <td>-11.736951</td>\n",
       "      <td>43.415127</td>\n",
       "      <td>0</td>\n",
       "      <td>4</td>\n",
       "      <td>./local/images/img4.jpeg</td>\n",
       "    </tr>\n",
       "    <tr>\n",
       "      <th>...</th>\n",
       "      <td>...</td>\n",
       "      <td>...</td>\n",
       "      <td>...</td>\n",
       "      <td>...</td>\n",
       "      <td>...</td>\n",
       "    </tr>\n",
       "    <tr>\n",
       "      <th>5995</th>\n",
       "      <td>6.965897</td>\n",
       "      <td>-0.107697</td>\n",
       "      <td>0</td>\n",
       "      <td>5995</td>\n",
       "      <td>./local/images/img5995.jpeg</td>\n",
       "    </tr>\n",
       "    <tr>\n",
       "      <th>5996</th>\n",
       "      <td>-3.382307</td>\n",
       "      <td>-6.609585</td>\n",
       "      <td>0</td>\n",
       "      <td>5996</td>\n",
       "      <td>./local/images/img5996.jpeg</td>\n",
       "    </tr>\n",
       "    <tr>\n",
       "      <th>5997</th>\n",
       "      <td>-43.464920</td>\n",
       "      <td>-8.712676</td>\n",
       "      <td>0</td>\n",
       "      <td>5997</td>\n",
       "      <td>./local/images/img5997.jpeg</td>\n",
       "    </tr>\n",
       "    <tr>\n",
       "      <th>5998</th>\n",
       "      <td>22.487162</td>\n",
       "      <td>-4.764453</td>\n",
       "      <td>0</td>\n",
       "      <td>5998</td>\n",
       "      <td>./local/images/img5998.jpeg</td>\n",
       "    </tr>\n",
       "    <tr>\n",
       "      <th>5999</th>\n",
       "      <td>-47.053257</td>\n",
       "      <td>-4.671185</td>\n",
       "      <td>0</td>\n",
       "      <td>5999</td>\n",
       "      <td>./local/images/img5999.jpeg</td>\n",
       "    </tr>\n",
       "  </tbody>\n",
       "</table>\n",
       "<p>6000 rows × 5 columns</p>\n",
       "</div>"
      ],
      "text/plain": [
       "              x          y  color    id                       images\n",
       "0      0.762772 -18.996752      0     0     ./local/images/img0.jpeg\n",
       "1    -13.370202   1.609255      0     1     ./local/images/img1.jpeg\n",
       "2      7.707167 -41.639351      0     2     ./local/images/img2.jpeg\n",
       "3    -17.297344  -7.457629      0     3     ./local/images/img3.jpeg\n",
       "4    -11.736951  43.415127      0     4     ./local/images/img4.jpeg\n",
       "...         ...        ...    ...   ...                          ...\n",
       "5995   6.965897  -0.107697      0  5995  ./local/images/img5995.jpeg\n",
       "5996  -3.382307  -6.609585      0  5996  ./local/images/img5996.jpeg\n",
       "5997 -43.464920  -8.712676      0  5997  ./local/images/img5997.jpeg\n",
       "5998  22.487162  -4.764453      0  5998  ./local/images/img5998.jpeg\n",
       "5999 -47.053257  -4.671185      0  5999  ./local/images/img5999.jpeg\n",
       "\n",
       "[6000 rows x 5 columns]"
      ]
     },
     "execution_count": 91,
     "metadata": {},
     "output_type": "execute_result"
    }
   ],
   "source": [
    "df"
   ]
  },
  {
   "cell_type": "code",
   "execution_count": null,
   "metadata": {},
   "outputs": [],
   "source": [
    "# sudo conda install -c conda-forge dash --name paper2022\n",
    "# sudo conda install -c conda-forge jupyter-dash --name paper2022"
   ]
  },
  {
   "cell_type": "code",
   "execution_count": 92,
   "metadata": {},
   "outputs": [],
   "source": [
    "import io\n",
    "import base64\n",
    "import pickle\n",
    "import gzip\n",
    "\n",
    "import numpy as np\n",
    "\n",
    "from jupyter_dash import JupyterDash\n",
    "from dash import dcc, html, Input, Output, no_update\n",
    "import plotly.graph_objects as go\n",
    "\n",
    "from PIL import Image\n",
    "\n",
    "from sklearn.manifold import TSNE\n",
    "\n",
    "# Helper functions\n",
    "def np_image_to_base64(im_matrix):\n",
    "    im = Image.fromarray(im_matrix)\n",
    "    buffer = io.BytesIO()\n",
    "    im.save(buffer, format=\"jpeg\")\n",
    "    encoded_image = base64.b64encode(buffer.getvalue()).decode()\n",
    "    im_url = \"data:image/jpeg;base64, \" + encoded_image\n",
    "    return im_url"
   ]
  },
  {
   "cell_type": "code",
   "execution_count": 93,
   "metadata": {},
   "outputs": [],
   "source": [
    "color_map = {\n",
    "    'Positive Samples': \"#E52B50\",\n",
    "    'Negative Samples': \"#3B7A57\",\n",
    "    0: \"#3B7A57\",\n",
    "    3: \"#3DDC84\",\n",
    "    4: \"#FFBF00\",\n",
    "    5: \"#915C83\",\n",
    "    6: \"#008000\",\n",
    "    7: \"#7FFFD4\",\n",
    "    8: \"#E9D66B\",\n",
    "    9: \"#007FFF\",\n",
    "}\n",
    "\n",
    "\n",
    "labels = df['color'].values\n",
    "colors = [color_map[label] for i,label in enumerate(labels)]\n",
    "\n",
    "fig = go.Figure(data=[go.Scatter(\n",
    "    x=X_tsne[:, 0],\n",
    "    y=X_tsne[:, 1],\n",
    "    # z=tsne[:, 2],\n",
    "    mode='markers',\n",
    "    marker=dict(\n",
    "        # size=2,\n",
    "        color=colors,\n",
    "    )\n",
    ")])\n",
    "\n",
    "_=fig.update_layout(\n",
    "    # autosize=False,\n",
    "    width=1000,\n",
    "    height=1000,\n",
    "\n",
    ")\n",
    "_=fig.update_traces(\n",
    "    hoverinfo=\"none\",\n",
    "    hovertemplate=None,\n",
    ")\n",
    "# _=fig.update_layout(\n",
    "#     scene=dict(\n",
    "#         xaxis=dict(range=[-10,10]),\n",
    "#         yaxis=dict(range=[-10,10]),\n",
    "#         # zaxis=dict(range=[-10,10]),   \n",
    "#     )\n",
    "# )"
   ]
  },
  {
   "cell_type": "code",
   "execution_count": 94,
   "metadata": {},
   "outputs": [
    {
     "data": {
      "text/html": [
       "\n",
       "        <iframe\n",
       "            width=\"100%\"\n",
       "            height=\"650\"\n",
       "            src=\"http://127.0.0.1:8050/\"\n",
       "            frameborder=\"0\"\n",
       "            allowfullscreen\n",
       "            \n",
       "        ></iframe>\n",
       "        "
      ],
      "text/plain": [
       "<IPython.lib.display.IFrame at 0x7f14be7a29d0>"
      ]
     },
     "metadata": {},
     "output_type": "display_data"
    }
   ],
   "source": [
    "app = JupyterDash(__name__)\n",
    "\n",
    "app.layout = html.Div(\n",
    "    className=\"container\",\n",
    "    children=[\n",
    "        dcc.Graph(id=\"graph-5\", figure=fig, clear_on_unhover=True),\n",
    "        dcc.Tooltip(id=\"graph-tooltip-5\", direction='bottom'),\n",
    "    ],\n",
    ")\n",
    "\n",
    "@app.callback(\n",
    "    Output(\"graph-tooltip-5\", \"show\"),\n",
    "    Output(\"graph-tooltip-5\", \"bbox\"),\n",
    "    Output(\"graph-tooltip-5\", \"children\"),\n",
    "    Input(\"graph-5\", \"hoverData\"),\n",
    ")\n",
    "def display_hover(hoverData):\n",
    "    if hoverData is None:\n",
    "        return False, no_update, no_update\n",
    "\n",
    "    # demo only shows the first point, but other points may also be available\n",
    "    hover_data = hoverData[\"points\"][0]\n",
    "    bbox = hover_data[\"bbox\"]\n",
    "    num = hover_data[\"pointNumber\"]\n",
    "\n",
    "    im_matrix = res[num]\n",
    "    im_url = np_image_to_base64(im_matrix)\n",
    "    children = [\n",
    "        html.Div([\n",
    "            html.Img(\n",
    "                src=im_url,\n",
    "                style={\"height\": \"400px\", 'display': 'block', 'margin': '0 auto'},\n",
    "            ),\n",
    "            # html.P(\"MNIST Digit \" + str(labels[num]), style={'font-weight': 'bold'})\n",
    "            html.P(\"MNIST Digit \" , style={'font-weight': 'bold'})\n",
    "\n",
    "        ])\n",
    "        \n",
    "    ]\n",
    "\n",
    "    return True, bbox, children\n",
    "\n",
    "if __name__ == \"__main__\":\n",
    "    app.run_server(mode='inline', debug=True)"
   ]
  },
  {
   "cell_type": "code",
   "execution_count": null,
   "metadata": {},
   "outputs": [],
   "source": []
  }
 ],
 "metadata": {
  "kernelspec": {
   "display_name": "paper2022",
   "language": "python",
   "name": "python3"
  },
  "language_info": {
   "codemirror_mode": {
    "name": "ipython",
    "version": 3
   },
   "file_extension": ".py",
   "mimetype": "text/x-python",
   "name": "python",
   "nbconvert_exporter": "python",
   "pygments_lexer": "ipython3",
   "version": "3.9.7"
  },
  "orig_nbformat": 4,
  "vscode": {
   "interpreter": {
    "hash": "ca5b395ee1d8a1cd2783c3fccc5aaaf2f1d95e614c8b133e284cded792af89cd"
   }
  }
 },
 "nbformat": 4,
 "nbformat_minor": 2
}
