{
 "cells": [
  {
   "cell_type": "code",
   "execution_count": 1,
   "metadata": {},
   "outputs": [],
   "source": [
    "# activate line execution\n",
    "from IPython.core.interactiveshell import InteractiveShell\n",
    "InteractiveShell.ast_node_interactivity = \"all\"\n",
    "\n",
    "# general\n",
    "import numpy as np\n",
    "import pandas as pd\n",
    "import math\n",
    "# import matplotlib.pyplot as plt\n",
    "import os\n",
    "import shutil\n",
    "import pickle\n",
    "\n",
    "# plotly\n",
    "import plotly.express as px  # (version 4.7.0 or higher)\n",
    "import plotly.graph_objects as go\n",
    "from plotly.subplots import make_subplots\n",
    "\n",
    "# import custom libraries\n",
    "import sys\n",
    "# sys.path.append(\"C:\\\\DATA\\\\Tasks\\\\lib\\\\hk\")\n",
    "# import hk_utils\n",
    "\n",
    "# folder paths\n",
    "ADD_DATA = \"C:\\\\DATA\\\\data\\\\raw\\\\mimic4\\\\lookup\\\\\"\n",
    "ADD_DATA_proc = \"C:/DATA/data/processed/\"\n",
    "\n",
    "\n",
    "PATH_PAPER = \"C:\\\\DATA\\\\Tasks\\\\220704\\\\Alternate-Transactions-Articles-LaTeX-template\\\\images\\\\\"\n",
    "\n",
    "\n",
    "PATH_SYS=\"/mlodata1/hokarami/tedam/\""
   ]
  },
  {
   "cell_type": "code",
   "execution_count": 2,
   "metadata": {},
   "outputs": [
    {
     "name": "stderr",
     "output_type": "stream",
     "text": [
      "/opt/conda/envs/paper2022/lib/python3.9/site-packages/tqdm/auto.py:22: TqdmWarning: IProgress not found. Please update jupyter and ipywidgets. See https://ipywidgets.readthedocs.io/en/stable/user_install.html\n",
      "  from .autonotebook import tqdm as notebook_tqdm\n"
     ]
    }
   ],
   "source": [
    "# libraries for THP\n",
    "\n",
    "import argparse\n",
    "import numpy as np\n",
    "import pickle\n",
    "import time\n",
    "import torch\n",
    "import torch.nn as nn\n",
    "import torch.optim as optim\n",
    "# from torch.utils.tensorboard import SummaryWriter\n",
    "\n",
    "import transformer.Constants as Constants\n",
    "import Utils\n",
    "\n",
    "# from preprocess.Dataset import get_dataloader, get_dataloader2\n",
    "# from transformer.Models import Transformer\n",
    "# from transformer.hk_transformer import Transformer\n",
    "from tqdm import tqdm\n",
    "\n",
    "# from torchinfo import summary\n",
    "\n",
    "os.environ['CUDA_LAUNCH_BLOCKING'] = \"1\"\n",
    "\n",
    "# torch.cuda.empty_cache()\n",
    "# torch.cuda.memory_allocated()\n",
    "# torch.cuda.memory_reserved()\n",
    "\n",
    "from sklearn import metrics\n",
    "# from hk_pytorch import save_checkpoint,load_checkpoint\n",
    "# import hk_pytorch\n",
    "\n",
    "\n",
    "# from custom2 import myparser\n",
    "import re"
   ]
  },
  {
   "cell_type": "code",
   "execution_count": 3,
   "metadata": {},
   "outputs": [],
   "source": [
    "import Main\n",
    "import webbrowser\n"
   ]
  },
  {
   "cell_type": "code",
   "execution_count": 4,
   "metadata": {},
   "outputs": [],
   "source": [
    "import io"
   ]
  },
  {
   "cell_type": "code",
   "execution_count": 5,
   "metadata": {},
   "outputs": [],
   "source": [
    "from tsnecuda import TSNE\n",
    "from MulticoreTSNE import MulticoreTSNE as TSNE"
   ]
  },
  {
   "cell_type": "code",
   "execution_count": 6,
   "metadata": {},
   "outputs": [],
   "source": [
    "# !pip install wandb -qqq\n",
    "import wandb\n",
    "# wandb.login()\n",
    "api = wandb.Api()\n",
    "import os\n",
    "\n",
    "os.environ[\"WANDB_API_KEY\"] = \"0f780ac8a470afe6cb7fc474ff3794772c660465\"\n",
    "\n",
    "os.environ[\"WANDB_NOTEBOOK_NAME\"] = \"jup_res\""
   ]
  },
  {
   "attachments": {},
   "cell_type": "markdown",
   "metadata": {},
   "source": [
    "# Functions"
   ]
  },
  {
   "cell_type": "code",
   "execution_count": 7,
   "metadata": {},
   "outputs": [],
   "source": [
    "import io\n",
    "import base64\n",
    "import pickle\n",
    "import gzip\n",
    "\n",
    "import numpy as np\n",
    "\n",
    "from jupyter_dash import JupyterDash\n",
    "from dash import dcc, html, Input, Output, no_update\n",
    "import plotly.graph_objects as go\n",
    "\n",
    "from PIL import ImageDraw, Image\n",
    "\n",
    "from sklearn.manifold import TSNE\n",
    "\n",
    "# Helper functions\n",
    "def np_image_to_base64(im_matrix,scale=4):\n",
    "\n",
    "    im_matrix = np.repeat(np.repeat(im_matrix,scale,axis=0),scale,axis=1)\n",
    "    im = Image.fromarray(im_matrix)\n",
    "    buffer = io.BytesIO()\n",
    "    im.save(buffer, format=\"jpeg\")\n",
    "    encoded_image = base64.b64encode(buffer.getvalue()).decode()\n",
    "    im_url = \"data:image/jpeg;base64, \" + encoded_image\n",
    "    return im_url\n",
    "\n",
    "\n",
    "\n",
    "\n",
    "def binary_matrix_to_image(binary_matrix, grid_size=8, border_size=1):\n",
    "    # Calculate the size of the output image based on the size of the binary matrix\n",
    "    height, width = binary_matrix.shape[:2]\n",
    "    image_width = width * grid_size + (width + 1) * border_size\n",
    "    image_height = height * grid_size + (height + 1) * border_size\n",
    "    \n",
    "    # Create a new image and a draw object to draw the grid and borders\n",
    "    image = Image.new('RGB', (image_width, image_height), color='black')\n",
    "    draw = ImageDraw.Draw(image)\n",
    "    \n",
    "    # Draw the white grids\n",
    "    for i in range(height):\n",
    "        for j in range(width):\n",
    "            if binary_matrix[i, j] == 1:\n",
    "                x1 = j * (grid_size + border_size) + border_size\n",
    "                y1 = i * (grid_size + border_size) + border_size\n",
    "                x2 = x1 + grid_size\n",
    "                y2 = y1 + grid_size\n",
    "                draw.rectangle((x1, y1, x2, y2), fill='white')\n",
    "    \n",
    "    # Draw the black borders\n",
    "    for i in range(height + 1):\n",
    "        y = i * (grid_size + border_size)\n",
    "        draw.line((0, y, image_width, y), fill='white', width=border_size)\n",
    "        \n",
    "    for j in range(width + 1):\n",
    "        x = j * (grid_size + border_size)\n",
    "        draw.line((x, 0, x, image_height), fill='white', width=border_size)\n",
    "        \n",
    "    return image"
   ]
  },
  {
   "cell_type": "code",
   "execution_count": 8,
   "metadata": {},
   "outputs": [],
   "source": [
    "import numpy as np\n",
    "from PIL import ImageDraw, Image, ImageFont\n",
    "\n",
    "def binary_matrix_to_image(binary_matrix, row_labels=None, font_path=None, grid_size=10, border_size=1, label_size=15):\n",
    "    # Add a dummy column to the binary matrix\n",
    "    ddd=2\n",
    "\n",
    "    height, width = binary_matrix.shape[:2]\n",
    "    binary_matrix = np.concatenate((np.zeros((height, ddd)), binary_matrix), axis=1)\n",
    "    width += ddd\n",
    "    \n",
    "    # Calculate the size of the output image based on the size of the binary matrix\n",
    "    image_width = (width + 1) * grid_size + (width + 2) * border_size\n",
    "    image_height = height * grid_size + (height + 1) * border_size\n",
    "    \n",
    "    # Create a new image and a draw object to draw the grid and borders\n",
    "    image = Image.new('RGB', (image_width, image_height), color='black')\n",
    "    draw = ImageDraw.Draw(image)\n",
    "    \n",
    "    # Draw the white grids\n",
    "    for i in range(height):\n",
    "        for j in range(1, width):\n",
    "            if binary_matrix[i, j] == 1:\n",
    "                x1 = j * (grid_size + border_size) + border_size\n",
    "                y1 = i * (grid_size + border_size) + border_size\n",
    "                x2 = x1 + grid_size\n",
    "                y2 = y1 + grid_size\n",
    "                draw.rectangle((x1, y1, x2, y2), fill='white')\n",
    "    \n",
    "    # Draw the black borders\n",
    "    for i in range(height + 1):\n",
    "        y = i * (grid_size + border_size)\n",
    "        draw.line((grid_size, y, image_width, y), fill='white', width=border_size)\n",
    "        \n",
    "    for j in range(width + 1):\n",
    "        x = j * (grid_size + border_size)\n",
    "        draw.line((x, 0, x, image_height), fill='white', width=border_size)\n",
    "    \n",
    "    # Draw the row labels\n",
    "    if row_labels is not None:\n",
    "        font = ImageFont.truetype(PATH_SYS+'arial.ttf', size=label_size)\n",
    "        max_label_width = max([font.getsize(str(label))[0] for label in row_labels])\n",
    "        label_x = 0\n",
    "        label_y = border_size\n",
    "        for i, label in enumerate(row_labels):\n",
    "            draw.text((label_x, label_y), str(label), font=font, fill='white',align=\"right\")\n",
    "            label_y += grid_size + border_size\n",
    "            # if i == 0:\n",
    "            #     label_x += max_label_width + border_size + grid_size\n",
    "        \n",
    "    return image\n"
   ]
  },
  {
   "cell_type": "markdown",
   "metadata": {},
   "source": [
    "# Model path"
   ]
  },
  {
   "cell_type": "code",
   "execution_count": 9,
   "metadata": {},
   "outputs": [
    {
     "data": {
      "text/plain": [
       "'hokarami/TEEDAM_supervised/hue1qxw4'"
      ]
     },
     "execution_count": 9,
     "metadata": {},
     "output_type": "execute_result"
    },
    {
     "data": {
      "text/plain": [
       "<_io.TextIOWrapper name='./local/artifact/376657143/wandb_manifest.json' mode='r' encoding='UTF-8'>"
      ]
     },
     "execution_count": 9,
     "metadata": {},
     "output_type": "execute_result"
    },
    {
     "data": {
      "text/plain": [
       "<_io.TextIOWrapper name='./local/best_model.pkl' mode='r' encoding='UTF-8'>"
      ]
     },
     "execution_count": 9,
     "metadata": {},
     "output_type": "execute_result"
    },
    {
     "data": {
      "text/plain": [
       "<_io.TextIOWrapper name='./local/conda-environment.yaml' mode='r' encoding='UTF-8'>"
      ]
     },
     "execution_count": 9,
     "metadata": {},
     "output_type": "execute_result"
    },
    {
     "data": {
      "text/plain": [
       "<_io.TextIOWrapper name='./local/config.yaml' mode='r' encoding='UTF-8'>"
      ]
     },
     "execution_count": 9,
     "metadata": {},
     "output_type": "execute_result"
    },
    {
     "data": {
      "text/plain": [
       "<_io.TextIOWrapper name='./local/opt.pkl' mode='r' encoding='UTF-8'>"
      ]
     },
     "execution_count": 9,
     "metadata": {},
     "output_type": "execute_result"
    },
    {
     "data": {
      "text/plain": [
       "<_io.TextIOWrapper name='./local/output.log' mode='r' encoding='UTF-8'>"
      ]
     },
     "execution_count": 9,
     "metadata": {},
     "output_type": "execute_result"
    },
    {
     "data": {
      "text/plain": [
       "<_io.TextIOWrapper name='./local/requirements.txt' mode='r' encoding='UTF-8'>"
      ]
     },
     "execution_count": 9,
     "metadata": {},
     "output_type": "execute_result"
    },
    {
     "data": {
      "text/plain": [
       "<_io.TextIOWrapper name='./local/wandb-metadata.json' mode='r' encoding='UTF-8'>"
      ]
     },
     "execution_count": 9,
     "metadata": {},
     "output_type": "execute_result"
    },
    {
     "data": {
      "text/plain": [
       "<_io.TextIOWrapper name='./local/wandb-summary.json' mode='r' encoding='UTF-8'>"
      ]
     },
     "execution_count": 9,
     "metadata": {},
     "output_type": "execute_result"
    }
   ],
   "source": [
    "runs_path=[\n",
    "# \"hokarami/TEEDAM_supervised/5uzxzoxd\",\n",
    "\"hokarami/TEEDAM_supervised/sb9zf1mm\",\n",
    "\"hokarami/TEEDAM_supervised/hue1qxw4\",  # seft [Q10-TE__nextmark-concat]1566371 with label\n",
    "# \"hokarami/TEEDAM_unsupervised/sne90ule\", # seft [Q11-TE__nextmark-concat]1574646 no label\n",
    "# \"hokarami/TEEDAM_unsupervised_timeCat/66pgiau2\",\n",
    "\n",
    "# \"hokarami/TEEDAM_unsupervised_timeCat/j2ck0i9i\",\n",
    "\n",
    "]\n",
    "\n",
    "run_path = runs_path[-1]\n",
    "run_path\n",
    "\n",
    "\n",
    "run = api.run(run_path)\n",
    "for file in run.files():\n",
    "    file.download(replace=True,root='./local/')"
   ]
  },
  {
   "cell_type": "code",
   "execution_count": 10,
   "metadata": {},
   "outputs": [
    {
     "name": "stdout",
     "output_type": "stream",
     "text": [
      "/home/hokarami/tedam2\n"
     ]
    }
   ],
   "source": [
    "!pwd"
   ]
  },
  {
   "cell_type": "code",
   "execution_count": 11,
   "metadata": {},
   "outputs": [
    {
     "name": "stdout",
     "output_type": "stream",
     "text": [
      "############################## CUDA True\n",
      "[Info] INPUT TE --> none-mark-label\n",
      "[Info] parameters: Namespace(data='/mlodata1/hokarami/tedam/p12-seft/', data_label='multilabel', cuda=1, wandb=True, wandb_project='TEEDAM_supervised', log_freq=1, prof=False, per=100, balanced_batch=True, transfer_learning='', freeze='', ES_pat=100, setting='seft', test_center='', split='', log='log.txt', user_prefix='[Q10-TE__nextmark-concat]', pos_alpha=1.0, epoch=50, batch_size=128, lr=0.01, smooth=0.0, weight_decay=0.1, event_enc=1, time_enc='concat', te_d_mark=8, te_d_time=8, te_d_rnn=256, te_d_inner=16, te_d_k=8, te_d_v=8, te_n_head=4, te_n_layers=4, te_dropout=0.1, state=False, demo=True, num_states=1, noise=False, mod='none', int_dec='sahp', w_event=1.0, next_mark=1, w_class=False, w_pos=False, mark_detach=0, w_time=1.0, sample_label=1, w_pos_label=0.5, w_sample_label=100.0, hparams2write={'data': '/mlodata1/hokarami/tedam/p12/', 'data_label': 'multilabel', 'cuda': 1, 'wandb': True, 'wandb_project': 'TEEDAM_supervised', 'log_freq': 1, 'prof': False, 'per': 100, 'balanced_batch': True, 'transfer_learning': '', 'freeze': '', 'ES_pat': 100, 'setting': 'seft', 'test_center': '', 'split': '', 'log': 'log.txt', 'user_prefix': '[Q10-TE__nextmark-concat]', 'pos_alpha': 1.0, 'epoch': 50, 'batch_size': 128, 'lr': 0.01, 'smooth': 0.0, 'weight_decay': 0.1, 'event_enc': 1, 'time_enc': 'concat', 'te_d_mark': 8, 'te_d_time': 8, 'te_d_rnn': 256, 'te_d_inner': 16, 'te_d_k': 8, 'te_d_v': 8, 'te_n_head': 4, 'te_n_layers': 4, 'te_dropout': 0.1, 'state': False, 'demo': True, 'num_states': 1, 'noise': False, 'mod': 'none', 'int_dec': 'sahp', 'w_event': 1.0, 'next_mark': 1, 'w_class': False, 'w_pos': False, 'mark_detach': 0, 'w_time': 1.0, 'sample_label': 1, 'w_pos_label': 0.5, 'w_sample_label': 100.0}, date='20-02-23--20-32-39', run_id='1566371', dataset='P12', str_config='-seft', run_name='[Q10-TE__nextmark-concat]1566371', run_path='/mlodata1/hokarami/tedam/p12-seft/[Q10-TE__nextmark-concat]1566371/', device=device(type='cuda'), INPUT='TE', OUTPUT='none-mark-label')\n",
      "[Info] Loading train data...\n",
      "[Info] Loading dev data...\n",
      "[Info] Loading test data...\n",
      "[info] 100% of data will be considered\n",
      "[Info] Loading train STATE...\n",
      "[Info] Loading dev STATE...\n",
      "[Info] Loading test STATE...\n",
      "[info] 100% of data will be considered\n",
      "[info] True/total = 0.1425\n",
      "[info] balanced mini batches\n"
     ]
    }
   ],
   "source": [
    "# os.listdir(add_data)[8:]\n",
    "\n",
    "\n",
    "\n",
    "\n",
    "\n",
    "# run_path = runs_path[-1]\n",
    "\n",
    "# os.listdir(run_path)\n",
    "\n",
    "# # load opt file\n",
    "\n",
    "\n",
    "opt = pickle.load(open('./local/opt.pkl','rb'))\n",
    "# modify opt\n",
    "\n",
    "opt.data=PATH_SYS+'p12-seft/'\n",
    "opt = Main.config(opt, justLoad=True)\n",
    "\n",
    "checkpoint = torch.load('./local/best_model.pkl')\n",
    "# # modify opt\n",
    "# # opt = Main.config(opt, justLoad=True)\n",
    "\n",
    "\n"
   ]
  },
  {
   "attachments": {},
   "cell_type": "markdown",
   "metadata": {},
   "source": [
    "## load pre-trained model"
   ]
  },
  {
   "cell_type": "code",
   "execution_count": 12,
   "metadata": {},
   "outputs": [
    {
     "data": {
      "text/plain": [
       "ATHP(\n",
       "  (TE): Encoder(\n",
       "    (event_emb): Linear(in_features=25, out_features=8, bias=True)\n",
       "    (layer_stack): ModuleList(\n",
       "      (0): EncoderLayer(\n",
       "        (slf_attn): MultiHeadAttention(\n",
       "          (w_qs): Linear(in_features=16, out_features=32, bias=False)\n",
       "          (w_ks): Linear(in_features=16, out_features=32, bias=False)\n",
       "          (w_vs): Linear(in_features=16, out_features=32, bias=False)\n",
       "          (fc): Linear(in_features=32, out_features=16, bias=True)\n",
       "          (attention): ScaledDotProductAttention(\n",
       "            (dropout): Dropout(p=0.1, inplace=False)\n",
       "          )\n",
       "          (layer_norm): LayerNorm((16,), eps=1e-06, elementwise_affine=True)\n",
       "          (dropout): Dropout(p=0.1, inplace=False)\n",
       "        )\n",
       "        (pos_ffn): PositionwiseFeedForward(\n",
       "          (w_1): Linear(in_features=16, out_features=16, bias=True)\n",
       "          (w_2): Linear(in_features=16, out_features=16, bias=True)\n",
       "          (layer_norm): LayerNorm((16,), eps=1e-06, elementwise_affine=True)\n",
       "          (dropout): Dropout(p=0.1, inplace=False)\n",
       "        )\n",
       "      )\n",
       "      (1): EncoderLayer(\n",
       "        (slf_attn): MultiHeadAttention(\n",
       "          (w_qs): Linear(in_features=16, out_features=32, bias=False)\n",
       "          (w_ks): Linear(in_features=16, out_features=32, bias=False)\n",
       "          (w_vs): Linear(in_features=16, out_features=32, bias=False)\n",
       "          (fc): Linear(in_features=32, out_features=16, bias=True)\n",
       "          (attention): ScaledDotProductAttention(\n",
       "            (dropout): Dropout(p=0.1, inplace=False)\n",
       "          )\n",
       "          (layer_norm): LayerNorm((16,), eps=1e-06, elementwise_affine=True)\n",
       "          (dropout): Dropout(p=0.1, inplace=False)\n",
       "        )\n",
       "        (pos_ffn): PositionwiseFeedForward(\n",
       "          (w_1): Linear(in_features=16, out_features=16, bias=True)\n",
       "          (w_2): Linear(in_features=16, out_features=16, bias=True)\n",
       "          (layer_norm): LayerNorm((16,), eps=1e-06, elementwise_affine=True)\n",
       "          (dropout): Dropout(p=0.1, inplace=False)\n",
       "        )\n",
       "      )\n",
       "      (2): EncoderLayer(\n",
       "        (slf_attn): MultiHeadAttention(\n",
       "          (w_qs): Linear(in_features=16, out_features=32, bias=False)\n",
       "          (w_ks): Linear(in_features=16, out_features=32, bias=False)\n",
       "          (w_vs): Linear(in_features=16, out_features=32, bias=False)\n",
       "          (fc): Linear(in_features=32, out_features=16, bias=True)\n",
       "          (attention): ScaledDotProductAttention(\n",
       "            (dropout): Dropout(p=0.1, inplace=False)\n",
       "          )\n",
       "          (layer_norm): LayerNorm((16,), eps=1e-06, elementwise_affine=True)\n",
       "          (dropout): Dropout(p=0.1, inplace=False)\n",
       "        )\n",
       "        (pos_ffn): PositionwiseFeedForward(\n",
       "          (w_1): Linear(in_features=16, out_features=16, bias=True)\n",
       "          (w_2): Linear(in_features=16, out_features=16, bias=True)\n",
       "          (layer_norm): LayerNorm((16,), eps=1e-06, elementwise_affine=True)\n",
       "          (dropout): Dropout(p=0.1, inplace=False)\n",
       "        )\n",
       "      )\n",
       "      (3): EncoderLayer(\n",
       "        (slf_attn): MultiHeadAttention(\n",
       "          (w_qs): Linear(in_features=16, out_features=32, bias=False)\n",
       "          (w_ks): Linear(in_features=16, out_features=32, bias=False)\n",
       "          (w_vs): Linear(in_features=16, out_features=32, bias=False)\n",
       "          (fc): Linear(in_features=32, out_features=16, bias=True)\n",
       "          (attention): ScaledDotProductAttention(\n",
       "            (dropout): Dropout(p=0.1, inplace=False)\n",
       "          )\n",
       "          (layer_norm): LayerNorm((16,), eps=1e-06, elementwise_affine=True)\n",
       "          (dropout): Dropout(p=0.1, inplace=False)\n",
       "        )\n",
       "        (pos_ffn): PositionwiseFeedForward(\n",
       "          (w_1): Linear(in_features=16, out_features=16, bias=True)\n",
       "          (w_2): Linear(in_features=16, out_features=16, bias=True)\n",
       "          (layer_norm): LayerNorm((16,), eps=1e-06, elementwise_affine=True)\n",
       "          (dropout): Dropout(p=0.1, inplace=False)\n",
       "        )\n",
       "      )\n",
       "    )\n",
       "  )\n",
       "  (demo_encoder): Predictor(\n",
       "    (linear1): Linear(in_features=7, out_features=16, bias=True)\n",
       "    (linear2): Linear(in_features=16, out_features=16, bias=True)\n",
       "    (linear3): Linear(in_features=16, out_features=4, bias=True)\n",
       "    (relu): ReLU()\n",
       "    (do): Dropout(p=0.0, inplace=False)\n",
       "  )\n",
       "  (pred_label): Predictor(\n",
       "    (linear1): Linear(in_features=20, out_features=16, bias=True)\n",
       "    (linear2): Linear(in_features=16, out_features=16, bias=True)\n",
       "    (linear3): Linear(in_features=16, out_features=1, bias=True)\n",
       "    (relu): ReLU()\n",
       "    (do): Dropout(p=0.0, inplace=False)\n",
       "  )\n",
       "  (pred_next_time): Predictor(\n",
       "    (linear1): Linear(in_features=20, out_features=16, bias=True)\n",
       "    (linear2): Linear(in_features=16, out_features=16, bias=True)\n",
       "    (linear3): Linear(in_features=16, out_features=1, bias=True)\n",
       "    (relu): ReLU()\n",
       "    (do): Dropout(p=0.0, inplace=False)\n",
       "  )\n",
       "  (pred_next_type): Predictor(\n",
       "    (linear1): Linear(in_features=20, out_features=16, bias=True)\n",
       "    (linear2): Linear(in_features=16, out_features=16, bias=True)\n",
       "    (linear3): Linear(in_features=16, out_features=25, bias=True)\n",
       "    (relu): ReLU()\n",
       "    (do): Dropout(p=0.0, inplace=False)\n",
       "  )\n",
       ")"
      ]
     },
     "execution_count": 12,
     "metadata": {},
     "output_type": "execute_result"
    },
    {
     "data": {
      "text/plain": [
       "<All keys matched successfully>"
      ]
     },
     "execution_count": 12,
     "metadata": {},
     "output_type": "execute_result"
    }
   ],
   "source": [
    "model = Main.ATHP(\n",
    "       n_marks=opt.num_marks,\n",
    "        TE_config = opt.TE_config,\n",
    "        DAM_config = opt.DAM_config,\n",
    "        NOISE_config = opt.NOISE_config,\n",
    "\n",
    "        CIF_config = opt.CIF_config,\n",
    "        next_time_config = opt.next_time_config,\n",
    "        next_type_config = opt.next_type_config,\n",
    "        label_config = opt.label_config,\n",
    "\n",
    "        demo_config = opt.demo_config,\n",
    "\n",
    "        device=opt.device,\n",
    "\n",
    "\n",
    "\n",
    "    )\n",
    "model.to(opt.device)\n",
    "\n",
    "\n",
    "\n",
    "# optimizer = optim.Adam(filter(lambda x: x.requires_grad, model.parameters()),\n",
    "#                            opt.lr, betas=(0.9, 0.999), eps=1e-05, weight_decay=opt.weight_decay)\n",
    "    \n",
    "\n",
    "model.load_state_dict(checkpoint['model_state_dict'])\n",
    "# optimizer.load_state_dict(checkpoint['optimizer_state_dict'])\n",
    "# scheduler = optim.lr_scheduler.StepLR(optimizer, 10, gamma=0.5)\n",
    "\n",
    "_ = model.eval()"
   ]
  },
  {
   "cell_type": "code",
   "execution_count": 13,
   "metadata": {},
   "outputs": [
    {
     "name": "stderr",
     "output_type": "stream",
     "text": [
      "                                                                 \r"
     ]
    }
   ],
   "source": [
    "dict_metrics,r_enc_list, out = Main.valid_epoch_tsne(model, opt.validloader, opt.pred_loss_func, opt)"
   ]
  },
  {
   "cell_type": "code",
   "execution_count": 14,
   "metadata": {},
   "outputs": [
    {
     "data": {
      "text/plain": [
       "14"
      ]
     },
     "execution_count": 14,
     "metadata": {},
     "output_type": "execute_result"
    },
    {
     "data": {
      "text/plain": [
       "torch.Size([128, 20])"
      ]
     },
     "execution_count": 14,
     "metadata": {},
     "output_type": "execute_result"
    },
    {
     "data": {
      "text/plain": [
       "16"
      ]
     },
     "execution_count": 14,
     "metadata": {},
     "output_type": "execute_result"
    },
    {
     "data": {
      "text/plain": [
       "0"
      ]
     },
     "execution_count": 14,
     "metadata": {},
     "output_type": "execute_result"
    },
    {
     "data": {
      "text/plain": [
       "4"
      ]
     },
     "execution_count": 14,
     "metadata": {},
     "output_type": "execute_result"
    },
    {
     "data": {
      "text/plain": [
       "(1792, 20)"
      ]
     },
     "execution_count": 14,
     "metadata": {},
     "output_type": "execute_result"
    }
   ],
   "source": [
    "len(r_enc_list)\n",
    "\n",
    "\n",
    "r_enc_list[0].shape\n",
    "model.d_out_te\n",
    "model.d_out_dam\n",
    "model.d_demo\n",
    "\n",
    "X_te = np.concatenate(r_enc_list,axis=0)[:,:model.d_out_te]\n",
    "X_dam = np.concatenate(r_enc_list,axis=0)[:,model.d_out_te:]\n",
    "\n",
    "# X = np.concatenate(r_enc_list,axis=0)[:,:model.d_out_te+model.d_out_dam]\n",
    "# X = np.concatenate(r_enc_list,axis=0)[:,:model.d_out_te]\n",
    "\n",
    "X = np.concatenate(r_enc_list,axis=0)[:,:]\n",
    "\n",
    "X.shape"
   ]
  },
  {
   "cell_type": "code",
   "execution_count": 15,
   "metadata": {},
   "outputs": [],
   "source": [
    "if 'y_state_pred' in out:\n",
    "\n",
    "    y_state_pred = out['y_state_pred']\n",
    "    y_state_true = out['y_state_true']\n",
    "    y_state_score = out['y_state_score']\n",
    "else:\n",
    "    y_state_pred = None\n",
    "    y_state_true = None\n",
    "    y_state_score = None\n",
    "\n",
    "y_pred = out['y_pred']\n",
    "y_true = out['y_true']\n",
    "y_score = out['y_score']\n",
    "\n",
    "non_pad_mask_list = out['non_pad_mask_list']\n",
    "event_type_list = out['event_type_list']\n"
   ]
  },
  {
   "cell_type": "code",
   "execution_count": 16,
   "metadata": {},
   "outputs": [
    {
     "data": {
      "text/plain": [
       "torch.Size([128, 88, 25])"
      ]
     },
     "execution_count": 16,
     "metadata": {},
     "output_type": "execute_result"
    },
    {
     "data": {
      "text/plain": [
       "torch.Size([128, 88])"
      ]
     },
     "execution_count": 16,
     "metadata": {},
     "output_type": "execute_result"
    }
   ],
   "source": [
    "\n",
    "\n",
    "\n",
    "\n",
    "if len(out['state_mod_list'])>0:\n",
    "\n",
    "    res=list()\n",
    "    n_cols = len(opt.dict_map_states.keys())+1\n",
    "\n",
    "    state_mod_list = out['state_mod_list']\n",
    "    state_time_list = out['state_time_list']\n",
    "    len(state_mod_list)\n",
    "    state_mod_list[0].shape\n",
    "\n",
    "    for state_mod,state_time in zip(state_mod_list,state_time_list):\n",
    "        xs = torch.unbind(state_time,0)\n",
    "        ys = torch.unbind(state_mod,0)\n",
    "\n",
    "        for x,y in zip(xs,ys):\n",
    "            n_rows = x.int().max() + 1\n",
    "            matrix = torch.zeros(n_rows, n_cols)\n",
    "            matrix[x.long(), y] = 1\n",
    "            res.append(matrix.cpu().numpy().transpose()) # [n_marks * times]\n",
    "\n",
    "    res_labels = opt.dict_map_states.keys()\n",
    "\n",
    "else:\n",
    "\n",
    "    event_type_list[0].shape\n",
    "    non_pad_mask_list[0].shape\n",
    "\n",
    "    num_marks = event_type_list[0].shape[-1]\n",
    "\n",
    "\n",
    "    res = list()\n",
    "\n",
    "    for event_type, non_pad_mask in zip(event_type_list,non_pad_mask_list):\n",
    "\n",
    "        temp = torch.unbind(event_type,0)\n",
    "        lens = non_pad_mask.sum(1).long()\n",
    "\n",
    "        for i,x in enumerate(temp):\n",
    "            res.append( x[:lens[i],:].cpu().numpy().astype(np.uint8).transpose() )\n",
    "\n",
    "    res_labels = opt.dict_map_events.keys()\n",
    "        "
   ]
  },
  {
   "cell_type": "code",
   "execution_count": 17,
   "metadata": {},
   "outputs": [
    {
     "data": {
      "text/plain": [
       "(25, 37)"
      ]
     },
     "execution_count": 17,
     "metadata": {},
     "output_type": "execute_result"
    },
    {
     "data": {
      "text/plain": [
       "25"
      ]
     },
     "execution_count": 17,
     "metadata": {},
     "output_type": "execute_result"
    },
    {
     "data": {
      "text/plain": [
       "dict_keys(['BUN', 'Creatinine', 'Glucose', 'HCO3', 'HCT', 'K', 'Mg', 'Na', 'Platelets', 'Urine', 'WBC', 'FiO2', 'PaCO2', 'PaO2', 'SaO2', 'pH', 'ALP', 'ALT', 'AST', 'Albumin', 'Bilirubin', 'Lactate', 'Cholesterol', 'TroponinI', 'TroponinT'])"
      ]
     },
     "execution_count": 17,
     "metadata": {},
     "output_type": "execute_result"
    },
    {
     "data": {
      "text/plain": [
       "1792"
      ]
     },
     "execution_count": 17,
     "metadata": {},
     "output_type": "execute_result"
    }
   ],
   "source": [
    "res[1].shape\n",
    "\n",
    "len(res_labels)\n",
    "res_labels\n",
    "    # idd = non_pad_mask.sum(1).long()-1\n",
    "    # idd = idd[:,None,None].repeat(1,1,num_marks)\n",
    "\n",
    "    # torch.gather(event_type,1,idd).squeeze().shape\n",
    "\n",
    "len(res)"
   ]
  },
  {
   "cell_type": "code",
   "execution_count": 18,
   "metadata": {},
   "outputs": [],
   "source": [
    "from PIL import Image\n",
    "\n",
    "all_images=[]\n",
    "\n",
    "for i,pattern in enumerate(res):\n",
    "    image = Image.fromarray(pattern)\n",
    "\n",
    "\n",
    "    # row_labels = opt.dict_map_states.keys()\n",
    "    # image = binary_matrix_to_image(pattern, row_labels=row_labels, grid_size=50, border_size=2, label_size=20)\n",
    "    # image.save(f'./local/images/img{i}.jpeg')\n",
    "\n",
    "    all_images.append(f'./local/images/img{i}.jpeg')\n"
   ]
  },
  {
   "cell_type": "markdown",
   "metadata": {},
   "source": [
    "# Visualizations"
   ]
  },
  {
   "cell_type": "markdown",
   "metadata": {},
   "source": [
    "## TSNE of Learned Rep"
   ]
  },
  {
   "cell_type": "code",
   "execution_count": 19,
   "metadata": {},
   "outputs": [
    {
     "data": {
      "text/plain": [
       "(1792, 20)"
      ]
     },
     "execution_count": 19,
     "metadata": {},
     "output_type": "execute_result"
    },
    {
     "data": {
      "text/plain": [
       "(1792, 2)"
      ]
     },
     "execution_count": 19,
     "metadata": {},
     "output_type": "execute_result"
    }
   ],
   "source": [
    "TSNE_LIMIT = 6000\n",
    "\n",
    "\n",
    "\n",
    "X.shape\n",
    "all_colors = [\"#52ef99\", \"#1c875c\", \"#69c8c1\", \"#4c707b\", \"#b6c5f5\", \"#1642cd\", \"#fb5de7\", \"#be64a7\", \"#62385e\", \"#edb1ff\", \"#860967\", \"#3d84e3\", \"#c5df72\", \"#6e3901\", \"#fba55c\", \"#9f2114\", \"#36e515\", \"#65a10e\", \"#474a09\", \"#f5603a\", \"#fa217f\", \"#4007d9\",\n",
    "\"#52ef99\", \"#1c875c\", \"#69c8c1\", \"#4c707b\", \"#b6c5f5\", \"#1642cd\", \"#fb5de7\", \"#be64a7\", \"#62385e\", \"#edb1ff\", \"#860967\", \"#3d84e3\", \"#c5df72\", \"#6e3901\", \"#fba55c\", \"#9f2114\", \"#36e515\", \"#65a10e\", \"#474a09\", \"#f5603a\", \"#fa217f\", \"#4007d9\",\n",
    "\"#52ef99\", \"#1c875c\", \"#69c8c1\", \"#4c707b\", \"#b6c5f5\", \"#1642cd\", \"#fb5de7\", \"#be64a7\", \"#62385e\", \"#edb1ff\", \"#860967\", \"#3d84e3\", \"#c5df72\", \"#6e3901\", \"#fba55c\", \"#9f2114\", \"#36e515\", \"#65a10e\", \"#474a09\", \"#f5603a\", \"#fa217f\", \"#4007d9\",\n",
    "\"#52ef99\", \"#1c875c\", \"#69c8c1\", \"#4c707b\", \"#b6c5f5\", \"#1642cd\", \"#fb5de7\", \"#be64a7\", \"#62385e\", \"#edb1ff\", \"#860967\", \"#3d84e3\", \"#c5df72\", \"#6e3901\", \"#fba55c\", \"#9f2114\", \"#36e515\", \"#65a10e\", \"#474a09\", \"#f5603a\", \"#fa217f\", \"#4007d9\",\n",
    "\"#52ef99\", \"#1c875c\", \"#69c8c1\", \"#4c707b\", \"#b6c5f5\", \"#1642cd\", \"#fb5de7\", \"#be64a7\", \"#62385e\", \"#edb1ff\", \"#860967\", \"#3d84e3\", \"#c5df72\", \"#6e3901\", \"#fba55c\", \"#9f2114\", \"#36e515\", \"#65a10e\", \"#474a09\", \"#f5603a\", \"#fa217f\", \"#4007d9\",\n",
    "\"#52ef99\", \"#1c875c\", \"#69c8c1\", \"#4c707b\", \"#b6c5f5\", \"#1642cd\", \"#fb5de7\", \"#be64a7\", \"#62385e\", \"#edb1ff\", \"#860967\", \"#3d84e3\", \"#c5df72\", \"#6e3901\", \"#fba55c\", \"#9f2114\", \"#36e515\", \"#65a10e\", \"#474a09\", \"#f5603a\", \"#fa217f\", \"#4007d9\",\n",
    "\"#52ef99\", \"#1c875c\", \"#69c8c1\", \"#4c707b\", \"#b6c5f5\", \"#1642cd\", \"#fb5de7\", \"#be64a7\", \"#62385e\", \"#edb1ff\", \"#860967\", \"#3d84e3\", \"#c5df72\", \"#6e3901\", \"#fba55c\", \"#9f2114\", \"#36e515\", \"#65a10e\", \"#474a09\", \"#f5603a\", \"#fa217f\", \"#4007d9\",\n",
    "\"#52ef99\", \"#1c875c\", \"#69c8c1\", \"#4c707b\", \"#b6c5f5\", \"#1642cd\", \"#fb5de7\", \"#be64a7\", \"#62385e\", \"#edb1ff\", \"#860967\", \"#3d84e3\", \"#c5df72\", \"#6e3901\", \"#fba55c\", \"#9f2114\", \"#36e515\", \"#65a10e\", \"#474a09\", \"#f5603a\", \"#fa217f\", \"#4007d9\"]\n",
    "\n",
    "tsne = TSNE(n_components=2, perplexity=30, learning_rate=10,n_jobs=4)\n",
    "X_tsne = tsne.fit_transform(X[:TSNE_LIMIT,:])\n",
    "# colors_tsne = [all_colors[label] for label in dict_metrics['tsne']['y_true'][:TSNE_LIMIT] ]\n",
    "X_tsne.shape\n",
    "\n",
    "if model.d_out_te>0:\n",
    "    X_te_tsne = tsne.fit_transform(X_te[:TSNE_LIMIT,:])\n",
    "\n",
    "if model.d_out_dam>0:\n",
    "    X_dam_tsne = tsne.fit_transform(X_dam[:TSNE_LIMIT,:])\n"
   ]
  },
  {
   "cell_type": "code",
   "execution_count": 20,
   "metadata": {},
   "outputs": [
    {
     "data": {
      "text/html": [
       "<div>\n",
       "<style scoped>\n",
       "    .dataframe tbody tr th:only-of-type {\n",
       "        vertical-align: middle;\n",
       "    }\n",
       "\n",
       "    .dataframe tbody tr th {\n",
       "        vertical-align: top;\n",
       "    }\n",
       "\n",
       "    .dataframe thead th {\n",
       "        text-align: right;\n",
       "    }\n",
       "</style>\n",
       "<table border=\"1\" class=\"dataframe\">\n",
       "  <thead>\n",
       "    <tr style=\"text-align: right;\">\n",
       "      <th></th>\n",
       "      <th>x</th>\n",
       "      <th>y</th>\n",
       "      <th>color</th>\n",
       "      <th>id</th>\n",
       "      <th>color_true</th>\n",
       "      <th>color_pred</th>\n",
       "      <th>images</th>\n",
       "    </tr>\n",
       "  </thead>\n",
       "  <tbody>\n",
       "    <tr>\n",
       "      <th>0</th>\n",
       "      <td>-21.168648</td>\n",
       "      <td>1.332289</td>\n",
       "      <td>True Negatives</td>\n",
       "      <td>0</td>\n",
       "      <td>Negative Samples</td>\n",
       "      <td>Negative Predicted</td>\n",
       "      <td>./local/images/img0.jpeg</td>\n",
       "    </tr>\n",
       "    <tr>\n",
       "      <th>1</th>\n",
       "      <td>-37.868256</td>\n",
       "      <td>9.212813</td>\n",
       "      <td>True Negatives</td>\n",
       "      <td>1</td>\n",
       "      <td>Negative Samples</td>\n",
       "      <td>Negative Predicted</td>\n",
       "      <td>./local/images/img1.jpeg</td>\n",
       "    </tr>\n",
       "    <tr>\n",
       "      <th>2</th>\n",
       "      <td>33.648941</td>\n",
       "      <td>-18.999138</td>\n",
       "      <td>True Negatives</td>\n",
       "      <td>2</td>\n",
       "      <td>Negative Samples</td>\n",
       "      <td>Negative Predicted</td>\n",
       "      <td>./local/images/img2.jpeg</td>\n",
       "    </tr>\n",
       "    <tr>\n",
       "      <th>3</th>\n",
       "      <td>-11.435351</td>\n",
       "      <td>-40.312080</td>\n",
       "      <td>True Negatives</td>\n",
       "      <td>3</td>\n",
       "      <td>Negative Samples</td>\n",
       "      <td>Negative Predicted</td>\n",
       "      <td>./local/images/img3.jpeg</td>\n",
       "    </tr>\n",
       "    <tr>\n",
       "      <th>4</th>\n",
       "      <td>-27.501652</td>\n",
       "      <td>-18.369026</td>\n",
       "      <td>True Negatives</td>\n",
       "      <td>4</td>\n",
       "      <td>Negative Samples</td>\n",
       "      <td>Negative Predicted</td>\n",
       "      <td>./local/images/img4.jpeg</td>\n",
       "    </tr>\n",
       "    <tr>\n",
       "      <th>...</th>\n",
       "      <td>...</td>\n",
       "      <td>...</td>\n",
       "      <td>...</td>\n",
       "      <td>...</td>\n",
       "      <td>...</td>\n",
       "      <td>...</td>\n",
       "      <td>...</td>\n",
       "    </tr>\n",
       "    <tr>\n",
       "      <th>1787</th>\n",
       "      <td>-0.874669</td>\n",
       "      <td>18.745731</td>\n",
       "      <td>True Negatives</td>\n",
       "      <td>1787</td>\n",
       "      <td>Negative Samples</td>\n",
       "      <td>Negative Predicted</td>\n",
       "      <td>./local/images/img1787.jpeg</td>\n",
       "    </tr>\n",
       "    <tr>\n",
       "      <th>1788</th>\n",
       "      <td>33.720127</td>\n",
       "      <td>4.344848</td>\n",
       "      <td>True Negatives</td>\n",
       "      <td>1788</td>\n",
       "      <td>Negative Samples</td>\n",
       "      <td>Negative Predicted</td>\n",
       "      <td>./local/images/img1788.jpeg</td>\n",
       "    </tr>\n",
       "    <tr>\n",
       "      <th>1789</th>\n",
       "      <td>-24.697895</td>\n",
       "      <td>-4.393857</td>\n",
       "      <td>True Negatives</td>\n",
       "      <td>1789</td>\n",
       "      <td>Negative Samples</td>\n",
       "      <td>Negative Predicted</td>\n",
       "      <td>./local/images/img1789.jpeg</td>\n",
       "    </tr>\n",
       "    <tr>\n",
       "      <th>1790</th>\n",
       "      <td>2.848739</td>\n",
       "      <td>3.156101</td>\n",
       "      <td>True Negatives</td>\n",
       "      <td>1790</td>\n",
       "      <td>Negative Samples</td>\n",
       "      <td>Negative Predicted</td>\n",
       "      <td>./local/images/img1790.jpeg</td>\n",
       "    </tr>\n",
       "    <tr>\n",
       "      <th>1791</th>\n",
       "      <td>-11.460354</td>\n",
       "      <td>25.914549</td>\n",
       "      <td>True Negatives</td>\n",
       "      <td>1791</td>\n",
       "      <td>Negative Samples</td>\n",
       "      <td>Negative Predicted</td>\n",
       "      <td>./local/images/img1791.jpeg</td>\n",
       "    </tr>\n",
       "  </tbody>\n",
       "</table>\n",
       "<p>1792 rows × 7 columns</p>\n",
       "</div>"
      ],
      "text/plain": [
       "              x          y           color    id        color_true  \\\n",
       "0    -21.168648   1.332289  True Negatives     0  Negative Samples   \n",
       "1    -37.868256   9.212813  True Negatives     1  Negative Samples   \n",
       "2     33.648941 -18.999138  True Negatives     2  Negative Samples   \n",
       "3    -11.435351 -40.312080  True Negatives     3  Negative Samples   \n",
       "4    -27.501652 -18.369026  True Negatives     4  Negative Samples   \n",
       "...         ...        ...             ...   ...               ...   \n",
       "1787  -0.874669  18.745731  True Negatives  1787  Negative Samples   \n",
       "1788  33.720127   4.344848  True Negatives  1788  Negative Samples   \n",
       "1789 -24.697895  -4.393857  True Negatives  1789  Negative Samples   \n",
       "1790   2.848739   3.156101  True Negatives  1790  Negative Samples   \n",
       "1791 -11.460354  25.914549  True Negatives  1791  Negative Samples   \n",
       "\n",
       "              color_pred                       images  \n",
       "0     Negative Predicted     ./local/images/img0.jpeg  \n",
       "1     Negative Predicted     ./local/images/img1.jpeg  \n",
       "2     Negative Predicted     ./local/images/img2.jpeg  \n",
       "3     Negative Predicted     ./local/images/img3.jpeg  \n",
       "4     Negative Predicted     ./local/images/img4.jpeg  \n",
       "...                  ...                          ...  \n",
       "1787  Negative Predicted  ./local/images/img1787.jpeg  \n",
       "1788  Negative Predicted  ./local/images/img1788.jpeg  \n",
       "1789  Negative Predicted  ./local/images/img1789.jpeg  \n",
       "1790  Negative Predicted  ./local/images/img1790.jpeg  \n",
       "1791  Negative Predicted  ./local/images/img1791.jpeg  \n",
       "\n",
       "[1792 rows x 7 columns]"
      ]
     },
     "execution_count": 20,
     "metadata": {},
     "output_type": "execute_result"
    }
   ],
   "source": [
    "df = pd.DataFrame()\n",
    "df['x']=X_tsne[:,0]\n",
    "df['y']=X_tsne[:,1]\n",
    "\n",
    "# df['x']=X_te_tsne[:,0]\n",
    "# df['y']=X_te_tsne[:,1]\n",
    "\n",
    "# df['x']=X_dam_tsne[:,0]\n",
    "# df['y']=X_dam_tsne[:,1]\n",
    "\n",
    "df['color']=0\n",
    "df['id']=np.arange(len(df))\n",
    "\n",
    "\n",
    "if y_state_true is not None:\n",
    "\n",
    "    TP = (y_state_true[:TSNE_LIMIT]*y_state_pred[:TSNE_LIMIT])==1\n",
    "    FP_FN = (y_state_true[:TSNE_LIMIT]+y_state_pred[:TSNE_LIMIT])==1\n",
    "    FN = (y_state_true[:TSNE_LIMIT]-y_state_pred[:TSNE_LIMIT])==1\n",
    "    FP = (y_state_true[:TSNE_LIMIT]-y_state_pred[:TSNE_LIMIT])==-1\n",
    "\n",
    "    TN = (y_state_true[:TSNE_LIMIT]+y_state_pred[:TSNE_LIMIT])==0\n",
    "\n",
    "\n",
    "\n",
    "    # df.loc[TN, 'color']='True Negatives'\n",
    "    df.loc[TP, 'color']='True Positives'\n",
    "    df.loc[FN, 'color']='False Negatives'\n",
    "    df.loc[FP, 'color']='False Positives'\n",
    "    df.loc[TN, 'color']='True Negatives'\n",
    "\n",
    "    df.loc[y_state_true[:TSNE_LIMIT].astype(bool).flatten(), 'color_true']='Positive Samples'\n",
    "    df.loc[~y_state_true[:TSNE_LIMIT].astype(bool).flatten(), 'color_true']='Negative Samples'\n",
    "\n",
    "\n",
    "    df.loc[y_state_pred[:TSNE_LIMIT].astype(bool).flatten(), 'color_pred']='Positive Predicted'\n",
    "    df.loc[~y_state_pred[:TSNE_LIMIT].astype(bool).flatten(), 'color_pred']='Negative Predicted'\n",
    "\n",
    "# # df.loc[y_state_pred[:TSNE_LIMIT].astype(bool), 'color']='Negative Samples'\n",
    "\n",
    "# # df['color_true']=y_state_true[:TSNE_LIMIT]\n",
    "# # df['color_pred']=y_state_pred[:TSNE_LIMIT]\n",
    "\n",
    "df['images']=all_images[:TSNE_LIMIT]\n",
    "\n",
    "\n",
    "\n",
    "# fig = px.scatter(df,x='x',y='y',color='color', title='temp', hover_data=['id']).update_layout(width=800, height=600)\n",
    "# fig.show()\n",
    "\n",
    "\n",
    "# fig = px.scatter(df,x='x',y='y',color='color_pred', title='temp', hover_data=['id']).update_layout(width=800, height=600)\n",
    "# fig.show()\n",
    "\n",
    "# fig = px.scatter(df,x='x',y='y',color='color_true', title='temp', hover_data=['id']).update_layout(width=800, height=600)\n",
    "# fig.show()\n",
    "# fig.write_image(PATH_PAPER+f\"tsne_{'temp'}.png\")\n",
    "df"
   ]
  },
  {
   "cell_type": "code",
   "execution_count": 21,
   "metadata": {},
   "outputs": [],
   "source": [
    "# sudo conda install -c conda-forge dash --name paper2022\n",
    "# sudo conda install -c conda-forge jupyter-dash --name paper2022"
   ]
  },
  {
   "cell_type": "code",
   "execution_count": 22,
   "metadata": {},
   "outputs": [],
   "source": [
    "color_map = {\n",
    "    'Positive Samples': \"#E52B50\",\n",
    "    'Negative Samples': \"#3B7A57\",\n",
    "    0: \"#3B7A57\",\n",
    "    'Positive Predicted': \"#3DDC84\",\n",
    "    'Negative Predicted': \"#FFBF00\",\n",
    "    5: \"#915C83\",\n",
    "    'True Positives': \"#008000\",\n",
    "    'False Negatives': \"#7FFFD4\",\n",
    "    'False Positives': \"#E9D66B\",\n",
    "    'True Negatives': \"#007FFF\",\n",
    "}\n",
    "\n",
    "\n",
    "labels = df['color_true'].values\n",
    "colors = [color_map[label] for i,label in enumerate(labels)]\n",
    "\n",
    "fig = go.Figure(data=[go.Scatter(\n",
    "    x=df['x'],\n",
    "    y=df['y'],\n",
    "    # z=tsne[:, 2],\n",
    "    mode='markers',\n",
    "    marker=dict(\n",
    "        # size=2,\n",
    "        color=colors,\n",
    "    )\n",
    ")])\n",
    "\n",
    "_=fig.update_layout(\n",
    "    # autosize=False,\n",
    "    width=1000,\n",
    "    height=1000,\n",
    "\n",
    ")\n",
    "_=fig.update_traces(\n",
    "    hoverinfo=\"none\",\n",
    "    hovertemplate=None,\n",
    ")\n",
    "# _=fig.update_layout(\n",
    "#     scene=dict(\n",
    "#         xaxis=dict(range=[-10,10]),\n",
    "#         yaxis=dict(range=[-10,10]),\n",
    "#         # zaxis=dict(range=[-10,10]),   \n",
    "#     )\n",
    "# )\n",
    "\n"
   ]
  },
  {
   "cell_type": "code",
   "execution_count": 23,
   "metadata": {},
   "outputs": [
    {
     "name": "stdout",
     "output_type": "stream",
     "text": [
      "Dash app running on http://127.0.0.1:4715/\n"
     ]
    }
   ],
   "source": [
    "app = JupyterDash(__name__)\n",
    "\n",
    "app.layout = html.Div(\n",
    "    className=\"container\",\n",
    "    children=[\n",
    "        dcc.Graph(id=\"graph-5\", figure=fig, clear_on_unhover=True,),\n",
    "        dcc.Tooltip(id=\"graph-tooltip-5\", direction='bottom'),\n",
    "       \n",
    "    ],\n",
    "\n",
    ")\n",
    "\n",
    "@app.callback(\n",
    "    Output(\"graph-tooltip-5\", \"show\"),\n",
    "    Output(\"graph-tooltip-5\", \"bbox\"),\n",
    "    Output(\"graph-tooltip-5\", \"children\"),\n",
    "    Input(\"graph-5\", \"hoverData\"),\n",
    ")\n",
    "def display_hover(hoverData):\n",
    "    if hoverData is None:\n",
    "        return False, no_update, no_update\n",
    "\n",
    "    # demo only shows the first point, but other points may also be available\n",
    "    hover_data = hoverData[\"points\"][0]\n",
    "    bbox = hover_data[\"bbox\"]\n",
    "    num = hover_data[\"pointNumber\"]\n",
    "\n",
    "    im_matrix = res[num].astype(int)\n",
    "    # im_url = np_image_to_base64(im_matrix)\n",
    "    # im_url = binary_matrix_to_image(im_matrix)\n",
    "    im_url = binary_matrix_to_image(im_matrix, row_labels=res_labels, grid_size=50, border_size=2, label_size=20)\n",
    "    \n",
    "    # binary_matrix = np.array([[1, 0, 1], [0, 1, 0], [1, 0, 1]])\n",
    "    # row_labels = ['A', 'B', 'C']\n",
    "    # im_url = binary_matrix_to_image(binary_matrix, row_labels=row_labels, grid_size=50, border_size=2, label_size=20)\n",
    "    \n",
    "\n",
    "    children = [\n",
    "        html.Div([\n",
    "            html.Img(\n",
    "                src=im_url,\n",
    "                style={\"height\": \"200px\", 'display': 'block', 'margin': '0 auto'},\n",
    "            ),\n",
    "            # html.P(\"MNIST Digit \" + str(labels[num]), style={'font-weight': 'bold'})\n",
    "            html.P(f\"Patterns-id={num}\" , style={'font-weight': 'bold'})\n",
    "\n",
    "        ])\n",
    "        \n",
    "    ]\n",
    "\n",
    "    return True, bbox, children\n",
    "\n",
    "if __name__ == \"__main__\":\n",
    "    # app.run_server(mode='inline', debug=True)\n",
    "    app.run_server(mode='external',port=np.random.randint(2000,5000))"
   ]
  },
  {
   "cell_type": "code",
   "execution_count": null,
   "metadata": {},
   "outputs": [
    {
     "name": "stderr",
     "output_type": "stream",
     "text": [
      "/tmp/ipykernel_29500/1958328075.py:42: DeprecationWarning:\n",
      "\n",
      "getsize is deprecated and will be removed in Pillow 10 (2023-07-01). Use getbbox or getlength instead.\n",
      "\n"
     ]
    },
    {
     "data": {
      "image/png": "[encoded data removed]",
      "text/plain": [
       "<PIL.Image.Image image mode=RGB size=5410x1302>"
      ]
     },
     "execution_count": 57,
     "metadata": {},
     "output_type": "execute_result"
    },
    {
     "data": {
      "image/png": "[encoded data removed]",
      "text/plain": [
       "<PIL.Image.Image image mode=RGB size=5098x1302>"
      ]
     },
     "execution_count": 57,
     "metadata": {},
     "output_type": "execute_result"
    }
   ],
   "source": [
    "\n",
    "\n",
    "iii=[1426,1155]\n",
    "\n",
    "for ii in iii:\n",
    "    im_matrix = res[ii]\n",
    "    row_labels = opt.dict_map_states.keys()\n",
    "    im_url = binary_matrix_to_image(im_matrix, row_labels=res_labels, grid_size=50, border_size=2, label_size=20)\n",
    "\n",
    "    im_url\n",
    "\n"
   ]
  },
  {
   "cell_type": "code",
   "execution_count": null,
   "metadata": {},
   "outputs": [],
   "source": []
  }
 ],
 "metadata": {
  "kernelspec": {
   "display_name": "paper2022",
   "language": "python",
   "name": "python3"
  },
  "language_info": {
   "codemirror_mode": {
    "name": "ipython",
    "version": 3
   },
   "file_extension": ".py",
   "mimetype": "text/x-python",
   "name": "python",
   "nbconvert_exporter": "python",
   "pygments_lexer": "ipython3",
   "version": "3.9.7"
  },
  "orig_nbformat": 4,
  "vscode": {
   "interpreter": {
    "hash": "ca5b395ee1d8a1cd2783c3fccc5aaaf2f1d95e614c8b133e284cded792af89cd"
   }
  }
 },
 "nbformat": 4,
 "nbformat_minor": 2
}
