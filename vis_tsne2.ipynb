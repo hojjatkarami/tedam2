{
 "cells": [
  {
   "cell_type": "code",
   "execution_count": 49,
   "metadata": {},
   "outputs": [],
   "source": [
    "# activate line execution\n",
    "from IPython.core.interactiveshell import InteractiveShell\n",
    "InteractiveShell.ast_node_interactivity = \"all\"\n",
    "\n",
    "# general\n",
    "import numpy as np\n",
    "import pandas as pd\n",
    "import math\n",
    "# import matplotlib.pyplot as plt\n",
    "import os\n",
    "import shutil\n",
    "import pickle\n",
    "\n",
    "# plotly\n",
    "import plotly.express as px  # (version 4.7.0 or higher)\n",
    "import plotly.graph_objects as go\n",
    "from plotly.subplots import make_subplots\n",
    "\n",
    "import matplotlib.pyplot as plt\n",
    "\n",
    "# import custom libraries\n",
    "import sys\n",
    "# sys.path.append(\"C:\\\\DATA\\\\Tasks\\\\lib\\\\hk\")\n",
    "# import hk_utils\n",
    "\n",
    "# folder paths\n",
    "ADD_DATA = \"C:\\\\DATA\\\\data\\\\raw\\\\mimic4\\\\lookup\\\\\"\n",
    "ADD_DATA_proc = \"C:/DATA/data/processed/\"\n",
    "\n",
    "\n",
    "PATH_PAPER = \"C:\\\\DATA\\\\Tasks\\\\220704\\\\Alternate-Transactions-Articles-LaTeX-template\\\\images\\\\\"\n",
    "\n",
    "\n",
    "PATH_SYS=\"/mlodata1/hokarami/tedam/\""
   ]
  },
  {
   "cell_type": "code",
   "execution_count": 50,
   "metadata": {},
   "outputs": [],
   "source": [
    "# libraries for THP\n",
    "\n",
    "import argparse\n",
    "import numpy as np\n",
    "import pickle\n",
    "import time\n",
    "import torch\n",
    "import torch.nn as nn\n",
    "import torch.optim as optim\n",
    "# from torch.utils.tensorboard import SummaryWriter\n",
    "\n",
    "import transformer.Constants as Constants\n",
    "import Utils\n",
    "\n",
    "# from preprocess.Dataset import get_dataloader, get_dataloader2\n",
    "# from transformer.Models import Transformer\n",
    "# from transformer.hk_transformer import Transformer\n",
    "from tqdm import tqdm\n",
    "\n",
    "# from torchinfo import summary\n",
    "\n",
    "os.environ['CUDA_LAUNCH_BLOCKING'] = \"1\"\n",
    "\n",
    "# torch.cuda.empty_cache()\n",
    "# torch.cuda.memory_allocated()\n",
    "# torch.cuda.memory_reserved()\n",
    "\n",
    "from sklearn import metrics\n",
    "# from hk_pytorch import save_checkpoint,load_checkpoint\n",
    "# import hk_pytorch\n",
    "\n",
    "\n",
    "# from custom2 import myparser\n",
    "import re"
   ]
  },
  {
   "cell_type": "code",
   "execution_count": 51,
   "metadata": {},
   "outputs": [],
   "source": [
    "import Main\n",
    "import webbrowser\n"
   ]
  },
  {
   "cell_type": "code",
   "execution_count": 52,
   "metadata": {},
   "outputs": [],
   "source": [
    "import io"
   ]
  },
  {
   "cell_type": "code",
   "execution_count": 53,
   "metadata": {},
   "outputs": [],
   "source": [
    "# sudo conda install -c conda-forge dash --name paper2022\n",
    "# sudo conda install -c conda-forge jupyter-dash --name paper2022"
   ]
  },
  {
   "cell_type": "code",
   "execution_count": 54,
   "metadata": {},
   "outputs": [],
   "source": [
    "from tsnecuda import TSNE\n",
    "from MulticoreTSNE import MulticoreTSNE as TSNE"
   ]
  },
  {
   "cell_type": "code",
   "execution_count": 55,
   "metadata": {},
   "outputs": [],
   "source": [
    "# !pip install wandb -qqq\n",
    "import wandb\n",
    "# wandb.login()\n",
    "api = wandb.Api()\n",
    "import os\n",
    "\n",
    "os.environ[\"WANDB_API_KEY\"] = \"0f780ac8a470afe6cb7fc474ff3794772c660465\"\n",
    "\n",
    "os.environ[\"WANDB_NOTEBOOK_NAME\"] = \"jup_res\""
   ]
  },
  {
   "attachments": {},
   "cell_type": "markdown",
   "metadata": {},
   "source": [
    "# Functions"
   ]
  },
  {
   "cell_type": "code",
   "execution_count": 56,
   "metadata": {},
   "outputs": [],
   "source": [
    "import io\n",
    "import base64\n",
    "import pickle\n",
    "import gzip\n",
    "\n",
    "import numpy as np\n",
    "\n",
    "from jupyter_dash import JupyterDash\n",
    "from dash import dcc, html, Input, Output, no_update\n",
    "import plotly.graph_objects as go\n",
    "\n",
    "from PIL import ImageDraw, Image\n",
    "\n",
    "from sklearn.manifold import TSNE\n",
    "\n",
    "# Helper functions\n",
    "def np_image_to_base64(im_matrix,scale=4):\n",
    "\n",
    "    im_matrix = np.repeat(np.repeat(im_matrix,scale,axis=0),scale,axis=1)\n",
    "    im = Image.fromarray(im_matrix)\n",
    "    buffer = io.BytesIO()\n",
    "    im.save(buffer, format=\"jpeg\")\n",
    "    encoded_image = base64.b64encode(buffer.getvalue()).decode()\n",
    "    im_url = \"data:image/jpeg;base64, \" + encoded_image\n",
    "    return im_url\n",
    "\n",
    "\n",
    "\n",
    "\n",
    "def binary_matrix_to_image(binary_matrix, grid_size=8, border_size=1):\n",
    "    # Calculate the size of the output image based on the size of the binary matrix\n",
    "    height, width = binary_matrix.shape[:2]\n",
    "    image_width = width * grid_size + (width + 1) * border_size\n",
    "    image_height = height * grid_size + (height + 1) * border_size\n",
    "    \n",
    "    # Create a new image and a draw object to draw the grid and borders\n",
    "    image = Image.new('RGB', (image_width, image_height), color='black')\n",
    "    draw = ImageDraw.Draw(image)\n",
    "    \n",
    "    # Draw the white grids\n",
    "    for i in range(height):\n",
    "        for j in range(width):\n",
    "            if binary_matrix[i, j] == 1:\n",
    "                x1 = j * (grid_size + border_size) + border_size\n",
    "                y1 = i * (grid_size + border_size) + border_size\n",
    "                x2 = x1 + grid_size\n",
    "                y2 = y1 + grid_size\n",
    "                draw.rectangle((x1, y1, x2, y2), fill='white')\n",
    "    \n",
    "    # Draw the black borders\n",
    "    for i in range(height + 1):\n",
    "        y = i * (grid_size + border_size)\n",
    "        draw.line((0, y, image_width, y), fill='white', width=border_size)\n",
    "        \n",
    "    for j in range(width + 1):\n",
    "        x = j * (grid_size + border_size)\n",
    "        draw.line((x, 0, x, image_height), fill='white', width=border_size)\n",
    "        \n",
    "    return image"
   ]
  },
  {
   "cell_type": "code",
   "execution_count": 57,
   "metadata": {},
   "outputs": [],
   "source": [
    "import numpy as np\n",
    "from PIL import ImageDraw, Image, ImageFont\n",
    "\n",
    "def binary_matrix_to_image(binary_matrix, row_labels=None, font_path=None, grid_size=10, border_size=1, label_size=15):\n",
    "    # Add a dummy column to the binary matrix\n",
    "    ddd=2\n",
    "\n",
    "    height, width = binary_matrix.shape[:2]\n",
    "    binary_matrix = np.concatenate((np.zeros((height, ddd)), binary_matrix), axis=1)\n",
    "    width += ddd\n",
    "    \n",
    "    # Calculate the size of the output image based on the size of the binary matrix\n",
    "    image_width = (width + 1) * grid_size + (width + 2) * border_size\n",
    "    image_height = height * grid_size + (height + 1) * border_size\n",
    "    \n",
    "    # Create a new image and a draw object to draw the grid and borders\n",
    "    image = Image.new('RGB', (image_width, image_height), color='black')\n",
    "    draw = ImageDraw.Draw(image)\n",
    "    \n",
    "    # Draw the white grids\n",
    "    for i in range(height):\n",
    "        for j in range(1, width):\n",
    "            if binary_matrix[i, j] == 1:\n",
    "                x1 = j * (grid_size + border_size) + border_size\n",
    "                y1 = i * (grid_size + border_size) + border_size\n",
    "                x2 = x1 + grid_size\n",
    "                y2 = y1 + grid_size\n",
    "                draw.rectangle((x1, y1, x2, y2), fill='white')\n",
    "    \n",
    "    # Draw the black borders\n",
    "    for i in range(height + 1):\n",
    "        y = i * (grid_size + border_size)\n",
    "        draw.line((grid_size, y, image_width, y), fill='white', width=border_size)\n",
    "        \n",
    "    for j in range(width + 1):\n",
    "        x = j * (grid_size + border_size)\n",
    "        draw.line((x, 0, x, image_height), fill='white', width=border_size)\n",
    "    \n",
    "    # Draw the row labels\n",
    "    if row_labels is not None:\n",
    "        font = ImageFont.truetype(PATH_SYS+'arial.ttf', size=label_size)\n",
    "        max_label_width = max([font.getsize(str(label))[0] for label in row_labels])\n",
    "        label_x = 0\n",
    "        label_y = border_size\n",
    "        for i, label in enumerate(row_labels):\n",
    "            draw.text((label_x, label_y), str(label), font=font, fill='white',align=\"right\")\n",
    "            label_y += grid_size + border_size\n",
    "            # if i == 0:\n",
    "            #     label_x += max_label_width + border_size + grid_size\n",
    "        \n",
    "    return image\n"
   ]
  },
  {
   "cell_type": "code",
   "execution_count": 58,
   "metadata": {},
   "outputs": [],
   "source": [
    "import numpy as np\n",
    "import matplotlib.pyplot as plt\n",
    "from PIL import Image\n",
    "\n",
    "def create_barplot_image(data, labels, filename):\n",
    "    \"\"\"\n",
    "    Creates a bar plot image of the input data and saves it as a PNG file with the given filename.\n",
    "\n",
    "    Args:\n",
    "        data (numpy.ndarray): A 1D array of data to plot.\n",
    "        labels (list): A list of labels for each data point.\n",
    "        filename (str): The name of the output PNG file.\n",
    "\n",
    "    Returns:\n",
    "        PIL.Image.Image: A PIL image object of the bar plot.\n",
    "    \"\"\"\n",
    "    # Create a figure and axis object\n",
    "    fig, ax = plt.subplots()\n",
    "\n",
    "    # Create a bar plot\n",
    "    _ = ax.bar(np.arange(len(data)), data)\n",
    "\n",
    "    # Set axis labels and title\n",
    "    _ = ax.set_xlabel('Index')\n",
    "    _ = ax.set_ylabel('Value')\n",
    "    _ = ax.set_title('Bar plot')\n",
    "\n",
    "    # Set x-tick labels\n",
    "    _ = ax.set_xticks(np.arange(len(data)))\n",
    "    _ = ax.set_xticklabels(labels, rotation=45)\n",
    "\n",
    "    # Save the plot as a PNG file\n",
    "    _ = fig.savefig(filename)\n",
    "    plt.close(fig)\n",
    "    # Load the PNG image and return as a PIL image object\n",
    "    return Image.open(filename)\n"
   ]
  },
  {
   "cell_type": "markdown",
   "metadata": {},
   "source": [
    "# Model path"
   ]
  },
  {
   "cell_type": "code",
   "execution_count": 59,
   "metadata": {},
   "outputs": [
    {
     "data": {
      "text/plain": [
       "'hokarami/TEEDAM_supervised/lzvf7erg'"
      ]
     },
     "execution_count": 59,
     "metadata": {},
     "output_type": "execute_result"
    },
    {
     "data": {
      "text/plain": [
       "<_io.TextIOWrapper name='./local/best_model.pkl' mode='r' encoding='UTF-8'>"
      ]
     },
     "execution_count": 59,
     "metadata": {},
     "output_type": "execute_result"
    },
    {
     "data": {
      "text/plain": [
       "<_io.TextIOWrapper name='./local/conda-environment.yaml' mode='r' encoding='UTF-8'>"
      ]
     },
     "execution_count": 59,
     "metadata": {},
     "output_type": "execute_result"
    },
    {
     "data": {
      "text/plain": [
       "<_io.TextIOWrapper name='./local/config.yaml' mode='r' encoding='UTF-8'>"
      ]
     },
     "execution_count": 59,
     "metadata": {},
     "output_type": "execute_result"
    },
    {
     "data": {
      "text/plain": [
       "<_io.TextIOWrapper name='./local/local/[Q20-DA__base-concat]1586915.html' mode='r' encoding='UTF-8'>"
      ]
     },
     "execution_count": 59,
     "metadata": {},
     "output_type": "execute_result"
    },
    {
     "data": {
      "text/plain": [
       "<_io.TextIOWrapper name='./local/opt.pkl' mode='r' encoding='UTF-8'>"
      ]
     },
     "execution_count": 59,
     "metadata": {},
     "output_type": "execute_result"
    },
    {
     "data": {
      "text/plain": [
       "<_io.TextIOWrapper name='./local/output.log' mode='r' encoding='UTF-8'>"
      ]
     },
     "execution_count": 59,
     "metadata": {},
     "output_type": "execute_result"
    },
    {
     "data": {
      "text/plain": [
       "<_io.TextIOWrapper name='./local/requirements.txt' mode='r' encoding='UTF-8'>"
      ]
     },
     "execution_count": 59,
     "metadata": {},
     "output_type": "execute_result"
    },
    {
     "data": {
      "text/plain": [
       "<_io.TextIOWrapper name='./local/wandb-metadata.json' mode='r' encoding='UTF-8'>"
      ]
     },
     "execution_count": 59,
     "metadata": {},
     "output_type": "execute_result"
    },
    {
     "data": {
      "text/plain": [
       "<_io.TextIOWrapper name='./local/wandb-summary.json' mode='r' encoding='UTF-8'>"
      ]
     },
     "execution_count": 59,
     "metadata": {},
     "output_type": "execute_result"
    }
   ],
   "source": [
    "runs_path=[\n",
    "# \"hokarami/TEEDAM_supervised/5uzxzoxd\",\n",
    "\"hokarami/TEEDAM_supervised/sb9zf1mm\",\n",
    "\"hokarami/TEEDAM_supervised/hue1qxw4\",  # seft [Q10-TE__nextmark-concat]1566371 with label\n",
    "\n",
    "# \"hokarami/TEEDAM_supervised/t43m0t0u\", # [Q10-DA__base-concat]1563864\n",
    "\n",
    "\"hokarami/TEEDAM_supervised/9gxq3dgy\", # [Q10-TEDA__nextmark-concat]1577576 with label\n",
    "\n",
    "\"hokarami/TEEDAM_supervised/56ecgyrq\", # [Q20-TEDA__nextmark-concat]1588433\n",
    "# \"hokarami/TEEDAM_supervised/g4x0ibmk\", # [Q20-TE__nextmark-concat]1585936 with label\n",
    "\n",
    "\"hokarami/TEEDAM_supervised/lzvf7erg\", # [Q20-DA__base-concat]1586915\n",
    "\n",
    "]\n",
    "\n",
    "run_path = runs_path[-1]\n",
    "run_path\n",
    "\n",
    "\n",
    "run = api.run(run_path)\n",
    "for file in run.files():\n",
    "    file.download(replace=True,root='./local/')"
   ]
  },
  {
   "cell_type": "code",
   "execution_count": 60,
   "metadata": {},
   "outputs": [
    {
     "name": "stdout",
     "output_type": "stream",
     "text": [
      "############################## CUDA True\n",
      "[Info] INPUT DAM --> none-mark-label\n",
      "[Info] parameters: Namespace(data='/mlodata1/hokarami/tedam/p12-seft/', data_label='multilabel', cuda=1, wandb=True, wandb_project='TEEDAM_supervised', log_freq=1, prof=False, per=100, balanced_batch=True, transfer_learning='', freeze='', ES_pat=100, setting='seft', test_center='', split='', log='log.txt', user_prefix='[Q20-DA__base-concat]', pos_alpha=1.0, epoch=10, batch_size=32, lr=0.01, smooth=0.0, weight_decay=0.1, event_enc=0, time_enc='concat', te_d_mark=8, te_d_time=8, te_d_rnn=256, te_d_inner=16, te_d_k=8, te_d_v=8, te_n_head=4, te_n_layers=4, te_dropout=0.1, state=True, demo=True, num_states=1, noise=False, mod='none', int_dec='sahp', w_event=1.0, next_mark=1, w_class=False, w_pos=False, mark_detach=1, w_time=1.0, sample_label=1, w_pos_label=0.5, w_sample_label=100.0, hparams2write={'data': '/mlodata1/hokarami/tedam/p12/', 'data_label': 'multilabel', 'cuda': 1, 'wandb': True, 'wandb_project': 'TEEDAM_supervised', 'log_freq': 1, 'prof': False, 'per': 100, 'balanced_batch': True, 'transfer_learning': '', 'freeze': '', 'ES_pat': 100, 'setting': 'seft', 'test_center': '', 'split': '', 'log': 'log.txt', 'user_prefix': '[Q20-DA__base-concat]', 'pos_alpha': 1.0, 'epoch': 10, 'batch_size': 32, 'lr': 0.01, 'smooth': 0.0, 'weight_decay': 0.1, 'event_enc': 0, 'time_enc': 'concat', 'te_d_mark': 8, 'te_d_time': 8, 'te_d_rnn': 256, 'te_d_inner': 16, 'te_d_k': 8, 'te_d_v': 8, 'te_n_head': 4, 'te_n_layers': 4, 'te_dropout': 0.1, 'state': True, 'demo': True, 'num_states': 1, 'noise': False, 'mod': 'none', 'int_dec': 'sahp', 'w_event': 1.0, 'next_mark': 1, 'w_class': False, 'w_pos': False, 'mark_detach': 1, 'w_time': 1.0, 'sample_label': 1, 'w_pos_label': 0.5, 'w_sample_label': 100.0}, date='22-02-23--13-31-34', run_id='1586915', dataset='P12', str_config='-seft', run_name='[Q20-DA__base-concat]1586915', run_path='/mlodata1/hokarami/tedam/p12-seft/[Q20-DA__base-concat]1586915/', device=device(type='cuda'), INPUT='DAM', OUTPUT='none-mark-label')\n",
      "[Info] Loading train data...\n",
      "[Info] Loading dev data...\n",
      "[Info] Loading test data...\n",
      "[info] 100% of data will be considered\n",
      "[Info] Loading train STATE...\n",
      "[Info] Loading dev STATE...\n",
      "[Info] Loading test STATE...\n",
      "[info] 100% of data will be considered\n",
      "[info] True/total = 0.1430\n",
      "[info] balanced mini batches\n",
      "[info] STATE will be considered\n"
     ]
    },
    {
     "data": {
      "text/plain": [
       "ATHP(\n",
       "  (DAM): DeepAttensionModule(\n",
       "    (demo_encoder): Predictor(\n",
       "      (linear1): Linear(in_features=7, out_features=16, bias=True)\n",
       "      (linear2): Linear(in_features=16, out_features=16, bias=True)\n",
       "      (linear3): Linear(in_features=16, out_features=40, bias=True)\n",
       "      (relu): ReLU()\n",
       "      (do): Dropout(p=0.0, inplace=False)\n",
       "    )\n",
       "    (phi): MLP_state(\n",
       "      (fc1): Linear(in_features=40, out_features=32, bias=True)\n",
       "      (relu): ReLU()\n",
       "      (do): Dropout(p=0.0, inplace=False)\n",
       "      (fc2): Linear(in_features=32, out_features=32, bias=True)\n",
       "    )\n",
       "    (attention): CumulativeSetAttentionLayer(\n",
       "      (psi): MLP_state(\n",
       "        (fc1): Linear(in_features=40, out_features=16, bias=True)\n",
       "        (relu): ReLU()\n",
       "        (do): Dropout(p=0.0, inplace=False)\n",
       "        (fc2): Linear(in_features=16, out_features=16, bias=True)\n",
       "      )\n",
       "      (rho): Linear(in_features=16, out_features=32, bias=True)\n",
       "    )\n",
       "    (rho): MLP_state(\n",
       "      (fc1): Linear(in_features=64, out_features=32, bias=True)\n",
       "      (relu): ReLU()\n",
       "      (do): Dropout(p=0.0, inplace=False)\n",
       "      (fc2): Linear(in_features=32, out_features=32, bias=True)\n",
       "    )\n",
       "  )\n",
       "  (demo_encoder): Predictor(\n",
       "    (linear1): Linear(in_features=7, out_features=16, bias=True)\n",
       "    (linear2): Linear(in_features=16, out_features=16, bias=True)\n",
       "    (linear3): Linear(in_features=16, out_features=4, bias=True)\n",
       "    (relu): ReLU()\n",
       "    (do): Dropout(p=0.0, inplace=False)\n",
       "  )\n",
       "  (pred_label): Predictor(\n",
       "    (linear1): Linear(in_features=36, out_features=16, bias=True)\n",
       "    (linear2): Linear(in_features=16, out_features=16, bias=True)\n",
       "    (linear3): Linear(in_features=16, out_features=1, bias=True)\n",
       "    (relu): ReLU()\n",
       "    (do): Dropout(p=0.0, inplace=False)\n",
       "  )\n",
       "  (pred_next_time): Predictor(\n",
       "    (linear1): Linear(in_features=36, out_features=16, bias=True)\n",
       "    (linear2): Linear(in_features=16, out_features=16, bias=True)\n",
       "    (linear3): Linear(in_features=16, out_features=1, bias=True)\n",
       "    (relu): ReLU()\n",
       "    (do): Dropout(p=0.0, inplace=False)\n",
       "  )\n",
       "  (pred_next_type): Predictor(\n",
       "    (linear1): Linear(in_features=36, out_features=16, bias=True)\n",
       "    (linear2): Linear(in_features=16, out_features=16, bias=True)\n",
       "    (linear3): Linear(in_features=16, out_features=24, bias=True)\n",
       "    (relu): ReLU()\n",
       "    (do): Dropout(p=0.0, inplace=False)\n",
       "  )\n",
       ")"
      ]
     },
     "execution_count": 60,
     "metadata": {},
     "output_type": "execute_result"
    },
    {
     "data": {
      "text/plain": [
       "<All keys matched successfully>"
      ]
     },
     "execution_count": 60,
     "metadata": {},
     "output_type": "execute_result"
    },
    {
     "name": "stderr",
     "output_type": "stream",
     "text": [
      "                                                                 \r"
     ]
    }
   ],
   "source": [
    "\n",
    "\n",
    "opt = pickle.load(open('./local/opt.pkl','rb'))\n",
    "# modify opt\n",
    "# opt.data=PATH_SYS+'p12-seft/'\n",
    "opt = Main.config(opt, justLoad=True)\n",
    "\n",
    "checkpoint = torch.load('./local/best_model.pkl')\n",
    "\n",
    "\n",
    "\n",
    "\n",
    "model = Main.ATHP(\n",
    "       n_marks=opt.num_marks,\n",
    "        TE_config = opt.TE_config,\n",
    "        DAM_config = opt.DAM_config,\n",
    "        NOISE_config = opt.NOISE_config,\n",
    "\n",
    "        CIF_config = opt.CIF_config,\n",
    "        next_time_config = opt.next_time_config,\n",
    "        next_type_config = opt.next_type_config,\n",
    "        label_config = opt.label_config,\n",
    "\n",
    "        demo_config = opt.demo_config,\n",
    "\n",
    "        device=opt.device,\n",
    "\n",
    "\n",
    "\n",
    "    )\n",
    "model.to(opt.device)\n",
    "model.load_state_dict(checkpoint['model_state_dict'])\n",
    "_ = model.eval()\n",
    "\n",
    "\n",
    "dict_metrics,r_enc_list, out = Main.valid_epoch_tsne(model, opt.validloader, opt.pred_loss_func, opt)\n",
    "\n"
   ]
  },
  {
   "cell_type": "code",
   "execution_count": 61,
   "metadata": {},
   "outputs": [
    {
     "data": {
      "text/plain": [
       "torch.Size([32, 43, 24])"
      ]
     },
     "execution_count": 61,
     "metadata": {},
     "output_type": "execute_result"
    },
    {
     "data": {
      "text/plain": [
       "torch.Size([32, 43])"
      ]
     },
     "execution_count": 61,
     "metadata": {},
     "output_type": "execute_result"
    },
    {
     "data": {
      "text/plain": [
       "(24, 39)"
      ]
     },
     "execution_count": 61,
     "metadata": {},
     "output_type": "execute_result"
    },
    {
     "data": {
      "text/plain": [
       "24"
      ]
     },
     "execution_count": 61,
     "metadata": {},
     "output_type": "execute_result"
    },
    {
     "data": {
      "text/plain": [
       "dict_keys(['BUN', 'Creatinine', 'Glucose', 'HCO3', 'Na', 'K', 'Mg', 'HCT', 'Platelets', 'WBC', 'FiO2', 'PaCO2', 'PaO2', 'pH', 'SaO2', 'ALP', 'ALT', 'AST', 'Albumin', 'Bilirubin', 'Lactate', 'Cholesterol', 'TroponinI', 'TroponinT'])"
      ]
     },
     "execution_count": 61,
     "metadata": {},
     "output_type": "execute_result"
    }
   ],
   "source": [
    "if 'y_state_pred' in out:\n",
    "\n",
    "    y_state_pred = out['y_state_pred']\n",
    "    y_state_true = out['y_state_true']\n",
    "    y_state_score = out['y_state_score']\n",
    "else:\n",
    "    y_state_pred = None\n",
    "    y_state_true = None\n",
    "    y_state_score = None\n",
    "\n",
    "y_pred = out['y_pred']\n",
    "y_true = out['y_true']\n",
    "y_score = out['y_score']\n",
    "\n",
    "\n",
    "res=list()\n",
    "\n",
    "\n",
    "if len(out['state_mod_list'])>0 and 0:\n",
    "\n",
    "    res_labels = opt.dict_map_states.keys()\n",
    "\n",
    "    n_cols = len(opt.dict_map_states.keys())\n",
    "\n",
    "    state_mod_list = out['state_mod_list']\n",
    "    state_time_list = out['state_time_list']\n",
    "    len(state_mod_list)\n",
    "    state_mod_list[0].shape\n",
    "\n",
    "    for state_mod,state_time in zip(state_mod_list,state_time_list):\n",
    "        xs = torch.unbind(state_time,0)\n",
    "        ys = torch.unbind(state_mod,0)\n",
    "\n",
    "        for x,y in zip(xs,ys):\n",
    "            # y = y[y~=0]\n",
    "            n_rows = x.int().max().item() + 1\n",
    "            matrix = torch.zeros(n_rows, n_cols)\n",
    "            matrix[x[y!=0].long(), y[y!=0]-1] = 1\n",
    "            res.append(matrix.cpu().numpy().transpose()) # [n_marks * times]\n",
    "\n",
    "\n",
    "else:\n",
    "    non_pad_mask_list = out['non_pad_mask_list']\n",
    "    event_type_list = out['event_type_list']\n",
    "    event_time_list = out['event_time_list']\n",
    "\n",
    "    event_type_list[0].shape\n",
    "    non_pad_mask_list[0].shape\n",
    "\n",
    "    num_marks = event_type_list[0].shape[-1]\n",
    "    res_labels = opt.dict_map_events.keys()\n",
    "\n",
    "\n",
    "\n",
    "    for event_type, event_time, non_pad_mask in zip(event_type_list,event_time_list,non_pad_mask_list):\n",
    "\n",
    "        B = event_type.shape[0]\n",
    "        for i in range(B):\n",
    "            m = non_pad_mask[i]\n",
    "            e=event_type[i,:m.sum().int(),:]\n",
    "            t=event_time[i,:m.sum().int()]\n",
    "            \n",
    "            indices = e.nonzero()\n",
    "            indices[:,0] = t[indices[:,0]]\n",
    "\n",
    "            M = torch.zeros((indices[:,0].max()+1, e.shape[-1]))\n",
    "            M[indices[:,0],indices[:,1]]=1\n",
    "\n",
    "\n",
    "            res.append( M.cpu().numpy().astype(np.uint8).transpose() )\n",
    "\n",
    "\n",
    "        # temp = torch.unbind(event_type,0)\n",
    "        # lens = non_pad_mask.sum(1).long()\n",
    "        # term\n",
    "        # for i,x in enumerate(temp):\n",
    "        #     res.append( x[:lens[i],:].cpu().numpy().astype(np.uint8).transpose() )\n",
    "\n",
    "\n",
    "\n",
    "\n",
    "res[1].shape\n",
    "\n",
    "len(res_labels)\n",
    "res_labels\n",
    "\n",
    "\n",
    "\n",
    "\n",
    "# for i,pattern in enumerate(res):\n",
    "#     image = Image.fromarray(pattern)\n",
    "\n",
    "\n",
    "#     # row_labels = opt.dict_map_states.keys()\n",
    "#     # image = binary_matrix_to_image(pattern, row_labels=row_labels, grid_size=50, border_size=2, label_size=20)\n",
    "#     # image.save(f'./local/images/img{i}.jpeg')\n",
    "all_images = [f'./local/images/img{i}.jpeg' for i in range(len(res))]"
   ]
  },
  {
   "cell_type": "markdown",
   "metadata": {},
   "source": [
    "# Visualizations"
   ]
  },
  {
   "cell_type": "markdown",
   "metadata": {},
   "source": [
    "## TSNE of Learned Rep"
   ]
  },
  {
   "cell_type": "code",
   "execution_count": 62,
   "metadata": {},
   "outputs": [],
   "source": [
    "TSNE_LIMIT = 6000\n",
    "\n",
    "tsne = TSNE(n_components=2, perplexity=30, learning_rate=10,n_jobs=4)\n",
    "\n",
    "X = np.concatenate(r_enc_list,axis=0)[:,:]\n",
    "X_tsne = tsne.fit_transform(X[:TSNE_LIMIT,:])\n",
    "\n",
    "if model.d_out_te>0:\n",
    "    X_te = np.concatenate(r_enc_list,axis=0)[:,:model.d_out_te]\n",
    "    X_te_tsne = tsne.fit_transform(X_te[:TSNE_LIMIT,:])\n",
    "\n",
    "if model.d_out_dam>0:    \n",
    "    X_dam = np.concatenate(r_enc_list,axis=0)[:,model.d_out_te:]\n",
    "    X_dam_tsne = tsne.fit_transform(X_dam[:TSNE_LIMIT,:])\n"
   ]
  },
  {
   "attachments": {},
   "cell_type": "markdown",
   "metadata": {},
   "source": [
    "## build df"
   ]
  },
  {
   "cell_type": "code",
   "execution_count": 63,
   "metadata": {},
   "outputs": [
    {
     "data": {
      "text/html": [
       "<div>\n",
       "<style scoped>\n",
       "    .dataframe tbody tr th:only-of-type {\n",
       "        vertical-align: middle;\n",
       "    }\n",
       "\n",
       "    .dataframe tbody tr th {\n",
       "        vertical-align: top;\n",
       "    }\n",
       "\n",
       "    .dataframe thead th {\n",
       "        text-align: right;\n",
       "    }\n",
       "</style>\n",
       "<table border=\"1\" class=\"dataframe\">\n",
       "  <thead>\n",
       "    <tr style=\"text-align: right;\">\n",
       "      <th></th>\n",
       "      <th>x</th>\n",
       "      <th>y</th>\n",
       "      <th>color</th>\n",
       "      <th>id</th>\n",
       "      <th>color_true</th>\n",
       "      <th>color_pred</th>\n",
       "    </tr>\n",
       "  </thead>\n",
       "  <tbody>\n",
       "    <tr>\n",
       "      <th>0</th>\n",
       "      <td>-20.260752</td>\n",
       "      <td>-25.630825</td>\n",
       "      <td>True Negatives</td>\n",
       "      <td>0</td>\n",
       "      <td>Negative Samples</td>\n",
       "      <td>Negative Predicted</td>\n",
       "    </tr>\n",
       "    <tr>\n",
       "      <th>1</th>\n",
       "      <td>-18.671772</td>\n",
       "      <td>-4.015034</td>\n",
       "      <td>True Negatives</td>\n",
       "      <td>1</td>\n",
       "      <td>Negative Samples</td>\n",
       "      <td>Negative Predicted</td>\n",
       "    </tr>\n",
       "    <tr>\n",
       "      <th>2</th>\n",
       "      <td>32.330433</td>\n",
       "      <td>-3.583918</td>\n",
       "      <td>True Negatives</td>\n",
       "      <td>2</td>\n",
       "      <td>Negative Samples</td>\n",
       "      <td>Negative Predicted</td>\n",
       "    </tr>\n",
       "    <tr>\n",
       "      <th>3</th>\n",
       "      <td>-27.577314</td>\n",
       "      <td>1.355734</td>\n",
       "      <td>True Negatives</td>\n",
       "      <td>3</td>\n",
       "      <td>Negative Samples</td>\n",
       "      <td>Negative Predicted</td>\n",
       "    </tr>\n",
       "    <tr>\n",
       "      <th>4</th>\n",
       "      <td>-37.135117</td>\n",
       "      <td>7.876999</td>\n",
       "      <td>True Negatives</td>\n",
       "      <td>4</td>\n",
       "      <td>Negative Samples</td>\n",
       "      <td>Negative Predicted</td>\n",
       "    </tr>\n",
       "    <tr>\n",
       "      <th>...</th>\n",
       "      <td>...</td>\n",
       "      <td>...</td>\n",
       "      <td>...</td>\n",
       "      <td>...</td>\n",
       "      <td>...</td>\n",
       "      <td>...</td>\n",
       "    </tr>\n",
       "    <tr>\n",
       "      <th>1883</th>\n",
       "      <td>-26.649498</td>\n",
       "      <td>13.021449</td>\n",
       "      <td>False Positives</td>\n",
       "      <td>1883</td>\n",
       "      <td>Negative Samples</td>\n",
       "      <td>Positive Predicted</td>\n",
       "    </tr>\n",
       "    <tr>\n",
       "      <th>1884</th>\n",
       "      <td>15.190439</td>\n",
       "      <td>-24.976955</td>\n",
       "      <td>True Negatives</td>\n",
       "      <td>1884</td>\n",
       "      <td>Negative Samples</td>\n",
       "      <td>Negative Predicted</td>\n",
       "    </tr>\n",
       "    <tr>\n",
       "      <th>1885</th>\n",
       "      <td>-25.113386</td>\n",
       "      <td>6.462173</td>\n",
       "      <td>True Negatives</td>\n",
       "      <td>1885</td>\n",
       "      <td>Negative Samples</td>\n",
       "      <td>Negative Predicted</td>\n",
       "    </tr>\n",
       "    <tr>\n",
       "      <th>1886</th>\n",
       "      <td>15.706372</td>\n",
       "      <td>11.239589</td>\n",
       "      <td>True Negatives</td>\n",
       "      <td>1886</td>\n",
       "      <td>Negative Samples</td>\n",
       "      <td>Negative Predicted</td>\n",
       "    </tr>\n",
       "    <tr>\n",
       "      <th>1887</th>\n",
       "      <td>2.136879</td>\n",
       "      <td>34.996689</td>\n",
       "      <td>False Positives</td>\n",
       "      <td>1887</td>\n",
       "      <td>Negative Samples</td>\n",
       "      <td>Positive Predicted</td>\n",
       "    </tr>\n",
       "  </tbody>\n",
       "</table>\n",
       "<p>1888 rows × 6 columns</p>\n",
       "</div>"
      ],
      "text/plain": [
       "              x          y            color    id        color_true  \\\n",
       "0    -20.260752 -25.630825   True Negatives     0  Negative Samples   \n",
       "1    -18.671772  -4.015034   True Negatives     1  Negative Samples   \n",
       "2     32.330433  -3.583918   True Negatives     2  Negative Samples   \n",
       "3    -27.577314   1.355734   True Negatives     3  Negative Samples   \n",
       "4    -37.135117   7.876999   True Negatives     4  Negative Samples   \n",
       "...         ...        ...              ...   ...               ...   \n",
       "1883 -26.649498  13.021449  False Positives  1883  Negative Samples   \n",
       "1884  15.190439 -24.976955   True Negatives  1884  Negative Samples   \n",
       "1885 -25.113386   6.462173   True Negatives  1885  Negative Samples   \n",
       "1886  15.706372  11.239589   True Negatives  1886  Negative Samples   \n",
       "1887   2.136879  34.996689  False Positives  1887  Negative Samples   \n",
       "\n",
       "              color_pred  \n",
       "0     Negative Predicted  \n",
       "1     Negative Predicted  \n",
       "2     Negative Predicted  \n",
       "3     Negative Predicted  \n",
       "4     Negative Predicted  \n",
       "...                  ...  \n",
       "1883  Positive Predicted  \n",
       "1884  Negative Predicted  \n",
       "1885  Negative Predicted  \n",
       "1886  Negative Predicted  \n",
       "1887  Positive Predicted  \n",
       "\n",
       "[1888 rows x 6 columns]"
      ]
     },
     "execution_count": 63,
     "metadata": {},
     "output_type": "execute_result"
    }
   ],
   "source": [
    "df = pd.DataFrame()\n",
    "df['x']=X_tsne[:,0]\n",
    "df['y']=X_tsne[:,1]\n",
    "\n",
    "# df['x']=X_te_tsne[:,0]\n",
    "# df['y']=X_te_tsne[:,1]\n",
    "\n",
    "# df['x']=X_dam_tsne[:,0]\n",
    "# df['y']=X_dam_tsne[:,1]\n",
    "\n",
    "df['color']=0\n",
    "df['id']=np.arange(len(df))\n",
    "\n",
    "\n",
    "if y_state_true is not None:\n",
    "\n",
    "    TP = (y_state_true[:TSNE_LIMIT]*y_state_pred[:TSNE_LIMIT])==1\n",
    "    FP_FN = (y_state_true[:TSNE_LIMIT]+y_state_pred[:TSNE_LIMIT])==1\n",
    "    FN = (y_state_true[:TSNE_LIMIT]-y_state_pred[:TSNE_LIMIT])==1\n",
    "    FP = (y_state_true[:TSNE_LIMIT]-y_state_pred[:TSNE_LIMIT])==-1\n",
    "\n",
    "    TN = (y_state_true[:TSNE_LIMIT]+y_state_pred[:TSNE_LIMIT])==0\n",
    "\n",
    "\n",
    "\n",
    "    # df.loc[TN, 'color']='True Negatives'\n",
    "    df.loc[TP, 'color']='True Positives'\n",
    "    df.loc[FN, 'color']='False Negatives'\n",
    "    df.loc[FP, 'color']='False Positives'\n",
    "    df.loc[TN, 'color']='True Negatives'\n",
    "\n",
    "    df.loc[y_state_true[:TSNE_LIMIT].astype(bool).flatten(), 'color_true']='Positive Samples'\n",
    "    df.loc[~y_state_true[:TSNE_LIMIT].astype(bool).flatten(), 'color_true']='Negative Samples'\n",
    "\n",
    "\n",
    "    df.loc[y_state_pred[:TSNE_LIMIT].astype(bool).flatten(), 'color_pred']='Positive Predicted'\n",
    "    df.loc[~y_state_pred[:TSNE_LIMIT].astype(bool).flatten(), 'color_pred']='Negative Predicted'\n",
    "\n",
    "df"
   ]
  },
  {
   "attachments": {},
   "cell_type": "markdown",
   "metadata": {},
   "source": [
    "## plot Figure"
   ]
  },
  {
   "cell_type": "code",
   "execution_count": 64,
   "metadata": {},
   "outputs": [
    {
     "data": {
      "text/plain": [
       "<File local/[Q20-DA__base-concat]1586915.html (text/html; charset=utf-8) 3.6MiB>"
      ]
     },
     "execution_count": 64,
     "metadata": {},
     "output_type": "execute_result"
    }
   ],
   "source": [
    "color_map = {\n",
    "    'Positive Samples': \"#E52B50\",\n",
    "    'Negative Samples': \"#3B7A57\",\n",
    "    0: \"#3B7A57\",\n",
    "    'Positive Predicted': \"#3DDC84\",\n",
    "    'Negative Predicted': \"#FFBF00\",\n",
    "    5: \"#915C83\",\n",
    "    'True Positives': \"#008000\",\n",
    "    'False Negatives': \"#7FFFD4\",\n",
    "    'False Positives': \"#E9D66B\",\n",
    "    'True Negatives': \"#007FFF\",\n",
    "}\n",
    "\n",
    "\n",
    "labels = df['color_true'].values\n",
    "colors = [color_map[label] for i,label in enumerate(labels)]\n",
    "\n",
    "fig = go.Figure(data=[go.Scatter(\n",
    "    x=df['x'],\n",
    "    y=df['y'],\n",
    "    # z=tsne[:, 2],\n",
    "    mode='markers',\n",
    "    marker=dict(\n",
    "        # size=2,\n",
    "        color=colors,\n",
    "    )\n",
    ")])\n",
    "\n",
    "_=fig.update_layout(\n",
    "    # autosize=False,\n",
    "    title=run.name,\n",
    "    width=1000,\n",
    "    height=1000,\n",
    "\n",
    ")\n",
    "_=fig.update_traces(\n",
    "    hoverinfo=\"none\",\n",
    "    hovertemplate=None,\n",
    ")\n",
    "# _=fig.update_layout(\n",
    "#     scene=dict(\n",
    "#         xaxis=dict(range=[-10,10]),\n",
    "#         yaxis=dict(range=[-10,10]),\n",
    "#         # zaxis=dict(range=[-10,10]),   \n",
    "#     )\n",
    "# )\n",
    "\n",
    "\n",
    "\n",
    "\n",
    "\n",
    "# save to run\n",
    "fig.write_html(f\"local/{run.name}.html\")\n",
    "run.upload_file(f\"local/{run.name}.html\")\n",
    "\n",
    "\n",
    "# tsne of TE_nextmark[label]\n",
    "    # https://storage.googleapis.com/wandb-production.appspot.com/hokarami/TEEDAM_supervised/hue1qxw4/local/temp.html?Expires=1676986614&GoogleAccessId=wandb-production%40appspot.gserviceaccount.com&Signature=xLOuNCu8qoWVwFRPCspoPKTFbpF5aOSJMAFICqsDRYxf2wfudxEiFFEIlXBIq9YyYZcPtpSKSzYb6nUr0lloLZ6GHg1w4AOBZyieBKBsuKmIDGqhRY4ojK0FPHZHD%2BeoKERgjD42F19vP8E5Qf%2BA7PlgB2E%2BWutwJxx1sc2TtCgjUdkEK%2BEwaTzfQBQ0hXGIWC9MeirU7hRSmn4%2BXzIRaRcUFjF0vOtxCHBjsEhldGSwaUFv21kt4qvr2hSeR5Ku5gS7webtvzVi6fw55Muq78%2FB90r3EqWqy9Sn68T%2FDKx%2F%2FzHVfge4TsxlIjRE%2F9HBCo7qZeNeeHnlHjVZXdvTKg%3D%3D\n",
    "\n",
    "# tsne of DA[label]\n",
    "    # https://storage.googleapis.com/wandb-production.appspot.com/hokarami/TEEDAM_supervised/t43m0t0u/local/temp.html?Expires=1676987035&GoogleAccessId=wandb-production%40appspot.gserviceaccount.com&Signature=jX44t4Nblmtzd0CCZC2Gn0cw43iZZbZtuofN%2BrlmzgennSxNz36YE4BwYU%2Ft21iuFdSwmqPLnnI%2B2saLWT9kZsBHNo0e2Nsti0vhf7216iT1wsnnFukn%2B8CswPFeQUQBmSyvEO0IJRTE%2BLmjORdY5NFMdgeXchVwLlf8LBIJFoxAfyiaYLmCNcjWwSmbkvVf1DwOxL2sjneA8TtkgQiSCZiC3GgMJBfh8wg1bf6wS%2Bxa95APq%2BPo6J7%2Ffq0sqmqCiAp28E309PlM29C0C89y63dvzqkRhBhvdffx3O%2FFUAmK%2FjRF82ohd7JSgxMva9oWz%2By7aHESGKr0b49KrUxM2Q%3D%3D\n",
    "\n"
   ]
  },
  {
   "attachments": {},
   "cell_type": "markdown",
   "metadata": {},
   "source": [
    "## Dash"
   ]
  },
  {
   "cell_type": "code",
   "execution_count": 65,
   "metadata": {},
   "outputs": [
    {
     "name": "stdout",
     "output_type": "stream",
     "text": [
      "Dash app running on http://127.0.0.1:4887/\n"
     ]
    }
   ],
   "source": [
    "app = JupyterDash(__name__)\n",
    "\n",
    "app.layout = html.Div(\n",
    "    className=\"container\",\n",
    "    children=[\n",
    "        html.Div(id=\"dummy2\"),\n",
    "        html.Div(id=\"dummy\"),\n",
    "\n",
    "        dcc.Graph(id=\"graph-5\", figure=fig, clear_on_unhover=True,),\n",
    "        dcc.Tooltip(id=\"graph-tooltip-5\", direction='bottom'),\n",
    "       \n",
    "    ],\n",
    "\n",
    ")\n",
    "\n",
    "@app.callback(\n",
    "    Output(\"graph-tooltip-5\", \"show\"),\n",
    "    Output(\"graph-tooltip-5\", \"bbox\"),\n",
    "    Output(\"graph-tooltip-5\", \"children\"),\n",
    "    Output(\"dummy2\", \"children\"),\n",
    "    Input(\"graph-5\", \"hoverData\"),\n",
    ")\n",
    "def display_hover(hoverData):\n",
    "    if hoverData is None:\n",
    "        return False, no_update, no_update\n",
    "\n",
    "    num = 111111\n",
    "    # demo only shows the first point, but other points may also be available\n",
    "    hover_data = hoverData[\"points\"][0]\n",
    "    bbox = hover_data[\"bbox\"]\n",
    "    num = hover_data[\"pointNumber\"]\n",
    "\n",
    "    output_str = f\"{num}\"\n",
    "\n",
    "    im_matrix = res[num].astype(int)\n",
    "    # im_url = np_image_to_base64(im_matrix)\n",
    "    # im_url = binary_matrix_to_image(im_matrix)\n",
    "    im_url = binary_matrix_to_image(im_matrix, row_labels=res_labels, grid_size=50, border_size=2, label_size=20)\n",
    "    \n",
    "    vector = im_matrix.sum(1)/im_matrix.shape[1]*24\n",
    "    # im_url = plot_bar_chart(vector, labels=res_labels)\n",
    "    im_url = create_barplot_image(vector, res_labels, './local/images/temp.png')\n",
    "    \n",
    "    # binary_matrix = np.array([[1, 0, 1], [0, 1, 0], [1, 0, 1]])\n",
    "    # row_labels = ['A', 'B', 'C']\n",
    "    # im_url = binary_matrix_to_image(binary_matrix, row_labels=row_labels, grid_size=50, border_size=2, label_size=20)\n",
    "    \n",
    "\n",
    "\n",
    "    children = [\n",
    "        html.Div([\n",
    "            html.Img(\n",
    "                src=im_url,\n",
    "                style={\"height\": \"400px\", 'display': 'block', 'margin': '0 auto'},\n",
    "            ),\n",
    "            # html.P(\"MNIST Digit \" + str(labels[num]), style={'font-weight': 'bold'})\n",
    "            html.P(f\"Patterns-id={num}\" , style={'font-weight': 'bold'})\n",
    "\n",
    "        ])\n",
    "        \n",
    "    ]\n",
    "\n",
    "    return True, bbox, children, output_str\n",
    "\n",
    "\n",
    "\n",
    "\n",
    "# Define a callback function to print the selected point IDs\n",
    "@app.callback(Output(\"dummy\", \"children\"), [Input(\"graph-5\", \"selectedData\")])\n",
    "def display_selected_data(selected_data):\n",
    "    if selected_data is None:\n",
    "        return \"No points selected.\"\n",
    "    else:\n",
    "        point_ids = [point[\"pointIndex\"] for point in selected_data[\"points\"]]\n",
    "\n",
    "        # print(f\"{point_ids},\\n\")\n",
    "        return f\"{point_ids},\\n\"\n",
    "\n",
    "if __name__ == \"__main__\":\n",
    "    # app.run_server(mode='inline', debug=True)\n",
    "    app.run_server(mode='external',port=np.random.randint(2000,5000))"
   ]
  },
  {
   "attachments": {},
   "cell_type": "markdown",
   "metadata": {},
   "source": [
    "# plot subset"
   ]
  },
  {
   "attachments": {},
   "cell_type": "markdown",
   "metadata": {},
   "source": [
    "## patterns"
   ]
  },
  {
   "cell_type": "code",
   "execution_count": 68,
   "metadata": {},
   "outputs": [
    {
     "name": "stderr",
     "output_type": "stream",
     "text": [
      "/tmp/ipykernel_14927/1958328075.py:42: DeprecationWarning:\n",
      "\n",
      "getsize is deprecated and will be removed in Pillow 10 (2023-07-01). Use getbbox or getlength instead.\n",
      "\n"
     ]
    },
    {
     "data": {
      "image/png": "[encoded data removed]",
      "text/plain": [
       "<PIL.Image.Image image mode=RGB size=2498x1250>"
      ]
     },
     "execution_count": 68,
     "metadata": {},
     "output_type": "execute_result"
    },
    {
     "ename": "",
     "evalue": "",
     "output_type": "error",
     "traceback": [
      "\u001b[1;31mThe Kernel crashed while executing code in the the current cell or a previous cell. Please review the code in the cell(s) to identify a possible cause of the failure. Click <a href='https://aka.ms/vscodeJupyterKernelCrash'>here</a> for more info. View Jupyter <a href='command:jupyter.viewOutput'>log</a> for further details."
     ]
    }
   ],
   "source": [
    "\n",
    "\n",
    "iii=[1836]\n",
    "\n",
    "for ii in iii:\n",
    "    im_matrix = res[ii]\n",
    "    row_labels = opt.dict_map_states.keys()\n",
    "    im_url = binary_matrix_to_image(im_matrix, row_labels=res_labels, grid_size=50, border_size=2, label_size=20)\n",
    "    im_url.save(f'./local/images/img{ii}.jpeg')\n",
    "    im_url\n",
    "\n"
   ]
  },
  {
   "attachments": {},
   "cell_type": "markdown",
   "metadata": {},
   "source": [
    "## summary"
   ]
  },
  {
   "cell_type": "code",
   "execution_count": 67,
   "metadata": {},
   "outputs": [
    {
     "data": {
      "application/vnd.plotly.v1+json": {
       "config": {
        "plotlyServerURL": "https://plot.ly"
       },
       "data": [
        {
         "error_y": {
          "array": [
           1.3929227933789854,
           1.3929227933789854,
           1.3184193164839395,
           1.3929227933789854,
           1.3929227933789854,
           1.3929227933789854,
           1.5884187248051644,
           1.3050202872957926,
           1.436584234055734,
           1.436584234055734,
           1.7041123181343603,
           1.3926271043659257,
           1.3926271043659257,
           1.3926271043659257,
           1.0723404255319147,
           1.4277012407125949,
           1.4277012407125949,
           1.460480361351754,
           0.9130550420223728,
           1.4277012407125949,
           0.7324942655678881,
           0,
           0.16,
           0
          ],
          "type": "data"
         },
         "name": "Cluster 0",
         "type": "bar",
         "x": [
          "BUN",
          "Creatinine",
          "Glucose",
          "HCO3",
          "Na",
          "K",
          "Mg",
          "HCT",
          "Platelets",
          "WBC",
          "FiO2",
          "PaCO2",
          "PaO2",
          "pH",
          "SaO2",
          "ALP",
          "ALT",
          "AST",
          "Albumin",
          "Bilirubin",
          "Lactate",
          "Cholesterol",
          "TroponinI",
          "TroponinT"
         ],
         "y": [
          2.867493641110663,
          2.867493641110663,
          2.858557470897897,
          2.867493641110663,
          2.867493641110663,
          2.867493641110663,
          2.5964298113234285,
          2.94581333560057,
          2.6814161724800014,
          2.6814161724800014,
          0.9929078014184398,
          1.0923201621073964,
          1.0923201621073964,
          1.0923201621073964,
          0.35744680851063826,
          2.7397631446567616,
          2.7397631446567616,
          2.6886993148695275,
          1.692750157643775,
          2.7397631446567616,
          0.4526038500506586,
          0,
          0.05333333333333333,
          0
         ]
        },
        {
         "error_y": {
          "array": [
           1.0657767096276567,
           1.1342585365636773,
           1.063057639554506,
           1.1285371107298283,
           1.211578151402704,
           1.3038304882841307,
           1.4090951582776337,
           1.561333677956564,
           1.938609608219462,
           1.1555261045920868,
           3.107339708297268,
           2.1727423920296656,
           2.1759257369605822,
           2.1759257369605822,
           0.4972134787488196,
           1.08431729812239,
           1.0559182993613057,
           1.0559182993613057,
           0.8826194665661896,
           1.0301781858277697,
           2.0110113666971334,
           0,
           0.16,
           1.2137364844867393
          ],
          "type": "data"
         },
         "name": "Cluster 1",
         "type": "bar",
         "x": [
          "BUN",
          "Creatinine",
          "Glucose",
          "HCO3",
          "Na",
          "K",
          "Mg",
          "HCT",
          "Platelets",
          "WBC",
          "FiO2",
          "PaCO2",
          "PaO2",
          "pH",
          "SaO2",
          "ALP",
          "ALT",
          "AST",
          "Albumin",
          "Bilirubin",
          "Lactate",
          "Cholesterol",
          "TroponinI",
          "TroponinT"
         ],
         "y": [
          2.8396572940644966,
          2.8907211238517307,
          2.8907211238517307,
          2.8884516203056316,
          2.992848783426199,
          2.989515450092866,
          2.673797087107114,
          3.344719072922717,
          3.2945772289510855,
          2.7791888073776074,
          5.998566142460685,
          4.2760305918292705,
          4.328204504872749,
          4.328204504872749,
          0.6187680083758219,
          1.2808000774476689,
          1.3840378202783812,
          1.3840378202783812,
          1.182785893050506,
          1.5434918142116472,
          2.9840992764379806,
          0,
          0.05333333333333333,
          0.8685538082022818
         ]
        }
       ],
       "layout": {
        "template": {
         "data": {
          "bar": [
           {
            "error_x": {
             "color": "#2a3f5f"
            },
            "error_y": {
             "color": "#2a3f5f"
            },
            "marker": {
             "line": {
              "color": "#E5ECF6",
              "width": 0.5
             },
             "pattern": {
              "fillmode": "overlay",
              "size": 10,
              "solidity": 0.2
             }
            },
            "type": "bar"
           }
          ],
          "barpolar": [
           {
            "marker": {
             "line": {
              "color": "#E5ECF6",
              "width": 0.5
             },
             "pattern": {
              "fillmode": "overlay",
              "size": 10,
              "solidity": 0.2
             }
            },
            "type": "barpolar"
           }
          ],
          "carpet": [
           {
            "aaxis": {
             "endlinecolor": "#2a3f5f",
             "gridcolor": "white",
             "linecolor": "white",
             "minorgridcolor": "white",
             "startlinecolor": "#2a3f5f"
            },
            "baxis": {
             "endlinecolor": "#2a3f5f",
             "gridcolor": "white",
             "linecolor": "white",
             "minorgridcolor": "white",
             "startlinecolor": "#2a3f5f"
            },
            "type": "carpet"
           }
          ],
          "choropleth": [
           {
            "colorbar": {
             "outlinewidth": 0,
             "ticks": ""
            },
            "type": "choropleth"
           }
          ],
          "contour": [
           {
            "colorbar": {
             "outlinewidth": 0,
             "ticks": ""
            },
            "colorscale": [
             [
              0,
              "#0d0887"
             ],
             [
              0.1111111111111111,
              "#46039f"
             ],
             [
              0.2222222222222222,
              "#7201a8"
             ],
             [
              0.3333333333333333,
              "#9c179e"
             ],
             [
              0.4444444444444444,
              "#bd3786"
             ],
             [
              0.5555555555555556,
              "#d8576b"
             ],
             [
              0.6666666666666666,
              "#ed7953"
             ],
             [
              0.7777777777777778,
              "#fb9f3a"
             ],
             [
              0.8888888888888888,
              "#fdca26"
             ],
             [
              1,
              "#f0f921"
             ]
            ],
            "type": "contour"
           }
          ],
          "contourcarpet": [
           {
            "colorbar": {
             "outlinewidth": 0,
             "ticks": ""
            },
            "type": "contourcarpet"
           }
          ],
          "heatmap": [
           {
            "colorbar": {
             "outlinewidth": 0,
             "ticks": ""
            },
            "colorscale": [
             [
              0,
              "#0d0887"
             ],
             [
              0.1111111111111111,
              "#46039f"
             ],
             [
              0.2222222222222222,
              "#7201a8"
             ],
             [
              0.3333333333333333,
              "#9c179e"
             ],
             [
              0.4444444444444444,
              "#bd3786"
             ],
             [
              0.5555555555555556,
              "#d8576b"
             ],
             [
              0.6666666666666666,
              "#ed7953"
             ],
             [
              0.7777777777777778,
              "#fb9f3a"
             ],
             [
              0.8888888888888888,
              "#fdca26"
             ],
             [
              1,
              "#f0f921"
             ]
            ],
            "type": "heatmap"
           }
          ],
          "heatmapgl": [
           {
            "colorbar": {
             "outlinewidth": 0,
             "ticks": ""
            },
            "colorscale": [
             [
              0,
              "#0d0887"
             ],
             [
              0.1111111111111111,
              "#46039f"
             ],
             [
              0.2222222222222222,
              "#7201a8"
             ],
             [
              0.3333333333333333,
              "#9c179e"
             ],
             [
              0.4444444444444444,
              "#bd3786"
             ],
             [
              0.5555555555555556,
              "#d8576b"
             ],
             [
              0.6666666666666666,
              "#ed7953"
             ],
             [
              0.7777777777777778,
              "#fb9f3a"
             ],
             [
              0.8888888888888888,
              "#fdca26"
             ],
             [
              1,
              "#f0f921"
             ]
            ],
            "type": "heatmapgl"
           }
          ],
          "histogram": [
           {
            "marker": {
             "pattern": {
              "fillmode": "overlay",
              "size": 10,
              "solidity": 0.2
             }
            },
            "type": "histogram"
           }
          ],
          "histogram2d": [
           {
            "colorbar": {
             "outlinewidth": 0,
             "ticks": ""
            },
            "colorscale": [
             [
              0,
              "#0d0887"
             ],
             [
              0.1111111111111111,
              "#46039f"
             ],
             [
              0.2222222222222222,
              "#7201a8"
             ],
             [
              0.3333333333333333,
              "#9c179e"
             ],
             [
              0.4444444444444444,
              "#bd3786"
             ],
             [
              0.5555555555555556,
              "#d8576b"
             ],
             [
              0.6666666666666666,
              "#ed7953"
             ],
             [
              0.7777777777777778,
              "#fb9f3a"
             ],
             [
              0.8888888888888888,
              "#fdca26"
             ],
             [
              1,
              "#f0f921"
             ]
            ],
            "type": "histogram2d"
           }
          ],
          "histogram2dcontour": [
           {
            "colorbar": {
             "outlinewidth": 0,
             "ticks": ""
            },
            "colorscale": [
             [
              0,
              "#0d0887"
             ],
             [
              0.1111111111111111,
              "#46039f"
             ],
             [
              0.2222222222222222,
              "#7201a8"
             ],
             [
              0.3333333333333333,
              "#9c179e"
             ],
             [
              0.4444444444444444,
              "#bd3786"
             ],
             [
              0.5555555555555556,
              "#d8576b"
             ],
             [
              0.6666666666666666,
              "#ed7953"
             ],
             [
              0.7777777777777778,
              "#fb9f3a"
             ],
             [
              0.8888888888888888,
              "#fdca26"
             ],
             [
              1,
              "#f0f921"
             ]
            ],
            "type": "histogram2dcontour"
           }
          ],
          "mesh3d": [
           {
            "colorbar": {
             "outlinewidth": 0,
             "ticks": ""
            },
            "type": "mesh3d"
           }
          ],
          "parcoords": [
           {
            "line": {
             "colorbar": {
              "outlinewidth": 0,
              "ticks": ""
             }
            },
            "type": "parcoords"
           }
          ],
          "pie": [
           {
            "automargin": true,
            "type": "pie"
           }
          ],
          "scatter": [
           {
            "fillpattern": {
             "fillmode": "overlay",
             "size": 10,
             "solidity": 0.2
            },
            "type": "scatter"
           }
          ],
          "scatter3d": [
           {
            "line": {
             "colorbar": {
              "outlinewidth": 0,
              "ticks": ""
             }
            },
            "marker": {
             "colorbar": {
              "outlinewidth": 0,
              "ticks": ""
             }
            },
            "type": "scatter3d"
           }
          ],
          "scattercarpet": [
           {
            "marker": {
             "colorbar": {
              "outlinewidth": 0,
              "ticks": ""
             }
            },
            "type": "scattercarpet"
           }
          ],
          "scattergeo": [
           {
            "marker": {
             "colorbar": {
              "outlinewidth": 0,
              "ticks": ""
             }
            },
            "type": "scattergeo"
           }
          ],
          "scattergl": [
           {
            "marker": {
             "colorbar": {
              "outlinewidth": 0,
              "ticks": ""
             }
            },
            "type": "scattergl"
           }
          ],
          "scattermapbox": [
           {
            "marker": {
             "colorbar": {
              "outlinewidth": 0,
              "ticks": ""
             }
            },
            "type": "scattermapbox"
           }
          ],
          "scatterpolar": [
           {
            "marker": {
             "colorbar": {
              "outlinewidth": 0,
              "ticks": ""
             }
            },
            "type": "scatterpolar"
           }
          ],
          "scatterpolargl": [
           {
            "marker": {
             "colorbar": {
              "outlinewidth": 0,
              "ticks": ""
             }
            },
            "type": "scatterpolargl"
           }
          ],
          "scatterternary": [
           {
            "marker": {
             "colorbar": {
              "outlinewidth": 0,
              "ticks": ""
             }
            },
            "type": "scatterternary"
           }
          ],
          "surface": [
           {
            "colorbar": {
             "outlinewidth": 0,
             "ticks": ""
            },
            "colorscale": [
             [
              0,
              "#0d0887"
             ],
             [
              0.1111111111111111,
              "#46039f"
             ],
             [
              0.2222222222222222,
              "#7201a8"
             ],
             [
              0.3333333333333333,
              "#9c179e"
             ],
             [
              0.4444444444444444,
              "#bd3786"
             ],
             [
              0.5555555555555556,
              "#d8576b"
             ],
             [
              0.6666666666666666,
              "#ed7953"
             ],
             [
              0.7777777777777778,
              "#fb9f3a"
             ],
             [
              0.8888888888888888,
              "#fdca26"
             ],
             [
              1,
              "#f0f921"
             ]
            ],
            "type": "surface"
           }
          ],
          "table": [
           {
            "cells": {
             "fill": {
              "color": "#EBF0F8"
             },
             "line": {
              "color": "white"
             }
            },
            "header": {
             "fill": {
              "color": "#C8D4E3"
             },
             "line": {
              "color": "white"
             }
            },
            "type": "table"
           }
          ]
         },
         "layout": {
          "annotationdefaults": {
           "arrowcolor": "#2a3f5f",
           "arrowhead": 0,
           "arrowwidth": 1
          },
          "autotypenumbers": "strict",
          "coloraxis": {
           "colorbar": {
            "outlinewidth": 0,
            "ticks": ""
           }
          },
          "colorscale": {
           "diverging": [
            [
             0,
             "#8e0152"
            ],
            [
             0.1,
             "#c51b7d"
            ],
            [
             0.2,
             "#de77ae"
            ],
            [
             0.3,
             "#f1b6da"
            ],
            [
             0.4,
             "#fde0ef"
            ],
            [
             0.5,
             "#f7f7f7"
            ],
            [
             0.6,
             "#e6f5d0"
            ],
            [
             0.7,
             "#b8e186"
            ],
            [
             0.8,
             "#7fbc41"
            ],
            [
             0.9,
             "#4d9221"
            ],
            [
             1,
             "#276419"
            ]
           ],
           "sequential": [
            [
             0,
             "#0d0887"
            ],
            [
             0.1111111111111111,
             "#46039f"
            ],
            [
             0.2222222222222222,
             "#7201a8"
            ],
            [
             0.3333333333333333,
             "#9c179e"
            ],
            [
             0.4444444444444444,
             "#bd3786"
            ],
            [
             0.5555555555555556,
             "#d8576b"
            ],
            [
             0.6666666666666666,
             "#ed7953"
            ],
            [
             0.7777777777777778,
             "#fb9f3a"
            ],
            [
             0.8888888888888888,
             "#fdca26"
            ],
            [
             1,
             "#f0f921"
            ]
           ],
           "sequentialminus": [
            [
             0,
             "#0d0887"
            ],
            [
             0.1111111111111111,
             "#46039f"
            ],
            [
             0.2222222222222222,
             "#7201a8"
            ],
            [
             0.3333333333333333,
             "#9c179e"
            ],
            [
             0.4444444444444444,
             "#bd3786"
            ],
            [
             0.5555555555555556,
             "#d8576b"
            ],
            [
             0.6666666666666666,
             "#ed7953"
            ],
            [
             0.7777777777777778,
             "#fb9f3a"
            ],
            [
             0.8888888888888888,
             "#fdca26"
            ],
            [
             1,
             "#f0f921"
            ]
           ]
          },
          "colorway": [
           "#636efa",
           "#EF553B",
           "#00cc96",
           "#ab63fa",
           "#FFA15A",
           "#19d3f3",
           "#FF6692",
           "#B6E880",
           "#FF97FF",
           "#FECB52"
          ],
          "font": {
           "color": "#2a3f5f"
          },
          "geo": {
           "bgcolor": "white",
           "lakecolor": "white",
           "landcolor": "#E5ECF6",
           "showlakes": true,
           "showland": true,
           "subunitcolor": "white"
          },
          "hoverlabel": {
           "align": "left"
          },
          "hovermode": "closest",
          "mapbox": {
           "style": "light"
          },
          "paper_bgcolor": "white",
          "plot_bgcolor": "#E5ECF6",
          "polar": {
           "angularaxis": {
            "gridcolor": "white",
            "linecolor": "white",
            "ticks": ""
           },
           "bgcolor": "#E5ECF6",
           "radialaxis": {
            "gridcolor": "white",
            "linecolor": "white",
            "ticks": ""
           }
          },
          "scene": {
           "xaxis": {
            "backgroundcolor": "#E5ECF6",
            "gridcolor": "white",
            "gridwidth": 2,
            "linecolor": "white",
            "showbackground": true,
            "ticks": "",
            "zerolinecolor": "white"
           },
           "yaxis": {
            "backgroundcolor": "#E5ECF6",
            "gridcolor": "white",
            "gridwidth": 2,
            "linecolor": "white",
            "showbackground": true,
            "ticks": "",
            "zerolinecolor": "white"
           },
           "zaxis": {
            "backgroundcolor": "#E5ECF6",
            "gridcolor": "white",
            "gridwidth": 2,
            "linecolor": "white",
            "showbackground": true,
            "ticks": "",
            "zerolinecolor": "white"
           }
          },
          "shapedefaults": {
           "line": {
            "color": "#2a3f5f"
           }
          },
          "ternary": {
           "aaxis": {
            "gridcolor": "white",
            "linecolor": "white",
            "ticks": ""
           },
           "baxis": {
            "gridcolor": "white",
            "linecolor": "white",
            "ticks": ""
           },
           "bgcolor": "#E5ECF6",
           "caxis": {
            "gridcolor": "white",
            "linecolor": "white",
            "ticks": ""
           }
          },
          "title": {
           "x": 0.05
          },
          "xaxis": {
           "automargin": true,
           "gridcolor": "white",
           "linecolor": "white",
           "ticks": "",
           "title": {
            "standoff": 15
           },
           "zerolinecolor": "white",
           "zerolinewidth": 2
          },
          "yaxis": {
           "automargin": true,
           "gridcolor": "white",
           "linecolor": "white",
           "ticks": "",
           "title": {
            "standoff": 15
           },
           "zerolinecolor": "white",
           "zerolinewidth": 2
          }
         }
        }
       }
      },
      "text/html": [
       "<div>                            <div id=\"f3c80924-9360-44ad-a0a0-9e2772625ad9\" class=\"plotly-graph-div\" style=\"height:525px; width:100%;\"></div>            <script type=\"text/javascript\">                require([\"plotly\"], function(Plotly) {                    window.PLOTLYENV=window.PLOTLYENV || {};                                    if (document.getElementById(\"f3c80924-9360-44ad-a0a0-9e2772625ad9\")) {                    Plotly.newPlot(                        \"f3c80924-9360-44ad-a0a0-9e2772625ad9\",                        [{\"error_y\":{\"array\":[1.3929227933789854,1.3929227933789854,1.3184193164839395,1.3929227933789854,1.3929227933789854,1.3929227933789854,1.5884187248051644,1.3050202872957926,1.436584234055734,1.436584234055734,1.7041123181343603,1.3926271043659257,1.3926271043659257,1.3926271043659257,1.0723404255319147,1.4277012407125949,1.4277012407125949,1.460480361351754,0.9130550420223728,1.4277012407125949,0.7324942655678881,0.0,0.16,0.0],\"type\":\"data\"},\"name\":\"Cluster 0\",\"x\":[\"BUN\",\"Creatinine\",\"Glucose\",\"HCO3\",\"Na\",\"K\",\"Mg\",\"HCT\",\"Platelets\",\"WBC\",\"FiO2\",\"PaCO2\",\"PaO2\",\"pH\",\"SaO2\",\"ALP\",\"ALT\",\"AST\",\"Albumin\",\"Bilirubin\",\"Lactate\",\"Cholesterol\",\"TroponinI\",\"TroponinT\"],\"y\":[2.867493641110663,2.867493641110663,2.858557470897897,2.867493641110663,2.867493641110663,2.867493641110663,2.5964298113234285,2.94581333560057,2.6814161724800014,2.6814161724800014,0.9929078014184398,1.0923201621073964,1.0923201621073964,1.0923201621073964,0.35744680851063826,2.7397631446567616,2.7397631446567616,2.6886993148695275,1.692750157643775,2.7397631446567616,0.4526038500506586,0.0,0.05333333333333333,0.0],\"type\":\"bar\"},{\"error_y\":{\"array\":[1.0657767096276567,1.1342585365636773,1.063057639554506,1.1285371107298283,1.211578151402704,1.3038304882841307,1.4090951582776337,1.561333677956564,1.938609608219462,1.1555261045920868,3.107339708297268,2.1727423920296656,2.1759257369605822,2.1759257369605822,0.4972134787488196,1.08431729812239,1.0559182993613057,1.0559182993613057,0.8826194665661896,1.0301781858277697,2.0110113666971334,0.0,0.16,1.2137364844867393],\"type\":\"data\"},\"name\":\"Cluster 1\",\"x\":[\"BUN\",\"Creatinine\",\"Glucose\",\"HCO3\",\"Na\",\"K\",\"Mg\",\"HCT\",\"Platelets\",\"WBC\",\"FiO2\",\"PaCO2\",\"PaO2\",\"pH\",\"SaO2\",\"ALP\",\"ALT\",\"AST\",\"Albumin\",\"Bilirubin\",\"Lactate\",\"Cholesterol\",\"TroponinI\",\"TroponinT\"],\"y\":[2.8396572940644966,2.8907211238517307,2.8907211238517307,2.8884516203056316,2.992848783426199,2.989515450092866,2.673797087107114,3.344719072922717,3.2945772289510855,2.7791888073776074,5.998566142460685,4.2760305918292705,4.328204504872749,4.328204504872749,0.6187680083758219,1.2808000774476689,1.3840378202783812,1.3840378202783812,1.182785893050506,1.5434918142116472,2.9840992764379806,0.0,0.05333333333333333,0.8685538082022818],\"type\":\"bar\"}],                        {\"template\":{\"data\":{\"histogram2dcontour\":[{\"type\":\"histogram2dcontour\",\"colorbar\":{\"outlinewidth\":0,\"ticks\":\"\"},\"colorscale\":[[0.0,\"#0d0887\"],[0.1111111111111111,\"#46039f\"],[0.2222222222222222,\"#7201a8\"],[0.3333333333333333,\"#9c179e\"],[0.4444444444444444,\"#bd3786\"],[0.5555555555555556,\"#d8576b\"],[0.6666666666666666,\"#ed7953\"],[0.7777777777777778,\"#fb9f3a\"],[0.8888888888888888,\"#fdca26\"],[1.0,\"#f0f921\"]]}],\"choropleth\":[{\"type\":\"choropleth\",\"colorbar\":{\"outlinewidth\":0,\"ticks\":\"\"}}],\"histogram2d\":[{\"type\":\"histogram2d\",\"colorbar\":{\"outlinewidth\":0,\"ticks\":\"\"},\"colorscale\":[[0.0,\"#0d0887\"],[0.1111111111111111,\"#46039f\"],[0.2222222222222222,\"#7201a8\"],[0.3333333333333333,\"#9c179e\"],[0.4444444444444444,\"#bd3786\"],[0.5555555555555556,\"#d8576b\"],[0.6666666666666666,\"#ed7953\"],[0.7777777777777778,\"#fb9f3a\"],[0.8888888888888888,\"#fdca26\"],[1.0,\"#f0f921\"]]}],\"heatmap\":[{\"type\":\"heatmap\",\"colorbar\":{\"outlinewidth\":0,\"ticks\":\"\"},\"colorscale\":[[0.0,\"#0d0887\"],[0.1111111111111111,\"#46039f\"],[0.2222222222222222,\"#7201a8\"],[0.3333333333333333,\"#9c179e\"],[0.4444444444444444,\"#bd3786\"],[0.5555555555555556,\"#d8576b\"],[0.6666666666666666,\"#ed7953\"],[0.7777777777777778,\"#fb9f3a\"],[0.8888888888888888,\"#fdca26\"],[1.0,\"#f0f921\"]]}],\"heatmapgl\":[{\"type\":\"heatmapgl\",\"colorbar\":{\"outlinewidth\":0,\"ticks\":\"\"},\"colorscale\":[[0.0,\"#0d0887\"],[0.1111111111111111,\"#46039f\"],[0.2222222222222222,\"#7201a8\"],[0.3333333333333333,\"#9c179e\"],[0.4444444444444444,\"#bd3786\"],[0.5555555555555556,\"#d8576b\"],[0.6666666666666666,\"#ed7953\"],[0.7777777777777778,\"#fb9f3a\"],[0.8888888888888888,\"#fdca26\"],[1.0,\"#f0f921\"]]}],\"contourcarpet\":[{\"type\":\"contourcarpet\",\"colorbar\":{\"outlinewidth\":0,\"ticks\":\"\"}}],\"contour\":[{\"type\":\"contour\",\"colorbar\":{\"outlinewidth\":0,\"ticks\":\"\"},\"colorscale\":[[0.0,\"#0d0887\"],[0.1111111111111111,\"#46039f\"],[0.2222222222222222,\"#7201a8\"],[0.3333333333333333,\"#9c179e\"],[0.4444444444444444,\"#bd3786\"],[0.5555555555555556,\"#d8576b\"],[0.6666666666666666,\"#ed7953\"],[0.7777777777777778,\"#fb9f3a\"],[0.8888888888888888,\"#fdca26\"],[1.0,\"#f0f921\"]]}],\"surface\":[{\"type\":\"surface\",\"colorbar\":{\"outlinewidth\":0,\"ticks\":\"\"},\"colorscale\":[[0.0,\"#0d0887\"],[0.1111111111111111,\"#46039f\"],[0.2222222222222222,\"#7201a8\"],[0.3333333333333333,\"#9c179e\"],[0.4444444444444444,\"#bd3786\"],[0.5555555555555556,\"#d8576b\"],[0.6666666666666666,\"#ed7953\"],[0.7777777777777778,\"#fb9f3a\"],[0.8888888888888888,\"#fdca26\"],[1.0,\"#f0f921\"]]}],\"mesh3d\":[{\"type\":\"mesh3d\",\"colorbar\":{\"outlinewidth\":0,\"ticks\":\"\"}}],\"scatter\":[{\"fillpattern\":{\"fillmode\":\"overlay\",\"size\":10,\"solidity\":0.2},\"type\":\"scatter\"}],\"parcoords\":[{\"type\":\"parcoords\",\"line\":{\"colorbar\":{\"outlinewidth\":0,\"ticks\":\"\"}}}],\"scatterpolargl\":[{\"type\":\"scatterpolargl\",\"marker\":{\"colorbar\":{\"outlinewidth\":0,\"ticks\":\"\"}}}],\"bar\":[{\"error_x\":{\"color\":\"#2a3f5f\"},\"error_y\":{\"color\":\"#2a3f5f\"},\"marker\":{\"line\":{\"color\":\"#E5ECF6\",\"width\":0.5},\"pattern\":{\"fillmode\":\"overlay\",\"size\":10,\"solidity\":0.2}},\"type\":\"bar\"}],\"scattergeo\":[{\"type\":\"scattergeo\",\"marker\":{\"colorbar\":{\"outlinewidth\":0,\"ticks\":\"\"}}}],\"scatterpolar\":[{\"type\":\"scatterpolar\",\"marker\":{\"colorbar\":{\"outlinewidth\":0,\"ticks\":\"\"}}}],\"histogram\":[{\"marker\":{\"pattern\":{\"fillmode\":\"overlay\",\"size\":10,\"solidity\":0.2}},\"type\":\"histogram\"}],\"scattergl\":[{\"type\":\"scattergl\",\"marker\":{\"colorbar\":{\"outlinewidth\":0,\"ticks\":\"\"}}}],\"scatter3d\":[{\"type\":\"scatter3d\",\"line\":{\"colorbar\":{\"outlinewidth\":0,\"ticks\":\"\"}},\"marker\":{\"colorbar\":{\"outlinewidth\":0,\"ticks\":\"\"}}}],\"scattermapbox\":[{\"type\":\"scattermapbox\",\"marker\":{\"colorbar\":{\"outlinewidth\":0,\"ticks\":\"\"}}}],\"scatterternary\":[{\"type\":\"scatterternary\",\"marker\":{\"colorbar\":{\"outlinewidth\":0,\"ticks\":\"\"}}}],\"scattercarpet\":[{\"type\":\"scattercarpet\",\"marker\":{\"colorbar\":{\"outlinewidth\":0,\"ticks\":\"\"}}}],\"carpet\":[{\"aaxis\":{\"endlinecolor\":\"#2a3f5f\",\"gridcolor\":\"white\",\"linecolor\":\"white\",\"minorgridcolor\":\"white\",\"startlinecolor\":\"#2a3f5f\"},\"baxis\":{\"endlinecolor\":\"#2a3f5f\",\"gridcolor\":\"white\",\"linecolor\":\"white\",\"minorgridcolor\":\"white\",\"startlinecolor\":\"#2a3f5f\"},\"type\":\"carpet\"}],\"table\":[{\"cells\":{\"fill\":{\"color\":\"#EBF0F8\"},\"line\":{\"color\":\"white\"}},\"header\":{\"fill\":{\"color\":\"#C8D4E3\"},\"line\":{\"color\":\"white\"}},\"type\":\"table\"}],\"barpolar\":[{\"marker\":{\"line\":{\"color\":\"#E5ECF6\",\"width\":0.5},\"pattern\":{\"fillmode\":\"overlay\",\"size\":10,\"solidity\":0.2}},\"type\":\"barpolar\"}],\"pie\":[{\"automargin\":true,\"type\":\"pie\"}]},\"layout\":{\"autotypenumbers\":\"strict\",\"colorway\":[\"#636efa\",\"#EF553B\",\"#00cc96\",\"#ab63fa\",\"#FFA15A\",\"#19d3f3\",\"#FF6692\",\"#B6E880\",\"#FF97FF\",\"#FECB52\"],\"font\":{\"color\":\"#2a3f5f\"},\"hovermode\":\"closest\",\"hoverlabel\":{\"align\":\"left\"},\"paper_bgcolor\":\"white\",\"plot_bgcolor\":\"#E5ECF6\",\"polar\":{\"bgcolor\":\"#E5ECF6\",\"angularaxis\":{\"gridcolor\":\"white\",\"linecolor\":\"white\",\"ticks\":\"\"},\"radialaxis\":{\"gridcolor\":\"white\",\"linecolor\":\"white\",\"ticks\":\"\"}},\"ternary\":{\"bgcolor\":\"#E5ECF6\",\"aaxis\":{\"gridcolor\":\"white\",\"linecolor\":\"white\",\"ticks\":\"\"},\"baxis\":{\"gridcolor\":\"white\",\"linecolor\":\"white\",\"ticks\":\"\"},\"caxis\":{\"gridcolor\":\"white\",\"linecolor\":\"white\",\"ticks\":\"\"}},\"coloraxis\":{\"colorbar\":{\"outlinewidth\":0,\"ticks\":\"\"}},\"colorscale\":{\"sequential\":[[0.0,\"#0d0887\"],[0.1111111111111111,\"#46039f\"],[0.2222222222222222,\"#7201a8\"],[0.3333333333333333,\"#9c179e\"],[0.4444444444444444,\"#bd3786\"],[0.5555555555555556,\"#d8576b\"],[0.6666666666666666,\"#ed7953\"],[0.7777777777777778,\"#fb9f3a\"],[0.8888888888888888,\"#fdca26\"],[1.0,\"#f0f921\"]],\"sequentialminus\":[[0.0,\"#0d0887\"],[0.1111111111111111,\"#46039f\"],[0.2222222222222222,\"#7201a8\"],[0.3333333333333333,\"#9c179e\"],[0.4444444444444444,\"#bd3786\"],[0.5555555555555556,\"#d8576b\"],[0.6666666666666666,\"#ed7953\"],[0.7777777777777778,\"#fb9f3a\"],[0.8888888888888888,\"#fdca26\"],[1.0,\"#f0f921\"]],\"diverging\":[[0,\"#8e0152\"],[0.1,\"#c51b7d\"],[0.2,\"#de77ae\"],[0.3,\"#f1b6da\"],[0.4,\"#fde0ef\"],[0.5,\"#f7f7f7\"],[0.6,\"#e6f5d0\"],[0.7,\"#b8e186\"],[0.8,\"#7fbc41\"],[0.9,\"#4d9221\"],[1,\"#276419\"]]},\"xaxis\":{\"gridcolor\":\"white\",\"linecolor\":\"white\",\"ticks\":\"\",\"title\":{\"standoff\":15},\"zerolinecolor\":\"white\",\"automargin\":true,\"zerolinewidth\":2},\"yaxis\":{\"gridcolor\":\"white\",\"linecolor\":\"white\",\"ticks\":\"\",\"title\":{\"standoff\":15},\"zerolinecolor\":\"white\",\"automargin\":true,\"zerolinewidth\":2},\"scene\":{\"xaxis\":{\"backgroundcolor\":\"#E5ECF6\",\"gridcolor\":\"white\",\"linecolor\":\"white\",\"showbackground\":true,\"ticks\":\"\",\"zerolinecolor\":\"white\",\"gridwidth\":2},\"yaxis\":{\"backgroundcolor\":\"#E5ECF6\",\"gridcolor\":\"white\",\"linecolor\":\"white\",\"showbackground\":true,\"ticks\":\"\",\"zerolinecolor\":\"white\",\"gridwidth\":2},\"zaxis\":{\"backgroundcolor\":\"#E5ECF6\",\"gridcolor\":\"white\",\"linecolor\":\"white\",\"showbackground\":true,\"ticks\":\"\",\"zerolinecolor\":\"white\",\"gridwidth\":2}},\"shapedefaults\":{\"line\":{\"color\":\"#2a3f5f\"}},\"annotationdefaults\":{\"arrowcolor\":\"#2a3f5f\",\"arrowhead\":0,\"arrowwidth\":1},\"geo\":{\"bgcolor\":\"white\",\"landcolor\":\"#E5ECF6\",\"subunitcolor\":\"white\",\"showland\":true,\"showlakes\":true,\"lakecolor\":\"white\"},\"title\":{\"x\":0.05},\"mapbox\":{\"style\":\"light\"}}}},                        {\"responsive\": true}                    ).then(function(){\n",
       "                            \n",
       "var gd = document.getElementById('f3c80924-9360-44ad-a0a0-9e2772625ad9');\n",
       "var x = new MutationObserver(function (mutations, observer) {{\n",
       "        var display = window.getComputedStyle(gd).display;\n",
       "        if (!display || display === 'none') {{\n",
       "            console.log([gd, 'removed!']);\n",
       "            Plotly.purge(gd);\n",
       "            observer.disconnect();\n",
       "        }}\n",
       "}});\n",
       "\n",
       "// Listen for the removal of the full notebook cells\n",
       "var notebookContainer = gd.closest('#notebook-container');\n",
       "if (notebookContainer) {{\n",
       "    x.observe(notebookContainer, {childList: true});\n",
       "}}\n",
       "\n",
       "// Listen for the clearing of the current output cell\n",
       "var outputEl = gd.closest('.output');\n",
       "if (outputEl) {{\n",
       "    x.observe(outputEl, {childList: true});\n",
       "}}\n",
       "\n",
       "                        })                };                });            </script>        </div>"
      ]
     },
     "metadata": {},
     "output_type": "display_data"
    }
   ],
   "source": [
    "\n",
    "clusters = [\n",
    "\n",
    "[1836, 48, 1879, 287, 1528, 509, 72, 978, 274, 1296],\n",
    "\n",
    "[1836, 1506, 138, 516, 497, 981, 573, 1129, 90, 1693],\n",
    "\n",
    "\n",
    "\n",
    "]\n",
    "\n",
    "\n",
    "\n",
    "\n",
    "fig2 = go.Figure()\n",
    "for i_c, cluster in enumerate(clusters):\n",
    "    list_summary = []\n",
    "    for i in cluster:\n",
    "        vector = res[i].sum(1)/res[i].shape[1]*24\n",
    "        list_summary.append(vector)\n",
    "\n",
    "    vec_mean = np.mean(list_summary,axis=0)\n",
    "    vec_std = np.std(list_summary,axis=0)\n",
    "\n",
    "\n",
    "    \n",
    "    _ = fig2.add_trace(go.Bar(\n",
    "        name=f'Cluster {i_c}',\n",
    "        x=list(res_labels), y=vec_mean,\n",
    "        error_y=dict(type='data', array=vec_std)\n",
    "    ))\n",
    "\n",
    "fig2.show()"
   ]
  },
  {
   "attachments": {},
   "cell_type": "markdown",
   "metadata": {},
   "source": [
    "## K nearest"
   ]
  },
  {
   "cell_type": "code",
   "execution_count": 66,
   "metadata": {},
   "outputs": [
    {
     "data": {
      "text/plain": [
       "-8.410063"
      ]
     },
     "execution_count": 66,
     "metadata": {},
     "output_type": "execute_result"
    },
    {
     "data": {
      "text/plain": [
       "19.656166"
      ]
     },
     "execution_count": 66,
     "metadata": {},
     "output_type": "execute_result"
    },
    {
     "data": {
      "text/plain": [
       "[1836, 1506, 138, 516, 497, 981, 573, 1129, 90, 1693]"
      ]
     },
     "execution_count": 66,
     "metadata": {},
     "output_type": "execute_result"
    }
   ],
   "source": [
    "id_origin = 1836            # 1836 792 1718 1532\n",
    "n_knn = 10\n",
    "\n",
    "\n",
    "x0 = df.iloc[id_origin]['x']\n",
    "y0 = df.iloc[id_origin]['y']\n",
    "x0\n",
    "y0\n",
    "\n",
    "\n",
    "df['r'] = df.apply(lambda row: ( (row['x']-x0)**2 + (row['y']-y0)**2  ), axis=1)\n",
    "\n",
    "# df.nsmallest(n_knn,'r')\n",
    "\n",
    "list(df.nsmallest(n_knn,'r').index)"
   ]
  }
 ],
 "metadata": {
  "kernelspec": {
   "display_name": "paper2022",
   "language": "python",
   "name": "python3"
  },
  "language_info": {
   "codemirror_mode": {
    "name": "ipython",
    "version": 3
   },
   "file_extension": ".py",
   "mimetype": "text/x-python",
   "name": "python",
   "nbconvert_exporter": "python",
   "pygments_lexer": "ipython3",
   "version": "3.9.7"
  },
  "orig_nbformat": 4,
  "vscode": {
   "interpreter": {
    "hash": "ca5b395ee1d8a1cd2783c3fccc5aaaf2f1d95e614c8b133e284cded792af89cd"
   }
  }
 },
 "nbformat": 4,
 "nbformat_minor": 2
}
